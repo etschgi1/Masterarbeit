{
 "cells": [
  {
   "cell_type": "code",
   "execution_count": 18,
   "metadata": {},
   "outputs": [],
   "source": [
    "import logging\n",
    "import matplotlib.pyplot as plt\n",
    "from pyscf import gto, scf\n",
    "import numpy as np"
   ]
  },
  {
   "cell_type": "code",
   "execution_count": 19,
   "metadata": {},
   "outputs": [],
   "source": [
    "def f_score(S, final, initial) -> float:\n",
    "    Da_guess, Db_guess = initial, initial\n",
    "    Da_ref, Db_ref = final, final\n",
    "\n",
    "    Q = lambda P_guess, P_ref: np.sum(P_guess * (S @ P_ref @ S))\n",
    "    N = lambda P_ref: np.sum(P_ref * S)\n",
    "\n",
    "    numerator = Q(Da_guess, Da_ref) + Q(Db_guess, Db_ref)\n",
    "    denominator = N(Da_ref) + N(Db_ref)\n",
    "\n",
    "    return numerator / denominator"
   ]
  },
  {
   "cell_type": "code",
   "execution_count": 20,
   "metadata": {},
   "outputs": [],
   "source": [
    "# Try turning symmetry on and off\n",
    "mol = gto.M(\n",
    "    atom=\"geometries/ch.xyz\",\n",
    "    basis=\"pcseg-0\",\n",
    "    spin=1,\n",
    "    symmetry=False,\n",
    ")"
   ]
  },
  {
   "cell_type": "code",
   "execution_count": 21,
   "metadata": {},
   "outputs": [
    {
     "name": "stdout",
     "output_type": "stream",
     "text": [
      "converged SCF energy = -38.1618918855385  <S^2> = 0.75290898  2S+1 = 2.0029069\n",
      "tol 0.0001  toloose 0.01\n",
      "max_cycle 50  max_space 20  max_memory 4000  incore True\n",
      "davidson 0 1  |r|=  1.5  e= [1.09567011]  max|de|=  1.1  lindep= 0.978\n",
      "Old state -> New state\n",
      "    0     ->     1 \n",
      "davidson 1 2  |r|= 1.52  e= [0.27949306 1.14687766]  max|de|= 0.279  lindep= 0.884\n",
      "Old state -> New state\n",
      "    1     ->     0 \n",
      "    0     ->     1 \n",
      "    1     ->     2 \n",
      "davidson 2 4  |r|= 1.15  e= [0.22635788 0.25861746 1.7892375 ]  max|de|= 1.79  lindep= 0.91\n",
      "davidson 3 7  |r|= 1.14  e= [0.0320665  0.25182127 0.37121027]  max|de|= 0.371  lindep= 0.868\n",
      "Old state -> New state\n",
      "    2     ->     1 \n",
      "    1     ->     2 \n",
      "davidson 4 10  |r|= 0.821  e= [-0.00048169  0.04599483  0.25402418]  max|de|= -0.325  lindep= 0.609\n",
      "Old state -> New state\n",
      "    1     ->     0 \n",
      "    0     ->     1 \n",
      "davidson 5 13  |r|= 0.0908  e= [-6.39183033e-02  1.40826745e-04  2.53312327e-01]  max|de|= -0.11  lindep= 0.889\n",
      "root 2 converged  |r|= 0.0076  e= 0.25326082079941914  max|de|= -5.15e-05\n",
      "davidson 6 16  |r|= 0.023  e= [-6.61702693e-02  8.02266719e-06  2.53260821e-01]  max|de|= -0.00225  lindep= 0.834\n",
      "root 0 converged  |r|= 0.00422  e= -0.06623334915591324  max|de|= -6.31e-05\n",
      "root 1 converged  |r|= 0.00133  e= 2.909434922288012e-07  max|de|= -7.73e-06\n",
      "converged 7 18  |r|= 0.00422  e= [-6.62333492e-02  2.90943492e-07  2.53253544e-01]  max|de|= -6.31e-05\n",
      "uhf_internal: lowest eigs of H = [-6.62333492e-02  2.90943492e-07  2.53253544e-01]\n",
      "<class 'pyscf.scf.uhf.UHF'> wavefunction has an internal instability\n",
      "converged SCF energy = -38.1647551045039  <S^2> = 1.0693562  2S+1 = 2.2972646\n",
      "tol 0.0001  toloose 0.01\n",
      "max_cycle 50  max_space 20  max_memory 4000  incore True\n",
      "davidson 0 1  |r|=  1.5  e= [1.13311085]  max|de|= 1.13  lindep= 0.986\n",
      "Old state -> New state\n",
      "    0     ->     1 \n",
      "davidson 1 2  |r|= 1.53  e= [0.29960744 1.15613887]  max|de|=  0.3  lindep= 0.881\n",
      "Old state -> New state\n",
      "    0     ->     1 \n",
      "    1     ->     2 \n",
      "davidson 2 4  |r|= 1.05  e= [0.1332067  0.35496602 0.9115103 ]  max|de|= 0.912  lindep= 0.856\n",
      "Old state -> New state\n",
      "    2     ->     1 \n",
      "    1     ->     2 \n",
      "davidson 3 7  |r|= 0.438  e= [0.00615696 0.29837096 0.31309338]  max|de|= -0.613  lindep= 0.862\n",
      "davidson 4 10  |r|= 0.114  e= [0.0006178  0.26642478 0.31080673]  max|de|= -0.0319  lindep= 0.859\n",
      "davidson 5 13  |r|= 0.319  e= [1.65387385e-04 2.37584603e-01 3.06124613e-01]  max|de|= -0.0288  lindep= 0.823\n",
      "Old state -> New state\n",
      "    1     ->     2 \n",
      "davidson 6 16  |r|= 0.25  e= [1.69386549e-05 1.30371003e-01 2.72301587e-01]  max|de|= -0.107  lindep= 0.904\n",
      "root 0 converged  |r|= 0.0029  e= 1.032731947525401e-06  max|de|= -1.59e-05\n",
      "davidson 7 19  |r|= 0.0901  e= [1.03273195e-06 1.19334962e-01 2.70765982e-01]  max|de|= -0.011  lindep= 0.639\n",
      "davidson 8 3  |r|= 0.0901  e= [1.03273195e-06 1.19334962e-01 2.70765982e-01]  max|de|= -1.86e-15  lindep= 0.999\n",
      "davidson 9 5  |r|= 0.0232  e= [2.53029212e-07 1.18518369e-01 2.70600470e-01]  max|de|= -0.000817  lindep= 0.612\n",
      "root 1 converged  |r|= 0.00529  e= 0.11842802445819468  max|de|= -9.03e-05\n",
      "root 2 converged  |r|= 0.00309  e= 0.27057222972247813  max|de|= -2.82e-05\n",
      "converged 10 7  |r|= 0.00529  e= [2.10003698e-07 1.18428024e-01 2.70572230e-01]  max|de|= -9.03e-05\n",
      "uhf_internal: lowest eigs of H = [2.10003698e-07 1.18428024e-01 2.70572230e-01]\n",
      "<class 'pyscf.scf.uhf.UHF'> wavefunction is stable in the internal stability analysis\n"
     ]
    }
   ],
   "source": [
    "mf = scf.UHF(mol).run()\n",
    "\n",
    "init_dm = mf.get_init_guess(key=\"hcore\")\n",
    "S = mf.get_ovlp()\n",
    "\n",
    "# Run SCF\n",
    "# mf.kernel()\n",
    "# Run stability analysis for the SCF wave function\n",
    "mo1, _, stable, _ = mf.stability(verbose=logging.INFO, return_status=True)\n",
    "while not stable:\n",
    "    dm1 = mf.make_rdm1(mo1, mf.mo_occ)\n",
    "    mf = mf.run(dm1)\n",
    "    mo1, _, stable, _ = mf.stability(verbose=logging.INFO, return_status=True)\n",
    "\n",
    "conv_dm = mf.make_rdm1()\n",
    "if mol.spin == 0:\n",
    "    conv_dm /= 2\n",
    "    init_dm /= 2"
   ]
  },
  {
   "cell_type": "code",
   "execution_count": 22,
   "metadata": {},
   "outputs": [
    {
     "name": "stdout",
     "output_type": "stream",
     "text": [
      "converged SCF energy = -38.1618918855385  <S^2> = 0.75290898  2S+1 = 2.0029069\n",
      "converged SCF energy = -38.1647551045053  <S^2> = 1.0693538  2S+1 = 2.2972625\n"
     ]
    }
   ],
   "source": [
    "mf2 = scf.UHF(mol).run()\n",
    "mo2, _, stable, _ = mf2.stability(verbose=logging.NOTSET, return_status=True)\n",
    "while not stable:\n",
    "    mf = mf2.run(mf2.make_rdm1(mo2, mf2.mo_occ))\n",
    "    mo2, _, stable, _ = mf2.stability(verbose=logging.NOTSET, return_status=True)\n",
    "conv_dm2 = mf2.make_rdm1()"
   ]
  },
  {
   "cell_type": "code",
   "execution_count": 23,
   "metadata": {},
   "outputs": [
    {
     "data": {
      "text/plain": [
       "<matplotlib.colorbar.Colorbar at 0x7f8b7c20ca10>"
      ]
     },
     "execution_count": 23,
     "metadata": {},
     "output_type": "execute_result"
    },
    {
     "data": {
      "image/png": "[encoded data removed]",
      "text/plain": [
       "<Figure size 640x480 with 2 Axes>"
      ]
     },
     "metadata": {},
     "output_type": "display_data"
    }
   ],
   "source": [
    "fig, axes = plt.subplots(ncols=1)\n",
    "\n",
    "p = axes.pcolormesh(conv_dm2[0] - conv_dm[0], cmap=\"bwr\")\n",
    "plt.colorbar(p)"
   ]
  },
  {
   "cell_type": "code",
   "execution_count": 24,
   "metadata": {},
   "outputs": [],
   "source": [
    "# print(f_score(S, conv_dm[0], init_dm[0], conv_dm[1], init_dm[1]))\n",
    "# print(f_score(S, conv_dm2[0], init_dm[0], conv_dm2[1], init_dm[1]))"
   ]
  },
  {
   "cell_type": "code",
   "execution_count": null,
   "metadata": {},
   "outputs": [],
   "source": []
  }
 ],
 "metadata": {
  "kernelspec": {
   "display_name": "base",
   "language": "python",
   "name": "python3"
  },
  "language_info": {
   "codemirror_mode": {
    "name": "ipython",
    "version": 3
   },
   "file_extension": ".py",
   "mimetype": "text/x-python",
   "name": "python",
   "nbconvert_exporter": "python",
   "pygments_lexer": "ipython3",
   "version": "3.12.2"
  }
 },
 "nbformat": 4,
 "nbformat_minor": 2
}
