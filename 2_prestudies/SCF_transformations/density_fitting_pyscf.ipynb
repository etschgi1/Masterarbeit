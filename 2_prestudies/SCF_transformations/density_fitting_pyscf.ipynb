{
 "cells": [
  {
   "cell_type": "code",
   "execution_count": 67,
   "metadata": {},
   "outputs": [],
   "source": [
    "import pyscf\n",
    "import numpy as np\n",
    "import matplotlib.pyplot as plt\n",
    "from pyscf import lib, df\n",
    "lib.param.MAX_MEMORY = 8000"
   ]
  },
  {
   "cell_type": "code",
   "execution_count": 64,
   "metadata": {},
   "outputs": [
    {
     "name": "stdout",
     "output_type": "stream",
     "text": [
      "System: uname_result(system='Linux', node='Deep-Thought', release='5.15.167.4-microsoft-standard-WSL2', version='#1 SMP Tue Nov 5 00:21:55 UTC 2024', machine='x86_64')  Threads 24\n",
      "Python 3.12.2 | packaged by conda-forge | (main, Feb 16 2024, 20:50:58) [GCC 12.3.0]\n",
      "numpy 2.1.2  scipy 1.14.1  h5py 3.13.0\n",
      "Date: Fri Mar  7 12:18:17 2025\n",
      "PySCF version 2.8.0\n",
      "PySCF path  /home/etschgi1/miniconda3/envs/scf_dev/lib/python3.12/site-packages/pyscf\n",
      "\n",
      "[CONFIG] conf_file None\n",
      "[INPUT] verbose = 4\n",
      "[INPUT] num. atoms = 3\n",
      "[INPUT] num. electrons = 10\n",
      "[INPUT] charge = 0\n",
      "[INPUT] spin (= nelec alpha-beta = 2S) = 0\n",
      "[INPUT] symmetry False subgroup None\n",
      "[INPUT] Mole.unit = angstrom\n",
      "[INPUT] Symbol           X                Y                Z      unit          X                Y                Z       unit  Magmom\n",
      "[INPUT]  1 O      0.000000000000   0.000000000000   0.000000000000 AA    0.000000000000   0.000000000000   0.000000000000 Bohr   0.0\n",
      "[INPUT]  2 H      0.960000000000   0.000000000000   0.000000000000 AA    1.814137079582   0.000000000000   0.000000000000 Bohr   0.0\n",
      "[INPUT]  3 H     -0.240364803892   0.000000000000   0.929421734763 AA   -0.454223649341   0.000000000000   1.756352532920 Bohr   0.0\n",
      "\n",
      "nuclear repulsion = 9.16819330075569\n",
      "number of shells = 7\n",
      "number of NR pGTOs = 39\n",
      "number of NR cGTOs = 24\n",
      "basis = pcseg-1\n",
      "ecp = {}\n",
      "CPU time:       110.28\n",
      "Initial guess from superposition of atomic densities.\n",
      "Spherically averaged atomic HF for {'H', 'O'}\n",
      "\n",
      "\n",
      "******** <class 'pyscf.scf.atom_hf.AtomSphAverageRHF'> ********\n",
      "method = AtomSphAverageRHF\n",
      "initial guess = minao\n",
      "damping factor = 0\n",
      "level_shift factor = 0\n",
      "DIIS = <class 'pyscf.scf.diis.CDIIS'>\n",
      "diis_start_cycle = 1\n",
      "diis_space = 8\n",
      "diis_damp = 0\n",
      "SCF conv_tol = 1e-09\n",
      "SCF conv_tol_grad = None\n",
      "SCF max_cycles = 50\n",
      "direct_scf = True\n",
      "direct_scf_tol = 1e-13\n",
      "chkfile to save SCF result = /tmp/tmpa4zlczzx\n",
      "max_memory 4000 MB (current use 565 MB)\n",
      "atom = O\n",
      "Set gradient conv threshold to 3.16228e-05\n",
      "Initial guess from minao.\n",
      "init E= -74.2286784464881\n",
      "cycle= 1 E= -74.2459873964555  delta_E= -0.0173  |g|=    0  |ddm|= 0.185\n",
      "cycle= 2 E= -74.2472558428888  delta_E= -0.00127  |g|=    0  |ddm|= 0.086\n",
      "cycle= 3 E= -74.2475580536142  delta_E= -0.000302  |g|=    0  |ddm|= 0.0252\n",
      "cycle= 4 E= -74.247561677664  delta_E= -3.62e-06  |g|=    0  |ddm|= 0.00415\n",
      "cycle= 5 E= -74.2475616776649  delta_E= -8.24e-13  |g|=    0  |ddm|= 2.23e-06\n",
      "Extra cycle  E= -74.2475616776649  delta_E= -4.26e-14  |g|=    0  |ddm|= 4.22e-07\n",
      "Atomic HF for atom  O  converged. SCF energy = -74.2475616776649\n",
      "\n",
      "\n",
      "\n",
      "******** 1 electron system ********\n",
      "Atomic HF for atom  H  converged. SCF energy = -0.498590210892606\n",
      "\n",
      "\n",
      "\n",
      "******** <class 'pyscf.df.df_jk.DFRHF'> ********\n",
      "method = DFRHF\n",
      "initial guess = atom\n",
      "damping factor = 0\n",
      "level_shift factor = 0\n",
      "DIIS = <class 'pyscf.scf.diis.CDIIS'>\n",
      "diis_start_cycle = 1\n",
      "diis_space = 8\n",
      "diis_damp = 0\n",
      "SCF conv_tol = 1e-10\n",
      "SCF conv_tol_grad = 1e-08\n",
      "SCF max_cycles = 50\n",
      "direct_scf = False\n",
      "chkfile to save SCF result = /tmp/tmpm1qc93zr\n",
      "max_memory 4000 MB (current use 565 MB)\n",
      "******** <class 'pyscf.df.df.DF'> ********\n",
      "auxbasis = None\n",
      "max_memory = 4000\n",
      "ETB for H: l = 0, exps = 0.2122 * 2^n , n = 0..6\n",
      "ETB for H: l = 1, exps = 0.6514598989960932 * 2^n , n = 0..3\n",
      "ETB for H: l = 2, exps = 2.0 * 2^n , n = 0..0\n",
      "ETB for O: l = 0, exps = 0.570254 * 2^n , n = 0..12\n",
      "ETB for O: l = 1, exps = 0.5285241540289337 * 2^n , n = 0..9\n",
      "ETB for O: l = 2, exps = 0.489848 * 2^n , n = 0..7\n",
      "ETB for O: l = 3, exps = 0.9897959385651166 * 2^n , n = 0..3\n",
      "ETB for O: l = 4, exps = 2.0 * 2^n , n = 0..0\n",
      "\n",
      "WARN: Even tempered Gaussians are generated as DF auxbasis for  H O\n",
      "\n",
      "init E= -75.8974854587343\n",
      "  HOMO = -0.526220428318997  LUMO = 0.0573320932060559\n",
      "cycle= 1 E= -75.9511221987234  delta_E= -0.0536  |g|= 0.529  |ddm|= 1.36\n",
      "  HOMO = -0.402837328049842  LUMO = 0.163664252768521\n",
      "cycle= 2 E= -75.987855012993  delta_E= -0.0367  |g|= 0.299  |ddm|= 0.462\n",
      "  HOMO = -0.508874035003598  LUMO = 0.154422456301902\n",
      "cycle= 3 E= -76.0033635721626  delta_E= -0.0155  |g|= 0.0258  |ddm|= 0.174\n",
      "  HOMO = -0.502809446458598  LUMO = 0.159028947394026\n",
      "cycle= 4 E= -76.0035659520148  delta_E= -0.000202  |g|= 0.00568  |ddm|= 0.0213\n",
      "  HOMO = -0.504144067941883  LUMO = 0.158932893770582\n",
      "cycle= 5 E= -76.0035796644246  delta_E= -1.37e-05  |g|= 0.000988  |ddm|= 0.00661\n",
      "  HOMO = -0.504463466896347  LUMO = 0.158873480301441\n",
      "cycle= 6 E= -76.0035801931008  delta_E= -5.29e-07  |g|= 0.000185  |ddm|= 0.00146\n",
      "  HOMO = -0.504513250639239  LUMO = 0.158868430414636\n",
      "cycle= 7 E= -76.0035802130971  delta_E= -2e-08  |g|= 1.91e-05  |ddm|= 0.000338\n",
      "  HOMO = -0.504510224404768  LUMO = 0.158867445048733\n",
      "cycle= 8 E= -76.0035802133151  delta_E= -2.18e-10  |g|= 4.65e-06  |ddm|= 3.14e-05\n",
      "  HOMO = -0.504508863817875  LUMO = 0.158867445609111\n",
      "cycle= 9 E= -76.003580213331  delta_E= -1.6e-11  |g|= 6.44e-07  |ddm|= 9.64e-06\n",
      "  HOMO = -0.504508757391789  LUMO = 0.158867388162555\n",
      "cycle= 10 E= -76.0035802133312  delta_E= -1.99e-13  |g|= 5.29e-08  |ddm|= 1.34e-06\n",
      "  HOMO = -0.504508753315615  LUMO = 0.158867382636813\n",
      "cycle= 11 E= -76.0035802133313  delta_E= -2.84e-14  |g|= 1.01e-08  |ddm|= 1.06e-07\n",
      "  HOMO = -0.504508753815206  LUMO = 0.158867382528012\n",
      "cycle= 12 E= -76.0035802133313  delta_E= -2.84e-14  |g|= 6.99e-09  |ddm|= 3.89e-09\n",
      "  HOMO = -0.504508756997328  LUMO = 0.158867381759698\n",
      "Extra cycle  E= -76.0035802133313  delta_E= 2.84e-14  |g|= 3.17e-09  |ddm|= 6.11e-09\n",
      "converged SCF energy = -76.0035802133313\n"
     ]
    }
   ],
   "source": [
    "mol = pyscf.gto.Mole()\n",
    "mol.atom = \"\"\"\n",
    "O\n",
    "H 1 0.96\n",
    "H 1 0.96 2 104.5\n",
    "\"\"\"\n",
    "mol.symmetry = False\n",
    "mol.basis = 'pcseg-1'\n",
    "mol.verbose = 4\n",
    "mol.build()\n",
    "\n",
    "mf = pyscf.scf.RHF(mol).density_fit()\n",
    "mf.conv_tol = 1e-10\n",
    "mf.conv_tol_grad = 1e-8\n",
    "mf.init_guess = 'atom'\n",
    "\n",
    "D_guess = mf.get_init_guess(mol, key='atom')\n",
    "\n",
    "mf.kernel(dm0=D_guess)\n",
    "\n",
    "# get density matrix\n",
    "D_pq = mf.make_rdm1()\n"
   ]
  },
  {
   "cell_type": "markdown",
   "metadata": {},
   "source": [
    "The difference in energy between psi4 and pyscf gets smaller if pyscf runs without .density_fit()"
   ]
  },
  {
   "cell_type": "code",
   "execution_count": 65,
   "metadata": {},
   "outputs": [
    {
     "data": {
      "text/plain": [
       "Text(0.5, 1.0, 'Converged density')"
      ]
     },
     "execution_count": 65,
     "metadata": {},
     "output_type": "execute_result"
    },
    {
     "data": {
      "image/png": "[encoded data removed]",
      "text/plain": [
       "<Figure size 800x400 with 2 Axes>"
      ]
     },
     "metadata": {},
     "output_type": "display_data"
    }
   ],
   "source": [
    "fig, ax = plt.subplots(figsize=(8, 4), ncols=2)\n",
    "\n",
    "ax[0].pcolormesh(D_guess, cmap=\"bwr\", vmin=-1.1, vmax=1.1)\n",
    "ax[0].set_title(\"Guess density\")\n",
    "ax[1].pcolormesh(D_pq, cmap=\"bwr\", vmin=-1.1, vmax=1.1)\n",
    "ax[1].set_title(\"Converged density\")"
   ]
  },
  {
   "cell_type": "code",
   "execution_count": 66,
   "metadata": {},
   "outputs": [
    {
     "name": "stdout",
     "output_type": "stream",
     "text": [
      "Total energy difference:  6.0276519548096985e-05\n"
     ]
    },
    {
     "data": {
      "image/png": "[encoded data removed]",
      "text/plain": [
       "<Figure size 1000x400 with 4 Axes>"
      ]
     },
     "metadata": {},
     "output_type": "display_data"
    }
   ],
   "source": [
    "# get psi4 ref\n",
    "import pickle\n",
    "with open('data/psi4_density.pkl', 'rb') as f:\n",
    "    psi4_e = pickle.load(f)\n",
    "    psi4_D = pickle.load(f)\n",
    "    psi4_D_guess = pickle.load(f)\n",
    "\n",
    "\n",
    "eps = 1e-10\n",
    "\n",
    "delta_e = np.abs(mf.e_tot - psi4_e)\n",
    "delta_D =  100* (D_pq - psi4_D) / (D_pq+eps)\n",
    "delta_D_guess = 100*(D_guess - psi4_D_guess) / (D_guess+eps)\n",
    "\n",
    "print(\"Total energy difference: \", delta_e)\n",
    "fig, ax = plt.subplots(figsize=(10, 4), ncols=4, width_ratios=[1, 0.05, 1, 0.05])\n",
    "ax[0].pcolormesh(delta_D_guess, cmap=\"bwr\")\n",
    "ax[0].set_title(\"Guess density difference (%)\")\n",
    "plt.colorbar(ax[0].pcolormesh(delta_D_guess, cmap=\"bwr\"), cax=ax[1])\n",
    "ax[2].pcolormesh(delta_D, cmap=\"bwr\")\n",
    "ax[2].set_title(\"Converged density difference (%)\")\n",
    "plt.colorbar(ax[2].pcolormesh(delta_D, cmap=\"bwr\"), cax=ax[3])\n",
    "fig.tight_layout(pad=1.0)\n",
    "\n"
   ]
  },
  {
   "cell_type": "code",
   "execution_count": null,
   "metadata": {},
   "outputs": [
    {
     "name": "stdout",
     "output_type": "stream",
     "text": [
      "******** <class 'pyscf.df.df.DF'> ********\n",
      "auxbasis = None\n",
      "max_memory = 4000\n",
      "ETB for H: l = 0, exps = 0.2122 * 2^n , n = 0..6\n",
      "ETB for H: l = 1, exps = 0.6514598989960932 * 2^n , n = 0..3\n",
      "ETB for H: l = 2, exps = 2.0 * 2^n , n = 0..0\n",
      "ETB for O: l = 0, exps = 0.570254 * 2^n , n = 0..12\n",
      "ETB for O: l = 1, exps = 0.5285241540289337 * 2^n , n = 0..9\n",
      "ETB for O: l = 2, exps = 0.489848 * 2^n , n = 0..7\n",
      "ETB for O: l = 3, exps = 0.9897959385651166 * 2^n , n = 0..3\n",
      "ETB for O: l = 4, exps = 2.0 * 2^n , n = 0..0\n",
      "\n",
      "WARN: Even tempered Gaussians are generated as DF auxbasis for  H O\n",
      "\n"
     ]
    },
    {
     "ename": "ValueError",
     "evalue": "einstein sum subscripts string contains too many subscripts for operand 0",
     "output_type": "error",
     "traceback": [
      "\u001b[0;31m---------------------------------------------------------------------------\u001b[0m",
      "\u001b[0;31mValueError\u001b[0m                                Traceback (most recent call last)",
      "Cell \u001b[0;32mIn[80], line 16\u001b[0m\n\u001b[1;32m     13\u001b[0m V_tu \u001b[38;5;241m=\u001b[39m df\u001b[38;5;241m.\u001b[39mincore\u001b[38;5;241m.\u001b[39maux_e2(mol, df_basis)\n\u001b[1;32m     14\u001b[0m Vinv_tu \u001b[38;5;241m=\u001b[39m np\u001b[38;5;241m.\u001b[39mlinalg\u001b[38;5;241m.\u001b[39mpinv(V_tu)\n\u001b[0;32m---> 16\u001b[0m C_pq_u \u001b[38;5;241m=\u001b[39m np\u001b[38;5;241m.\u001b[39meinsum(\u001b[38;5;124m\"\u001b[39m\u001b[38;5;124mtpq,tu->pqu\u001b[39m\u001b[38;5;124m\"\u001b[39m, b_t_pq, Vinv_tu)\n",
      "File \u001b[0;32m~/.local/lib/python3.12/site-packages/numpy/_core/einsumfunc.py:1429\u001b[0m, in \u001b[0;36meinsum\u001b[0;34m(out, optimize, *operands, **kwargs)\u001b[0m\n\u001b[1;32m   1427\u001b[0m     \u001b[38;5;28;01mif\u001b[39;00m specified_out:\n\u001b[1;32m   1428\u001b[0m         kwargs[\u001b[38;5;124m'\u001b[39m\u001b[38;5;124mout\u001b[39m\u001b[38;5;124m'\u001b[39m] \u001b[38;5;241m=\u001b[39m out\n\u001b[0;32m-> 1429\u001b[0m     \u001b[38;5;28;01mreturn\u001b[39;00m c_einsum(\u001b[38;5;241m*\u001b[39moperands, \u001b[38;5;241m*\u001b[39m\u001b[38;5;241m*\u001b[39mkwargs)\n\u001b[1;32m   1431\u001b[0m \u001b[38;5;66;03m# Check the kwargs to avoid a more cryptic error later, without having to\u001b[39;00m\n\u001b[1;32m   1432\u001b[0m \u001b[38;5;66;03m# repeat default values here\u001b[39;00m\n\u001b[1;32m   1433\u001b[0m valid_einsum_kwargs \u001b[38;5;241m=\u001b[39m [\u001b[38;5;124m'\u001b[39m\u001b[38;5;124mdtype\u001b[39m\u001b[38;5;124m'\u001b[39m, \u001b[38;5;124m'\u001b[39m\u001b[38;5;124morder\u001b[39m\u001b[38;5;124m'\u001b[39m, \u001b[38;5;124m'\u001b[39m\u001b[38;5;124mcasting\u001b[39m\u001b[38;5;124m'\u001b[39m]\n",
      "\u001b[0;31mValueError\u001b[0m: einstein sum subscripts string contains too many subscripts for operand 0"
     ]
    }
   ],
   "source": [
    "# mol already defines our basis\n",
    "# but def2-universal-jkfit is not in the basis set list -> so we have to parse it manually \n",
    "with open('data/def2-universal-jkfit.1.nw', 'r') as f:\n",
    "    def2_uni_jkfit_string = \"\".join(f.readlines())\n",
    "def2_uni_jkfit = pyscf.gto.basis.parse(def2_uni_jkfit_string)\n",
    "df_basis = df.addons.make_auxmol(mol, auxbasis=def2_uni_jkfit)\n",
    "\n",
    "# let's try 3-center integrals\n",
    "gdf = df.GDF(mol) #! Notice our auxbasis is probably not used here - need to investigate\n",
    "gdf.build()\n",
    "b_t_pq = gdf.get_eri()\n",
    "\n",
    "V_tu = df.incore.aux_e2(mol, df_basis)\n",
    "Vinv_tu = np.linalg.pinv(V_tu)\n",
    "\n",
    "C_pq_u = np.einsum(\"tpq,tu->pqu\", b_t_pq, Vinv_tu) #! Therefore we probably have wrong dimensions here!"
   ]
  }
 ],
 "metadata": {
  "kernelspec": {
   "display_name": "scf_dev",
   "language": "python",
   "name": "python3"
  },
  "language_info": {
   "codemirror_mode": {
    "name": "ipython",
    "version": 3
   },
   "file_extension": ".py",
   "mimetype": "text/x-python",
   "name": "python",
   "nbconvert_exporter": "python",
   "pygments_lexer": "ipython3",
   "version": "3.12.2"
  }
 },
 "nbformat": 4,
 "nbformat_minor": 2
}
