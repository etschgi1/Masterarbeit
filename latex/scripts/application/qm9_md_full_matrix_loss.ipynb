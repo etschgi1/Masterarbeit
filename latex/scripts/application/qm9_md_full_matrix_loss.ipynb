{
 "cells": [
  {
   "cell_type": "code",
   "execution_count": 41,
   "id": "478938ce",
   "metadata": {},
   "outputs": [
    {
     "name": "stdout",
     "output_type": "stream",
     "text": [
      "Project root directory: /home/etschgi1/REPOS/Masterarbeit\n"
     ]
    }
   ],
   "source": [
    "import sys, pickle, json, os, re\n",
    "import numpy as np\n",
    "from collections import defaultdict\n",
    "from pprint import pprint\n",
    "from typing import List, Dict, Any\n",
    "sys.path.append('../src/')\n",
    "sys.path.append(\"../../scripts/\")\n",
    "from utils import find_repo_root\n",
    "\n",
    "import matplotlib.pyplot as plt\n",
    "from plt_config import use_latex, TU_GREY, TU_RED\n",
    "use_latex()\n",
    "project_root_dir = find_repo_root()\n",
    "print(\"Project root directory:\", project_root_dir)"
   ]
  },
  {
   "cell_type": "code",
   "execution_count": 42,
   "id": "bf862606",
   "metadata": {},
   "outputs": [],
   "source": [
    "ray_folder = \"/home/etschgi1/REPOS/Masterarbeit/3_studies/Block_guessing/6-31g_md_testing/tune_logs/MGNN_hyp_small_md_full_mat_loss.py\"\n",
    "trials = []\n",
    "for folder in os.listdir(ray_folder):\n",
    "    sub_folder_path = os.path.join(ray_folder, folder)\n",
    "    if os.path.exists(os.path.join(sub_folder_path, \"eval_res_reeval.json\")):\n",
    "        with open(os.path.join(sub_folder_path, \"eval_res_reeval.json\")) as f:\n",
    "            eval_res = json.load(f)\n",
    "        with open(os.path.join(sub_folder_path, \"params.json\")) as f:\n",
    "            params = json.load(f)\n",
    "        with open(os.path.join(sub_folder_path, \"eval_res.json\")) as f:\n",
    "            eval_res_old = json.load(f)\n",
    "        eval_res[\"cummulative_stats\"][\"iterations\"] = eval_res_old[\"cummulative_stats\"][\"iterations\"]\n",
    "        with open(os.path.join(sub_folder_path, \"model.history\"), \"rb\") as f:\n",
    "            hist = pickle.load(f)\n",
    "            epochs_trained = len(hist[\"train_loss\"])\n",
    "        params[\"folder\"] = folder\n",
    "        params[\"epochs_trained\"] = int(epochs_trained)\n",
    "        trials.append((params, eval_res))\n"
   ]
  },
  {
   "cell_type": "code",
   "execution_count": 43,
   "id": "34e8cf54",
   "metadata": {},
   "outputs": [
    {
     "name": "stdout",
     "output_type": "stream",
     "text": [
      "Found 10 trials in /home/etschgi1/REPOS/Masterarbeit/3_studies/Block_guessing/6-31g_md_testing/tune_logs/MGNN_hyp_small_md_full_mat_loss.py\n",
      "hyperopt_train_e6b2b_00029_29_batch_size=8,data_aug_factor=3,edge_threshold_val=2.6495,hidden_dim=512,lr=0.0001,message_net_dropou_2025-07-17_01-07-11\n",
      "hyperopt_train_e6b2b_00003_3_batch_size=8,data_aug_factor=4,edge_threshold_val=3.2486,hidden_dim=256,lr=0.0004,message_net_dropout_2025-07-16_19-38-52\n",
      "hyperopt_train_e6b2b_00036_36_batch_size=8,data_aug_factor=2,edge_threshold_val=3.8592,hidden_dim=512,lr=0.0002,message_net_dropou_2025-07-17_02-47-54\n",
      "hyperopt_train_e6b2b_00022_22_batch_size=16,data_aug_factor=4,edge_threshold_val=3.1101,hidden_dim=128,lr=0.0003,message_net_dropo_2025-07-16_23-57-44\n",
      "hyperopt_train_e6b2b_00002_2_batch_size=8,data_aug_factor=3,edge_threshold_val=2.2164,hidden_dim=128,lr=0.0005,message_net_dropout_2025-07-16_19-16-11\n",
      "hyperopt_train_e6b2b_00015_15_batch_size=32,data_aug_factor=3,edge_threshold_val=3.3076,hidden_dim=512,lr=0.0009,message_net_dropo_2025-07-16_21-19-22\n",
      "hyperopt_train_e6b2b_00018_18_batch_size=32,data_aug_factor=3,edge_threshold_val=3.8550,hidden_dim=512,lr=0.0006,message_net_dropo_2025-07-16_22-11-47\n",
      "hyperopt_train_e6b2b_00023_23_batch_size=16,data_aug_factor=3,edge_threshold_val=3.9453,hidden_dim=512,lr=0.0003,message_net_dropo_2025-07-17_00-06-20\n",
      "hyperopt_train_e6b2b_00033_33_batch_size=32,data_aug_factor=2,edge_threshold_val=2.2936,hidden_dim=256,lr=0.0012,message_net_dropo_2025-07-17_01-45-28\n",
      "hyperopt_train_e6b2b_00004_4_batch_size=8,data_aug_factor=1,edge_threshold_val=3.8222,hidden_dim=128,lr=0.0033,message_net_dropout_2025-07-16_19-49-10\n"
     ]
    }
   ],
   "source": [
    "trials.sort(key=lambda x:x[1][\"cummulative_stats\"][\"iterations\"][\"mean\"])\n",
    "print(f\"Found {len(trials)} trials in {ray_folder}\")\n",
    "for trial in trials[:10]: \n",
    "    print(trial[0][\"folder\"])\n",
    "    # print(trial[1][\"cummulative_stats\"])\n",
    "    # print(trial[0][\"epochs_trained\"])\n",
    "    # print(\"---\")\n"
   ]
  },
  {
   "cell_type": "code",
   "execution_count": 44,
   "id": "1a6b43fa",
   "metadata": {},
   "outputs": [
    {
     "name": "stdout",
     "output_type": "stream",
     "text": [
      "\\begin{tabular}{rlllll}\n",
      "\\toprule\n",
      "ID & Iterations & $\\Delta E_\\text{HF}$ & $\\delta E_\\text{HF}$ & DIIS error & $\\overline{\\text{RMSE}}$ \\\\\n",
      "\\midrule\n",
      "0 & 10.9(0.5) & -1.5(1.7) & -0.001(0.001) & 0.027(0.003) & 0.0075(0.0004) \\\\\n",
      "1 & 11.0(0.4) & -1.8(1.3) & -0.001(0.001) & 0.030(0.003) & 0.0077(0.0004) \\\\\n",
      "2 & 11.2(0.6) & -3.1(2.2) & -0.002(0.001) & 0.031(0.003) & 0.0080(0.0005) \\\\\n",
      "3 & 11.2(0.4) & -1.9(2.1) & -0.001(0.001) & 0.033(0.003) & 0.0084(0.0003) \\\\\n",
      "4 & 11.4(0.6) & 3.5(1.2) & 0.002(0.001) & 0.031(0.003) & 0.0081(0.0003) \\\\\n",
      "5 & 11.6(1.0) & 0.6(2.3) & 0.000(0.001) & 0.035(0.003) & 0.0087(0.0005) \\\\\n",
      "6 & 11.6(0.9) & 0.0(1.8) & 0.000(0.001) & 0.035(0.009) & 0.0088(0.0016) \\\\\n",
      "7 & 11.8(0.9) & 1.0(3.3) & 0.001(0.002) & 0.032(0.004) & 0.0085(0.0004) \\\\\n",
      "8 & 11.8(0.7) & -4.1(2.0) & -0.002(0.001) & 0.037(0.003) & 0.0086(0.0003) \\\\\n",
      "9 & 11.8(0.7) & 1.0(1.8) & 0.001(0.001) & 0.035(0.006) & 0.0083(0.0009) \\\\\n",
      "\\bottomrule\n",
      "\\end{tabular}\n",
      "\n"
     ]
    }
   ],
   "source": [
    "top = 10\n",
    "table_data = []\n",
    "for i, (params, metrics) in enumerate(trials[:top]):\n",
    "    metrics = metrics[\"cummulative_stats\"]\n",
    "    row = {\n",
    "        'ID': i,\n",
    "        'Iterations': f\"{float(metrics['iterations']['mean']):.1f}({float(metrics['iterations']['std']):.1f})\",\n",
    "        r\"$\\Delta E_\\text{HF}$\": f\"{float(metrics['energy_abs']['mean']):.1f}({float(metrics['energy_abs']['std']):.1f})\",\n",
    "        r\"$\\delta E_\\text{HF}$\": f\"{float(metrics['energy_rel']['mean']):.3f}({float(metrics['energy_rel']['std']):.3f})\",\n",
    "        'DIIS error': f\"{float(metrics['diis']['mean']):.3f}({float(metrics['diis']['std']):.3f})\",\n",
    "        r\"$\\overline{\\text{RMSE}}$\": f\"{float(metrics['rmse']['mean']):.4f}({float(metrics['rmse']['std']):.4f})\"\n",
    "    }\n",
    "    table_data.append(row)\n",
    "\n",
    "import pandas as pd\n",
    "df = pd.DataFrame(table_data)\n",
    "\n",
    "latex = df.to_latex(index=False)\n",
    "print(latex)"
   ]
  },
  {
   "cell_type": "code",
   "execution_count": 45,
   "id": "24d5632f",
   "metadata": {},
   "outputs": [
    {
     "name": "stdout",
     "output_type": "stream",
     "text": [
      "\\begin{tabular}{lllllllllll}\n",
      "\\toprule\n",
      " & 0 & 1 & 2 & 3 & 4 & 5 & 6 & 7 & 8 & 9 \\\\\n",
      "\\midrule\n",
      "Parameter & 0 & 1 & 2 & 3 & 4 & 5 & 6 & 7 & 8 & 9 \\\\\n",
      "Hidden Dimension & 512 & 256 & 512 & 128 & 128 & 512 & 512 & 512 & 256 & 128 \\\\\n",
      "Batch Size & 8 & 8 & 8 & 16 & 8 & 32 & 32 & 16 & 32 & 8 \\\\\n",
      "Data aug. & 3.00 & 4.00 & 2.00 & 4.00 & 3.00 & 3.00 & 3.00 & 3.00 & 2.00 & 1.00 \\\\\n",
      "Edge thres. & 2.65 & 3.25 & 3.86 & 3.11 & 2.22 & 3.31 & 3.86 & 3.95 & 2.29 & 3.82 \\\\\n",
      "Message p. steps & 3 & 4 & 3 & 3 & 4 & 2 & 2 & 2 & 5 & 4 \\\\\n",
      "Message Net Dropout & 0.14 & 0.24 & 0.02 & 0.05 & 0.16 & 0.20 & 0.10 & 0.27 & 0.06 & 0.02 \\\\\n",
      "Message Net Layers & 3 & 3 & 4 & 4 & 4 & 2 & 3 & 2 & 3 & 3 \\\\\n",
      "Learn Rate & 1.08e-04 & 3.99e-04 & 1.95e-04 & 3.27e-04 & 4.82e-04 & 8.66e-04 & 5.65e-04 & 2.80e-04 & 1.21e-03 & 3.32e-03 \\\\\n",
      "Weight Decay & 7.13e-04 & 1.24e-04 & 2.35e-04 & 1.50e-05 & 8.57e-04 & 1.35e-04 & 4.36e-05 & 2.06e-04 & 9.34e-04 & 7.39e-04 \\\\\n",
      "\\bottomrule\n",
      "\\end{tabular}\n",
      "\n"
     ]
    }
   ],
   "source": [
    "table_data = []\n",
    "for i, (params, metrics) in enumerate(trials[:top]):\n",
    "    metrics = metrics[\"cummulative_stats\"]\n",
    "    row = {\n",
    "        'Parameter': int(i),\n",
    "        'Hidden Dimension': int(params[\"hidden_dim\"]),\n",
    "        'Batch Size': int(params[\"batch_size\"]),\n",
    "        \"Data aug.\": f'{float(params[\"data_aug_factor\"]):.2f}',\n",
    "        \"Edge thres.\": f'{float(params[\"edge_threshold_val\"]):.2f}',\n",
    "        \"Message p. steps\": int(params[\"message_passing_steps\"]),\n",
    "        \"Message Net Dropout\": f'{float(params[\"message_net_dropout\"]):.2f}',\n",
    "        \"Message Net Layers\": int(params[\"message_net_layers\"]),\n",
    "        \"Learn Rate\": f'{float(params[\"lr\"]):.2e}',\n",
    "        \"Weight Decay\": f'{float(params[\"weight_decay\"]):.2e}',\n",
    "    }\n",
    "    table_data.append(row)\n",
    "\n",
    "import pandas as pd\n",
    "df = pd.DataFrame(table_data).T\n",
    "\n",
    "\n",
    "latex = df.to_latex(index=True)\n",
    "print(latex)"
   ]
  },
  {
   "cell_type": "code",
   "execution_count": null,
   "id": "e2f7ecc2",
   "metadata": {},
   "outputs": [],
   "source": []
  }
 ],
 "metadata": {
  "kernelspec": {
   "display_name": "scf_guess_1_0",
   "language": "python",
   "name": "python3"
  },
  "language_info": {
   "codemirror_mode": {
    "name": "ipython",
    "version": 3
   },
   "file_extension": ".py",
   "mimetype": "text/x-python",
   "name": "python",
   "nbconvert_exporter": "python",
   "pygments_lexer": "ipython3",
   "version": "3.11.11"
  }
 },
 "nbformat": 4,
 "nbformat_minor": 5
}
