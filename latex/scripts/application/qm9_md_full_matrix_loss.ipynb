{
 "cells": [
  {
   "cell_type": "code",
   "execution_count": 9,
   "id": "478938ce",
   "metadata": {},
   "outputs": [
    {
     "name": "stdout",
     "output_type": "stream",
     "text": [
      "Project root directory: /home/etschgi1/REPOS/Masterarbeit\n"
     ]
    }
   ],
   "source": [
    "import sys, pickle, json, os, re\n",
    "import numpy as np\n",
    "from collections import defaultdict\n",
    "from pprint import pprint\n",
    "from typing import List, Dict, Any\n",
    "sys.path.append('../src/')\n",
    "sys.path.append(\"../../scripts/\")\n",
    "from utils import find_repo_root\n",
    "\n",
    "import matplotlib.pyplot as plt\n",
    "from plt_config import use_latex, TU_GREY, TU_RED\n",
    "use_latex()\n",
    "project_root_dir = find_repo_root()\n",
    "print(\"Project root directory:\", project_root_dir)"
   ]
  },
  {
   "cell_type": "code",
   "execution_count": 19,
   "id": "bf862606",
   "metadata": {},
   "outputs": [],
   "source": [
    "ray_folder = \"/home/etschgi1/REPOS/Masterarbeit/3_studies/Block_guessing/6-31g_md_testing/tune_logs/MGNN_hyp_small_md_full_mat_loss.py\"\n",
    "trials = []\n",
    "for folder in os.listdir(ray_folder):\n",
    "    sub_folder_path = os.path.join(ray_folder, folder)\n",
    "    if os.path.exists(os.path.join(sub_folder_path, \"eval_res.json\")):\n",
    "        with open(os.path.join(sub_folder_path, \"eval_res.json\")) as f:\n",
    "            eval_res = json.load(f)\n",
    "        with open(os.path.join(sub_folder_path, \"params.json\")) as f:\n",
    "            params = json.load(f)\n",
    "        params[\"folder\"] = folder\n",
    "        trials.append((params, eval_res))"
   ]
  },
  {
   "cell_type": "code",
   "execution_count": 21,
   "id": "34e8cf54",
   "metadata": {},
   "outputs": [
    {
     "name": "stdout",
     "output_type": "stream",
     "text": [
      "Found 17 trials in /home/etschgi1/REPOS/Masterarbeit/3_studies/Block_guessing/6-31g_md_testing/tune_logs/MGNN_hyp_small_md_full_mat_loss.py\n",
      "hyperopt_train_e6b2b_00029_29_batch_size=8,data_aug_factor=3,edge_threshold_val=2.6495,hidden_dim=512,lr=0.0001,message_net_dropou_2025-07-17_01-07-11\n",
      "{'batch_size': 8, 'data_aug_factor': 3, 'edge_threshold_val': 2.64950666293317, 'grace_epochs': 5, 'hidden_dim': 512, 'loss_on_full_matrix': True, 'lr': 0.00010825336694924005, 'lr_cooldown': 2, 'lr_factor': 0.5, 'lr_min': 1e-06, 'lr_patience': 3, 'lr_threshold': 0.001, 'message_net_dropout': 0.14018093706669849, 'message_net_layers': 3, 'message_passing_steps': 3, 'num_epochs': 30, 'weight_decay': 0.0007128801671222779, 'folder': 'hyperopt_train_e6b2b_00029_29_batch_size=8,data_aug_factor=3,edge_threshold_val=2.6495,hidden_dim=512,lr=0.0001,message_net_dropou_2025-07-17_01-07-11'}\n",
      "{'energy_abs': {'mean': -1241.855378857725, 'std': 34.536120427237854}, 'iterations': {'mean': 10.9, 'std': 0.458257569495584}, 'energy_rel': {'mean': -0.7020919216967322, 'std': 0.009395669841978215}, 'diis': {'mean': 0.20995233013283932, 'std': 0.014118422135818784}, 'rmse': {'mean': 0.0074874438174700195, 'std': 0.0003688257768489461}}\n",
      "---\n",
      "hyperopt_train_e6b2b_00003_3_batch_size=8,data_aug_factor=4,edge_threshold_val=3.2486,hidden_dim=256,lr=0.0004,message_net_dropout_2025-07-16_19-38-52\n",
      "{'batch_size': 8, 'data_aug_factor': 4, 'edge_threshold_val': 3.2485649552650737, 'grace_epochs': 5, 'hidden_dim': 256, 'loss_on_full_matrix': True, 'lr': 0.00039850463360281533, 'lr_cooldown': 2, 'lr_factor': 0.5, 'lr_min': 1e-06, 'lr_patience': 3, 'lr_threshold': 0.001, 'message_net_dropout': 0.24085536036539817, 'message_net_layers': 3, 'message_passing_steps': 4, 'num_epochs': 30, 'weight_decay': 0.00012432779846755667, 'folder': 'hyperopt_train_e6b2b_00003_3_batch_size=8,data_aug_factor=4,edge_threshold_val=3.2486,hidden_dim=256,lr=0.0004,message_net_dropout_2025-07-16_19-38-52'}\n",
      "{'energy_abs': {'mean': -1238.5526933045112, 'std': 33.846523395431056}, 'iterations': {'mean': 10.98, 'std': 0.37363083384538803}, 'energy_rel': {'mean': -0.7002296982388276, 'std': 0.009068918811676763}, 'diis': {'mean': 0.2117491554689213, 'std': 0.014558026223675738}, 'rmse': {'mean': 0.007637415239701304, 'std': 0.00037181953865674135}}\n",
      "---\n",
      "hyperopt_train_e6b2b_00036_36_batch_size=8,data_aug_factor=2,edge_threshold_val=3.8592,hidden_dim=512,lr=0.0002,message_net_dropou_2025-07-17_02-47-54\n",
      "{'batch_size': 8, 'data_aug_factor': 2, 'edge_threshold_val': 3.859249965767233, 'grace_epochs': 5, 'hidden_dim': 512, 'loss_on_full_matrix': True, 'lr': 0.00019471642945896004, 'lr_cooldown': 2, 'lr_factor': 0.5, 'lr_min': 1e-06, 'lr_patience': 3, 'lr_threshold': 0.001, 'message_net_dropout': 0.022675545473503398, 'message_net_layers': 4, 'message_passing_steps': 3, 'num_epochs': 30, 'weight_decay': 0.0002354554608013248, 'folder': 'hyperopt_train_e6b2b_00036_36_batch_size=8,data_aug_factor=2,edge_threshold_val=3.8592,hidden_dim=512,lr=0.0002,message_net_dropou_2025-07-17_02-47-54'}\n",
      "{'energy_abs': {'mean': -1239.8989072522727, 'std': 37.73108802383529}, 'iterations': {'mean': 11.18, 'std': 0.554616984954482}, 'energy_rel': {'mean': -0.7009544783635482, 'std': 0.010953774226260562}, 'diis': {'mean': 0.20363724577255254, 'std': 0.013949580395631133}, 'rmse': {'mean': 0.007941382879783807, 'std': 0.00047782418784674533}}\n",
      "---\n",
      "hyperopt_train_e6b2b_00022_22_batch_size=16,data_aug_factor=4,edge_threshold_val=3.1101,hidden_dim=128,lr=0.0003,message_net_dropo_2025-07-16_23-57-44\n",
      "{'batch_size': 16, 'data_aug_factor': 4, 'edge_threshold_val': 3.1100581214282204, 'grace_epochs': 5, 'hidden_dim': 128, 'loss_on_full_matrix': True, 'lr': 0.00032676922548955306, 'lr_cooldown': 2, 'lr_factor': 0.5, 'lr_min': 1e-06, 'lr_patience': 3, 'lr_threshold': 0.001, 'message_net_dropout': 0.05127293850977109, 'message_net_layers': 4, 'message_passing_steps': 3, 'num_epochs': 30, 'weight_decay': 1.5032057691678902e-05, 'folder': 'hyperopt_train_e6b2b_00022_22_batch_size=16,data_aug_factor=4,edge_threshold_val=3.1101,hidden_dim=128,lr=0.0003,message_net_dropo_2025-07-16_23-57-44'}\n",
      "{'energy_abs': {'mean': -1257.587392483907, 'std': 38.490027672995744}, 'iterations': {'mean': 11.2, 'std': 0.4472135954999579}, 'energy_rel': {'mean': -0.7109425654836669, 'std': 0.010494354172613057}, 'diis': {'mean': 0.22220018464356048, 'std': 0.017382201501112512}, 'rmse': {'mean': 0.008405603863784729, 'std': 0.0003381097830302764}}\n",
      "---\n",
      "hyperopt_train_e6b2b_00002_2_batch_size=8,data_aug_factor=3,edge_threshold_val=2.2164,hidden_dim=128,lr=0.0005,message_net_dropout_2025-07-16_19-16-11\n",
      "{'batch_size': 8, 'data_aug_factor': 3, 'edge_threshold_val': 2.21643556385787, 'grace_epochs': 5, 'hidden_dim': 128, 'loss_on_full_matrix': True, 'lr': 0.0004818696929572594, 'lr_cooldown': 2, 'lr_factor': 0.5, 'lr_min': 1e-06, 'lr_patience': 3, 'lr_threshold': 0.001, 'message_net_dropout': 0.1646423758171315, 'message_net_layers': 4, 'message_passing_steps': 4, 'num_epochs': 30, 'weight_decay': 0.0008568021389499994, 'folder': 'hyperopt_train_e6b2b_00002_2_batch_size=8,data_aug_factor=3,edge_threshold_val=2.2164,hidden_dim=128,lr=0.0005,message_net_dropout_2025-07-16_19-16-11'}\n",
      "{'energy_abs': {'mean': -1281.9500845058026, 'std': 40.40706658959206}, 'iterations': {'mean': 11.42, 'std': 0.6352952069707437}, 'energy_rel': {'mean': -0.7246954658327687, 'std': 0.010949990556338279}, 'diis': {'mean': 0.21845303833230564, 'std': 0.014714281035946844}, 'rmse': {'mean': 0.008056401928319239, 'std': 0.00027753625044090385}}\n",
      "---\n",
      "hyperopt_train_e6b2b_00015_15_batch_size=32,data_aug_factor=3,edge_threshold_val=3.3076,hidden_dim=512,lr=0.0009,message_net_dropo_2025-07-16_21-19-22\n",
      "{'batch_size': 32, 'data_aug_factor': 3, 'edge_threshold_val': 3.3076139320545366, 'grace_epochs': 5, 'hidden_dim': 512, 'loss_on_full_matrix': True, 'lr': 0.0008663010850114679, 'lr_cooldown': 2, 'lr_factor': 0.5, 'lr_min': 1e-06, 'lr_patience': 3, 'lr_threshold': 0.001, 'message_net_dropout': 0.2027485796325842, 'message_net_layers': 2, 'message_passing_steps': 2, 'num_epochs': 30, 'weight_decay': 0.00013524644106507988, 'folder': 'hyperopt_train_e6b2b_00015_15_batch_size=32,data_aug_factor=3,edge_threshold_val=3.3076,hidden_dim=512,lr=0.0009,message_net_dropo_2025-07-16_21-19-22'}\n",
      "{'energy_abs': {'mean': -1263.742925211248, 'std': 42.351363310138396}, 'iterations': {'mean': 11.56, 'std': 0.9624967532412771}, 'energy_rel': {'mean': -0.7143900667985739, 'std': 0.012963249138573519}, 'diis': {'mean': 0.2224686174592634, 'std': 0.016194145654682347}, 'rmse': {'mean': 0.00871652742362475, 'std': 0.00045672614348248817}}\n",
      "---\n",
      "hyperopt_train_e6b2b_00018_18_batch_size=32,data_aug_factor=3,edge_threshold_val=3.8550,hidden_dim=512,lr=0.0006,message_net_dropo_2025-07-16_22-11-47\n",
      "{'batch_size': 32, 'data_aug_factor': 3, 'edge_threshold_val': 3.8550172263878473, 'grace_epochs': 5, 'hidden_dim': 512, 'loss_on_full_matrix': True, 'lr': 0.0005651154117193118, 'lr_cooldown': 2, 'lr_factor': 0.5, 'lr_min': 1e-06, 'lr_patience': 3, 'lr_threshold': 0.001, 'message_net_dropout': 0.09867548981172367, 'message_net_layers': 3, 'message_passing_steps': 2, 'num_epochs': 30, 'weight_decay': 4.357420120387396e-05, 'folder': 'hyperopt_train_e6b2b_00018_18_batch_size=32,data_aug_factor=3,edge_threshold_val=3.8550,hidden_dim=512,lr=0.0006,message_net_dropo_2025-07-16_22-11-47'}\n",
      "{'energy_abs': {'mean': -1275.1779210115099, 'std': 38.87245645383371}, 'iterations': {'mean': 11.62, 'std': 0.8919641248391103}, 'energy_rel': {'mean': -0.7209170555439739, 'std': 0.01235083933230461}, 'diis': {'mean': 0.22293386100418056, 'std': 0.019875613104780573}, 'rmse': {'mean': 0.008709372746637833, 'std': 0.001242764087540894}}\n",
      "---\n",
      "hyperopt_train_e6b2b_00004_4_batch_size=8,data_aug_factor=1,edge_threshold_val=3.8222,hidden_dim=128,lr=0.0033,message_net_dropout_2025-07-16_19-49-10\n",
      "{'batch_size': 8, 'data_aug_factor': 1, 'edge_threshold_val': 3.8221847500522244, 'grace_epochs': 5, 'hidden_dim': 128, 'loss_on_full_matrix': True, 'lr': 0.0033193688716585874, 'lr_cooldown': 2, 'lr_factor': 0.5, 'lr_min': 1e-06, 'lr_patience': 3, 'lr_threshold': 0.001, 'message_net_dropout': 0.02265899031112779, 'message_net_layers': 3, 'message_passing_steps': 4, 'num_epochs': 30, 'weight_decay': 0.0007392851575301088, 'folder': 'hyperopt_train_e6b2b_00004_4_batch_size=8,data_aug_factor=1,edge_threshold_val=3.8222,hidden_dim=128,lr=0.0033,message_net_dropout_2025-07-16_19-49-10'}\n",
      "{'energy_abs': {'mean': -1279.0454553640961, 'std': 36.91463944124044}, 'iterations': {'mean': 11.84, 'std': 0.6740919818541087}, 'energy_rel': {'mean': -0.7231056441163598, 'std': 0.010256476351593992}, 'diis': {'mean': 0.21963388049871138, 'std': 0.014149823768491618}, 'rmse': {'mean': 0.008259487080279376, 'std': 0.0009135572505722577}}\n",
      "---\n",
      "hyperopt_train_e6b2b_00025_25_batch_size=32,data_aug_factor=4,edge_threshold_val=3.6248,hidden_dim=128,lr=0.0016,message_net_dropo_2025-07-17_00-20-49\n",
      "{'batch_size': 32, 'data_aug_factor': 4, 'edge_threshold_val': 3.6248443292154926, 'grace_epochs': 5, 'hidden_dim': 128, 'loss_on_full_matrix': True, 'lr': 0.0015670745989197117, 'lr_cooldown': 2, 'lr_factor': 0.5, 'lr_min': 1e-06, 'lr_patience': 3, 'lr_threshold': 0.001, 'message_net_dropout': 0.2550991513847092, 'message_net_layers': 3, 'message_passing_steps': 3, 'num_epochs': 30, 'weight_decay': 5.6881694121744816e-05, 'folder': 'hyperopt_train_e6b2b_00025_25_batch_size=32,data_aug_factor=4,edge_threshold_val=3.6248,hidden_dim=128,lr=0.0016,message_net_dropo_2025-07-17_00-20-49'}\n",
      "{'energy_abs': {'mean': -1285.7693581112867, 'std': 40.82237885680827}, 'iterations': {'mean': 11.94, 'std': 0.9467840302835699}, 'energy_rel': {'mean': -0.7268864991586748, 'std': 0.012913949190580644}, 'diis': {'mean': 0.2259283966208433, 'std': 0.018253090292523696}, 'rmse': {'mean': 0.009841437990126121, 'std': 0.0011639711104545125}}\n",
      "---\n",
      "hyperopt_train_e6b2b_00026_26_batch_size=32,data_aug_factor=3,edge_threshold_val=2.5634,hidden_dim=512,lr=0.0017,message_net_dropo_2025-07-17_00-31-22\n",
      "{'batch_size': 32, 'data_aug_factor': 3, 'edge_threshold_val': 2.5633929829915454, 'grace_epochs': 5, 'hidden_dim': 512, 'loss_on_full_matrix': True, 'lr': 0.0017315356397533059, 'lr_cooldown': 2, 'lr_factor': 0.5, 'lr_min': 1e-06, 'lr_patience': 3, 'lr_threshold': 0.001, 'message_net_dropout': 0.22220615982573513, 'message_net_layers': 3, 'message_passing_steps': 3, 'num_epochs': 30, 'weight_decay': 5.295267336245841e-05, 'folder': 'hyperopt_train_e6b2b_00026_26_batch_size=32,data_aug_factor=3,edge_threshold_val=2.5634,hidden_dim=512,lr=0.0017,message_net_dropo_2025-07-17_00-31-22'}\n",
      "{'energy_abs': {'mean': -1263.7481186042785, 'std': 41.17754961359479}, 'iterations': {'mean': 12.02, 'std': 1.0675204916066015}, 'energy_rel': {'mean': -0.7144175400204837, 'std': 0.012893227304904213}, 'diis': {'mean': 0.22360410203256326, 'std': 0.01614915196186038}, 'rmse': {'mean': 0.008427045706953136, 'std': 0.0003818251170255733}}\n",
      "---\n",
      "hyperopt_train_e6b2b_00048_48_batch_size=8,data_aug_factor=1,edge_threshold_val=3.5208,hidden_dim=128,lr=0.0003,message_net_dropou_2025-07-17_04-11-12\n",
      "{'batch_size': 8, 'data_aug_factor': 1, 'edge_threshold_val': 3.520829271875885, 'grace_epochs': 5, 'hidden_dim': 128, 'loss_on_full_matrix': True, 'lr': 0.00034128008247828154, 'lr_cooldown': 2, 'lr_factor': 0.5, 'lr_min': 1e-06, 'lr_patience': 3, 'lr_threshold': 0.001, 'message_net_dropout': 0.11481802977353027, 'message_net_layers': 2, 'message_passing_steps': 4, 'num_epochs': 30, 'weight_decay': 0.0009278018266843962, 'folder': 'hyperopt_train_e6b2b_00048_48_batch_size=8,data_aug_factor=1,edge_threshold_val=3.5208,hidden_dim=128,lr=0.0003,message_net_dropou_2025-07-17_04-11-12'}\n",
      "{'energy_abs': {'mean': -1267.7629827734324, 'std': 43.18049268280263}, 'iterations': {'mean': 12.08, 'std': 1.0361467077590893}, 'energy_rel': {'mean': -0.7166595531173034, 'std': 0.013598318594372332}, 'diis': {'mean': 0.21749493972406725, 'std': 0.015586210935868584}, 'rmse': {'mean': 0.00800058648043031, 'std': 0.0004368829367737072}}\n",
      "---\n",
      "hyperopt_train_e6b2b_00021_21_batch_size=16,data_aug_factor=4,edge_threshold_val=2.1179,hidden_dim=256,lr=0.0007,message_net_dropo_2025-07-16_23-25-10\n",
      "{'batch_size': 16, 'data_aug_factor': 4, 'edge_threshold_val': 2.1178777763914924, 'grace_epochs': 5, 'hidden_dim': 256, 'loss_on_full_matrix': True, 'lr': 0.0006792645652026616, 'lr_cooldown': 2, 'lr_factor': 0.5, 'lr_min': 1e-06, 'lr_patience': 3, 'lr_threshold': 0.001, 'message_net_dropout': 0.10819504831806476, 'message_net_layers': 3, 'message_passing_steps': 4, 'num_epochs': 30, 'weight_decay': 0.000331488035559076, 'folder': 'hyperopt_train_e6b2b_00021_21_batch_size=16,data_aug_factor=4,edge_threshold_val=2.1179,hidden_dim=256,lr=0.0007,message_net_dropo_2025-07-16_23-25-10'}\n",
      "{'energy_abs': {'mean': -1301.0265606291596, 'std': 42.50241020635526}, 'iterations': {'mean': 12.18, 'std': 0.7922120928135344}, 'energy_rel': {'mean': -0.7354683731239247, 'std': 0.012067783979648751}, 'diis': {'mean': 0.2284216206582617, 'std': 0.0171255876810327}, 'rmse': {'mean': 0.008285313339160457, 'std': 0.0003182293100927794}}\n",
      "---\n",
      "hyperopt_train_e6b2b_00043_43_batch_size=32,data_aug_factor=1,edge_threshold_val=2.9412,hidden_dim=256,lr=0.0008,message_net_dropo_2025-07-17_03-38-21\n",
      "{'batch_size': 32, 'data_aug_factor': 1, 'edge_threshold_val': 2.9411590137133032, 'grace_epochs': 5, 'hidden_dim': 256, 'loss_on_full_matrix': True, 'lr': 0.0008411406018345238, 'lr_cooldown': 2, 'lr_factor': 0.5, 'lr_min': 1e-06, 'lr_patience': 3, 'lr_threshold': 0.001, 'message_net_dropout': 0.2686856940477435, 'message_net_layers': 3, 'message_passing_steps': 5, 'num_epochs': 30, 'weight_decay': 1.0570956725427031e-05, 'folder': 'hyperopt_train_e6b2b_00043_43_batch_size=32,data_aug_factor=1,edge_threshold_val=2.9412,hidden_dim=256,lr=0.0008,message_net_dropo_2025-07-17_03-38-21'}\n",
      "{'energy_abs': {'mean': -1308.890289317663, 'std': 46.09969843170751}, 'iterations': {'mean': 12.6, 'std': 0.8246211251235323}, 'energy_rel': {'mean': -0.7398841003854636, 'std': 0.01421452438031338}, 'diis': {'mean': 0.2382592276126973, 'std': 0.018817390220241773}, 'rmse': {'mean': 0.00856444336118694, 'std': 0.00046094437954089765}}\n",
      "---\n",
      "hyperopt_train_e6b2b_00024_24_batch_size=16,data_aug_factor=1,edge_threshold_val=3.9189,hidden_dim=128,lr=0.0002,message_net_dropo_2025-07-17_00-18-37\n",
      "{'batch_size': 16, 'data_aug_factor': 1, 'edge_threshold_val': 3.918854656694431, 'grace_epochs': 5, 'hidden_dim': 128, 'loss_on_full_matrix': True, 'lr': 0.00023043676415732684, 'lr_cooldown': 2, 'lr_factor': 0.5, 'lr_min': 1e-06, 'lr_patience': 3, 'lr_threshold': 0.001, 'message_net_dropout': 0.17848089457280206, 'message_net_layers': 3, 'message_passing_steps': 5, 'num_epochs': 30, 'weight_decay': 0.0002435709616452784, 'folder': 'hyperopt_train_e6b2b_00024_24_batch_size=16,data_aug_factor=1,edge_threshold_val=3.9189,hidden_dim=128,lr=0.0002,message_net_dropo_2025-07-17_00-18-37'}\n",
      "{'energy_abs': {'mean': -1298.1771641380228, 'std': 41.95003305827574}, 'iterations': {'mean': 12.78, 'std': 1.2536347155371854}, 'energy_rel': {'mean': -0.7339046427589327, 'std': 0.014081262457954257}, 'diis': {'mean': 0.2317540785067215, 'std': 0.018736727651828888}, 'rmse': {'mean': 0.009556006484917784, 'std': 0.0008005757080972224}}\n",
      "---\n",
      "hyperopt_train_e6b2b_00006_6_batch_size=32,data_aug_factor=3,edge_threshold_val=2.9991,hidden_dim=128,lr=0.0069,message_net_dropou_2025-07-16_19-56-06\n",
      "{'batch_size': 32, 'data_aug_factor': 3, 'edge_threshold_val': 2.9990702620619962, 'grace_epochs': 5, 'hidden_dim': 128, 'loss_on_full_matrix': True, 'lr': 0.006893315188377899, 'lr_cooldown': 2, 'lr_factor': 0.5, 'lr_min': 1e-06, 'lr_patience': 3, 'lr_threshold': 0.001, 'message_net_dropout': 0.13597537442798022, 'message_net_layers': 2, 'message_passing_steps': 4, 'num_epochs': 30, 'weight_decay': 7.169721481465698e-05, 'folder': 'hyperopt_train_e6b2b_00006_6_batch_size=32,data_aug_factor=3,edge_threshold_val=2.9991,hidden_dim=128,lr=0.0069,message_net_dropou_2025-07-16_19-56-06'}\n",
      "{'energy_abs': {'mean': -1289.3397746822295, 'std': 50.72944140097777}, 'iterations': {'mean': 12.82, 'std': 1.596120296218302}, 'energy_rel': {'mean': -0.7287823981936588, 'std': 0.017003667596168583}, 'diis': {'mean': 0.23888126617859565, 'std': 0.020931391625577073}, 'rmse': {'mean': 0.009661238403901155, 'std': 0.000409055004499095}}\n",
      "---\n",
      "hyperopt_train_e6b2b_00032_32_batch_size=32,data_aug_factor=1,edge_threshold_val=3.5553,hidden_dim=512,lr=0.0002,message_net_dropo_2025-07-17_01-41-19\n",
      "{'batch_size': 32, 'data_aug_factor': 1, 'edge_threshold_val': 3.5552773730536407, 'grace_epochs': 5, 'hidden_dim': 512, 'loss_on_full_matrix': True, 'lr': 0.00016823682004096254, 'lr_cooldown': 2, 'lr_factor': 0.5, 'lr_min': 1e-06, 'lr_patience': 3, 'lr_threshold': 0.001, 'message_net_dropout': 0.0039034337524962767, 'message_net_layers': 2, 'message_passing_steps': 2, 'num_epochs': 30, 'weight_decay': 3.880534452947318e-05, 'folder': 'hyperopt_train_e6b2b_00032_32_batch_size=32,data_aug_factor=1,edge_threshold_val=3.5553,hidden_dim=512,lr=0.0002,message_net_dropo_2025-07-17_01-41-19'}\n",
      "{'energy_abs': {'mean': -1246.1098255830677, 'std': 43.64522781549832}, 'iterations': {'mean': 13.04, 'std': 1.1482160075525858}, 'energy_rel': {'mean': -0.7044390717440001, 'std': 0.015184031431326888}, 'diis': {'mean': 0.2188411255647467, 'std': 0.01670002007527624}, 'rmse': {'mean': 0.010175263127485517, 'std': 0.00036293665471621783}}\n",
      "---\n",
      "hyperopt_train_e6b2b_00049_49_batch_size=32,data_aug_factor=4,edge_threshold_val=2.9235,hidden_dim=128,lr=0.0054,message_net_dropo_2025-07-17_04-12-52\n",
      "{'batch_size': 32, 'data_aug_factor': 4, 'edge_threshold_val': 2.923539410246437, 'grace_epochs': 5, 'hidden_dim': 128, 'loss_on_full_matrix': True, 'lr': 0.0054314390696862565, 'lr_cooldown': 2, 'lr_factor': 0.5, 'lr_min': 1e-06, 'lr_patience': 3, 'lr_threshold': 0.001, 'message_net_dropout': 0.20123507106262653, 'message_net_layers': 4, 'message_passing_steps': 2, 'num_epochs': 30, 'weight_decay': 1.6566428335363733e-05, 'folder': 'hyperopt_train_e6b2b_00049_49_batch_size=32,data_aug_factor=4,edge_threshold_val=2.9235,hidden_dim=128,lr=0.0054,message_net_dropo_2025-07-17_04-12-52'}\n",
      "{'energy_abs': {'mean': -1285.9256028650975, 'std': 35.49722733505408}, 'iterations': {'mean': 15.22, 'std': 1.1539497389401325}, 'energy_rel': {'mean': -0.7270109391366257, 'std': 0.009605301701318734}, 'diis': {'mean': 0.2288950023798208, 'std': 0.018179035844116818}, 'rmse': {'mean': 0.010498773217875061, 'std': 0.0003883238806474959}}\n",
      "---\n"
     ]
    }
   ],
   "source": [
    "trials.sort(key=lambda x:x[1][\"cummulative_stats\"][\"iterations\"][\"mean\"])\n",
    "print(f\"Found {len(trials)} trials in {ray_folder}\")\n",
    "for trial in trials: \n",
    "    print(trial[0][\"folder\"])\n",
    "\n",
    "    print(trial[0])\n",
    "    print(trial[1][\"cummulative_stats\"])\n",
    "    print(\"---\")\n"
   ]
  },
  {
   "cell_type": "code",
   "execution_count": 13,
   "id": "1a6b43fa",
   "metadata": {},
   "outputs": [
    {
     "name": "stdout",
     "output_type": "stream",
     "text": [
      "\\begin{tabular}{rlllll}\n",
      "\\toprule\n",
      "ID & Iterations & $\\Delta E_\\text{HF}$ & $\\delta E_\\text{HF}$ & DIIS error & $\\overline{\\text{RMSE}}$ \\\\\n",
      "\\midrule\n",
      "0 & 10.9(0.5) & -1241.9(34.5) & -0.702(0.009) & 0.210(0.01) & 0.0075(0.0004) \\\\\n",
      "1 & 11.0(0.4) & -1238.6(33.8) & -0.700(0.009) & 0.212(0.01) & 0.0076(0.0004) \\\\\n",
      "2 & 11.2(0.6) & -1239.9(37.7) & -0.701(0.011) & 0.204(0.01) & 0.0079(0.0005) \\\\\n",
      "3 & 11.2(0.4) & -1257.6(38.5) & -0.711(0.010) & 0.222(0.02) & 0.0084(0.0003) \\\\\n",
      "4 & 11.4(0.6) & -1282.0(40.4) & -0.725(0.011) & 0.218(0.01) & 0.0081(0.0003) \\\\\n",
      "5 & 11.6(1.0) & -1263.7(42.4) & -0.714(0.013) & 0.222(0.02) & 0.0087(0.0005) \\\\\n",
      "6 & 11.6(0.9) & -1275.2(38.9) & -0.721(0.012) & 0.223(0.02) & 0.0087(0.0012) \\\\\n",
      "7 & 11.8(0.7) & -1279.0(36.9) & -0.723(0.010) & 0.220(0.01) & 0.0083(0.0009) \\\\\n",
      "8 & 11.9(0.9) & -1285.8(40.8) & -0.727(0.013) & 0.226(0.02) & 0.0098(0.0012) \\\\\n",
      "9 & 12.0(1.1) & -1263.7(41.2) & -0.714(0.013) & 0.224(0.02) & 0.0084(0.0004) \\\\\n",
      "\\bottomrule\n",
      "\\end{tabular}\n",
      "\n"
     ]
    }
   ],
   "source": [
    "top = 10\n",
    "table_data = []\n",
    "for i, (params, metrics) in enumerate(trials[:top]):\n",
    "    metrics = metrics[\"cummulative_stats\"]\n",
    "    row = {\n",
    "        'ID': i,\n",
    "        'Iterations': f\"{float(metrics['iterations']['mean']):.1f}({float(metrics['iterations']['std']):.1f})\",\n",
    "        r\"$\\Delta E_\\text{HF}$\": f\"{float(metrics['energy_abs']['mean']):.1f}({float(metrics['energy_abs']['std']):.1f})\",\n",
    "        r\"$\\delta E_\\text{HF}$\": f\"{float(metrics['energy_rel']['mean']):.3f}({float(metrics['energy_rel']['std']):.3f})\",\n",
    "        'DIIS error': f\"{float(metrics['diis']['mean']):.3f}({float(metrics['diis']['std']):.2f})\",\n",
    "        r\"$\\overline{\\text{RMSE}}$\": f\"{float(metrics['rmse']['mean']):.4f}({float(metrics['rmse']['std']):.4f})\"\n",
    "    }\n",
    "    table_data.append(row)\n",
    "\n",
    "import pandas as pd\n",
    "df = pd.DataFrame(table_data)\n",
    "\n",
    "latex = df.to_latex(index=False)\n",
    "print(latex)"
   ]
  },
  {
   "cell_type": "code",
   "execution_count": 14,
   "id": "24d5632f",
   "metadata": {},
   "outputs": [
    {
     "name": "stdout",
     "output_type": "stream",
     "text": [
      "\\begin{tabular}{lllllllllll}\n",
      "\\toprule\n",
      " & 0 & 1 & 2 & 3 & 4 & 5 & 6 & 7 & 8 & 9 \\\\\n",
      "\\midrule\n",
      "Parameter & 0 & 1 & 2 & 3 & 4 & 5 & 6 & 7 & 8 & 9 \\\\\n",
      "Hidden Dimension & 512 & 256 & 512 & 128 & 128 & 512 & 512 & 128 & 128 & 512 \\\\\n",
      "Batch Size & 8 & 8 & 8 & 16 & 8 & 32 & 32 & 8 & 32 & 32 \\\\\n",
      "Data aug. & 3.00 & 4.00 & 2.00 & 4.00 & 3.00 & 3.00 & 3.00 & 1.00 & 4.00 & 3.00 \\\\\n",
      "Edge thres. & 2.65 & 3.25 & 3.86 & 3.11 & 2.22 & 3.31 & 3.86 & 3.82 & 3.62 & 2.56 \\\\\n",
      "Message p. steps & 3 & 4 & 3 & 3 & 4 & 2 & 2 & 4 & 3 & 3 \\\\\n",
      "Message Net Dropout & 0.14 & 0.24 & 0.02 & 0.05 & 0.16 & 0.20 & 0.10 & 0.02 & 0.26 & 0.22 \\\\\n",
      "Message Net Layers & 3 & 3 & 4 & 4 & 4 & 2 & 3 & 3 & 3 & 3 \\\\\n",
      "Learn Rate & 1.08e-04 & 3.99e-04 & 1.95e-04 & 3.27e-04 & 4.82e-04 & 8.66e-04 & 5.65e-04 & 3.32e-03 & 1.57e-03 & 1.73e-03 \\\\\n",
      "Weight Decay & 7.13e-04 & 1.24e-04 & 2.35e-04 & 1.50e-05 & 8.57e-04 & 1.35e-04 & 4.36e-05 & 7.39e-04 & 5.69e-05 & 5.30e-05 \\\\\n",
      "\\bottomrule\n",
      "\\end{tabular}\n",
      "\n"
     ]
    }
   ],
   "source": [
    "table_data = []\n",
    "for i, (params, metrics) in enumerate(trials[:top]):\n",
    "    metrics = metrics[\"cummulative_stats\"]\n",
    "    row = {\n",
    "        'Parameter': int(i),\n",
    "        'Hidden Dimension': int(params[\"hidden_dim\"]),\n",
    "        'Batch Size': int(params[\"batch_size\"]),\n",
    "        \"Data aug.\": f'{float(params[\"data_aug_factor\"]):.2f}',\n",
    "        \"Edge thres.\": f'{float(params[\"edge_threshold_val\"]):.2f}',\n",
    "        \"Message p. steps\": int(params[\"message_passing_steps\"]),\n",
    "        \"Message Net Dropout\": f'{float(params[\"message_net_dropout\"]):.2f}',\n",
    "        \"Message Net Layers\": int(params[\"message_net_layers\"]),\n",
    "        \"Learn Rate\": f'{float(params[\"lr\"]):.2e}',\n",
    "        \"Weight Decay\": f'{float(params[\"weight_decay\"]):.2e}',\n",
    "    }\n",
    "    table_data.append(row)\n",
    "\n",
    "import pandas as pd\n",
    "df = pd.DataFrame(table_data).T\n",
    "\n",
    "\n",
    "latex = df.to_latex(index=True)\n",
    "print(latex)"
   ]
  },
  {
   "cell_type": "code",
   "execution_count": null,
   "id": "e2f7ecc2",
   "metadata": {},
   "outputs": [],
   "source": []
  }
 ],
 "metadata": {
  "kernelspec": {
   "display_name": "scf_guess_1_0",
   "language": "python",
   "name": "python3"
  },
  "language_info": {
   "codemirror_mode": {
    "name": "ipython",
    "version": 3
   },
   "file_extension": ".py",
   "mimetype": "text/x-python",
   "name": "python",
   "nbconvert_exporter": "python",
   "pygments_lexer": "ipython3",
   "version": "3.11.11"
  }
 },
 "nbformat": 4,
 "nbformat_minor": 5
}
