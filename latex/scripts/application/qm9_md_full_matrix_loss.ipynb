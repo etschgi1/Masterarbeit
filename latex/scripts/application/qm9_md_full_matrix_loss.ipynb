{
 "cells": [
  {
   "cell_type": "code",
   "execution_count": 1,
   "id": "478938ce",
   "metadata": {},
   "outputs": [
    {
     "name": "stdout",
     "output_type": "stream",
     "text": [
      "Project root directory: /home/etschgi1/REPOS/Masterarbeit\n"
     ]
    }
   ],
   "source": [
    "import sys, pickle, json, os, re\n",
    "import numpy as np\n",
    "from collections import defaultdict\n",
    "from pprint import pprint\n",
    "from typing import List, Dict, Any\n",
    "sys.path.append('../src/')\n",
    "sys.path.append(\"../../scripts/\")\n",
    "from utils import find_repo_root\n",
    "\n",
    "import matplotlib.pyplot as plt\n",
    "from plt_config import use_latex, TU_GREY, TU_RED\n",
    "use_latex()\n",
    "project_root_dir = find_repo_root()\n",
    "print(\"Project root directory:\", project_root_dir)"
   ]
  },
  {
   "cell_type": "code",
   "execution_count": 2,
   "id": "bf862606",
   "metadata": {},
   "outputs": [],
   "source": [
    "ray_folder = \"/home/etschgi1/REPOS/Masterarbeit/3_studies/Block_guessing/6-31g_md_testing/tune_logs/MGNN_hyp_small_full_mat_loss_md.py\"\n",
    "trials = []\n",
    "for folder in os.listdir(ray_folder):\n",
    "    sub_folder_path = os.path.join(ray_folder, folder)\n",
    "    if os.path.exists(os.path.join(sub_folder_path, \"eval_res.json\")):\n",
    "        with open(os.path.join(sub_folder_path, \"eval_res.json\")) as f:\n",
    "            eval_res = json.load(f)\n",
    "        with open(os.path.join(sub_folder_path, \"params.json\")) as f:\n",
    "            params = json.load(f)\n",
    "        trials.append((params, eval_res))"
   ]
  },
  {
   "cell_type": "code",
   "execution_count": 3,
   "id": "34e8cf54",
   "metadata": {},
   "outputs": [
    {
     "name": "stdout",
     "output_type": "stream",
     "text": [
      "{'batch_size': 8, 'data_aug_factor': 4, 'edge_threshold_val': 3.4729546323381877, 'grace_epochs': 5, 'hidden_dim': 512, 'loss_on_full_matrix': True, 'lr': 0.00026609608815425317, 'lr_cooldown': 2, 'lr_factor': 0.5, 'lr_min': 1e-06, 'lr_patience': 3, 'lr_threshold': 0.001, 'message_net_dropout': 0.003298343626941691, 'message_net_layers': 4, 'message_passing_steps': 2, 'num_epochs': 30, 'weight_decay': 0.00017118995475258337}\n",
      "{'energy_abs': {'mean': -1243.924432159559, 'std': 38.445296744325056}, 'iterations': {'mean': 11.476190476190476, 'std': 0.9571310115353228}, 'energy_rel': {'mean': -0.7132488533198056, 'std': 0.010936525690007678}, 'diis': {'mean': 0.20330397955926433, 'std': 0.016186910136091078}, 'rmse': {'mean': 0.007402123613588803, 'std': 0.0006294361313717451}}\n",
      "---\n",
      "{'batch_size': 8, 'data_aug_factor': 4, 'edge_threshold_val': 3.27252771373414, 'grace_epochs': 5, 'hidden_dim': 128, 'loss_on_full_matrix': True, 'lr': 0.00034665740607485115, 'lr_cooldown': 2, 'lr_factor': 0.5, 'lr_min': 1e-06, 'lr_patience': 3, 'lr_threshold': 0.001, 'message_net_dropout': 0.05722283833151531, 'message_net_layers': 3, 'message_passing_steps': 4, 'num_epochs': 30, 'weight_decay': 2.5668299582620588e-05}\n",
      "{'energy_abs': {'mean': -1252.831079850256, 'std': 37.651793499275364}, 'iterations': {'mean': 11.52, 'std': 0.6705221845696083}, 'energy_rel': {'mean': -0.7171675065311988, 'std': 0.010631406173981575}, 'diis': {'mean': 0.2108229254288264, 'std': 0.017718961901904716}, 'rmse': {'mean': 0.0076235346193380725, 'std': 0.0005688219626131843}}\n",
      "---\n",
      "{'batch_size': 8, 'data_aug_factor': 3, 'edge_threshold_val': 3.4755540124204654, 'grace_epochs': 5, 'hidden_dim': 128, 'loss_on_full_matrix': True, 'lr': 0.0008275360667939878, 'lr_cooldown': 2, 'lr_factor': 0.5, 'lr_min': 1e-06, 'lr_patience': 3, 'lr_threshold': 0.001, 'message_net_dropout': 0.2670535417302075, 'message_net_layers': 2, 'message_passing_steps': 4, 'num_epochs': 30, 'weight_decay': 1.602165642913457e-05}\n",
      "{'energy_abs': {'mean': -1253.6696412549559, 'std': 37.5453585869381}, 'iterations': {'mean': 11.58, 'std': 0.7769169839822013}, 'energy_rel': {'mean': -0.7176436102456752, 'std': 0.010210983065610121}, 'diis': {'mean': 0.2079472701513334, 'std': 0.017194278021754387}, 'rmse': {'mean': 0.007635922610252597, 'std': 0.0006055714808785491}}\n",
      "---\n",
      "{'batch_size': 8, 'data_aug_factor': 3, 'edge_threshold_val': 2.791178529199019, 'grace_epochs': 5, 'hidden_dim': 256, 'loss_on_full_matrix': True, 'lr': 0.0001279036868253492, 'lr_cooldown': 2, 'lr_factor': 0.5, 'lr_min': 1e-06, 'lr_patience': 3, 'lr_threshold': 0.001, 'message_net_dropout': 0.05102029157120262, 'message_net_layers': 3, 'message_passing_steps': 2, 'num_epochs': 30, 'weight_decay': 0.0003377405047197255}\n",
      "{'energy_abs': {'mean': -1256.309209485538, 'std': 38.54392280908824}, 'iterations': {'mean': 11.66, 'std': 0.992169340384997}, 'energy_rel': {'mean': -0.7191653259904206, 'std': 0.0118734735075691}, 'diis': {'mean': 0.21076916234303109, 'std': 0.01716499587824534}, 'rmse': {'mean': 0.007539252071794297, 'std': 0.0005979461615554648}}\n",
      "---\n",
      "{'batch_size': 32, 'data_aug_factor': 2, 'edge_threshold_val': 2.716771319590422, 'grace_epochs': 5, 'hidden_dim': 512, 'loss_on_full_matrix': True, 'lr': 0.00010031719899176669, 'lr_cooldown': 2, 'lr_factor': 0.5, 'lr_min': 1e-06, 'lr_patience': 3, 'lr_threshold': 0.001, 'message_net_dropout': 0.11163170205187974, 'message_net_layers': 3, 'message_passing_steps': 2, 'num_epochs': 30, 'weight_decay': 0.0003038214347380765}\n",
      "{'energy_abs': {'mean': -1257.43989060929, 'std': 39.16301489474867}, 'iterations': {'mean': 11.9, 'std': 0.8774964387392121}, 'energy_rel': {'mean': -0.7198051011077246, 'std': 0.012132195281939732}, 'diis': {'mean': 0.21426656731936938, 'std': 0.01734065203963636}, 'rmse': {'mean': 0.008484126041309104, 'std': 0.0006598410213352272}}\n",
      "---\n",
      "{'batch_size': 32, 'data_aug_factor': 2, 'edge_threshold_val': 3.2965604319515074, 'grace_epochs': 5, 'hidden_dim': 256, 'loss_on_full_matrix': True, 'lr': 0.0005085421492757611, 'lr_cooldown': 2, 'lr_factor': 0.5, 'lr_min': 1e-06, 'lr_patience': 3, 'lr_threshold': 0.001, 'message_net_dropout': 0.09957656280769385, 'message_net_layers': 4, 'message_passing_steps': 4, 'num_epochs': 30, 'weight_decay': 0.0009688057382715985}\n",
      "{'energy_abs': {'mean': -1287.5316965383868, 'std': 37.24613863940413}, 'iterations': {'mean': 12.32, 'std': 0.9042123644365854}, 'energy_rel': {'mean': -0.7370499910964479, 'std': 0.010599065089285773}, 'diis': {'mean': 0.22366163098232913, 'std': 0.01786398756967556}, 'rmse': {'mean': 0.008605828894056118, 'std': 0.0005457537483520333}}\n",
      "---\n",
      "{'batch_size': 32, 'data_aug_factor': 3, 'edge_threshold_val': 2.6919257850541305, 'grace_epochs': 5, 'hidden_dim': 128, 'loss_on_full_matrix': True, 'lr': 0.0025086364086525244, 'lr_cooldown': 2, 'lr_factor': 0.5, 'lr_min': 1e-06, 'lr_patience': 3, 'lr_threshold': 0.001, 'message_net_dropout': 0.14145504167781997, 'message_net_layers': 3, 'message_passing_steps': 3, 'num_epochs': 30, 'weight_decay': 0.0005792228614602723}\n",
      "{'energy_abs': {'mean': -1282.1854674672613, 'std': 35.7308857814832}, 'iterations': {'mean': 12.34, 'std': 0.9509994742374992}, 'energy_rel': {'mean': -0.7340118835642593, 'std': 0.010380948532508776}, 'diis': {'mean': 0.2216287804832438, 'std': 0.018161500693988954}, 'rmse': {'mean': 0.008304499519505633, 'std': 0.0006311691303811804}}\n",
      "---\n",
      "{'batch_size': 16, 'data_aug_factor': 4, 'edge_threshold_val': 3.671569507948346, 'grace_epochs': 5, 'hidden_dim': 512, 'loss_on_full_matrix': True, 'lr': 0.0008229338070725044, 'lr_cooldown': 2, 'lr_factor': 0.5, 'lr_min': 1e-06, 'lr_patience': 3, 'lr_threshold': 0.001, 'message_net_dropout': 0.1931146619220924, 'message_net_layers': 4, 'message_passing_steps': 4, 'num_epochs': 30, 'weight_decay': 4.795715155281628e-05}\n",
      "{'energy_abs': {'mean': -1290.1399430373494, 'std': 39.6933209328743}, 'iterations': {'mean': 12.46, 'std': 1.0239140588936164}, 'energy_rel': {'mean': -0.738507632710258, 'std': 0.010941298524881037}, 'diis': {'mean': 0.22180982485224973, 'std': 0.017857759791395617}, 'rmse': {'mean': 0.008395453878286536, 'std': 0.0005965524390408053}}\n",
      "---\n",
      "{'batch_size': 32, 'data_aug_factor': 3, 'edge_threshold_val': 3.68423700967565, 'grace_epochs': 5, 'hidden_dim': 512, 'loss_on_full_matrix': True, 'lr': 0.0017828537682308388, 'lr_cooldown': 2, 'lr_factor': 0.5, 'lr_min': 1e-06, 'lr_patience': 3, 'lr_threshold': 0.001, 'message_net_dropout': 0.14897432781838768, 'message_net_layers': 4, 'message_passing_steps': 3, 'num_epochs': 30, 'weight_decay': 5.271547173428617e-05}\n",
      "{'energy_abs': {'mean': -1280.0067885975304, 'std': 42.829150837133085}, 'iterations': {'mean': 12.52, 'std': 1.2039933554633928}, 'energy_rel': {'mean': -0.732678943036195, 'std': 0.013078913826963912}, 'diis': {'mean': 0.2211614164577086, 'std': 0.020965094107266345}, 'rmse': {'mean': 0.009114385992309161, 'std': 0.0015861916814830829}}\n",
      "---\n",
      "{'batch_size': 32, 'data_aug_factor': 3, 'edge_threshold_val': 2.2512949927263115, 'grace_epochs': 5, 'hidden_dim': 512, 'loss_on_full_matrix': True, 'lr': 0.001936989623698454, 'lr_cooldown': 2, 'lr_factor': 0.5, 'lr_min': 1e-06, 'lr_patience': 3, 'lr_threshold': 0.001, 'message_net_dropout': 0.17827922385212347, 'message_net_layers': 2, 'message_passing_steps': 5, 'num_epochs': 30, 'weight_decay': 1.3654613774637436e-05}\n",
      "{'energy_abs': {'mean': -1293.1069562331143, 'std': 41.19150502818205}, 'iterations': {'mean': 12.52, 'std': 1.0628264204469138}, 'energy_rel': {'mean': -0.740208407063574, 'std': 0.012531172248585045}, 'diis': {'mean': 0.22291255669328927, 'std': 0.017945255493899172}, 'rmse': {'mean': 0.008788876590517875, 'std': 0.0005567087910274782}}\n",
      "---\n",
      "{'batch_size': 32, 'data_aug_factor': 2, 'edge_threshold_val': 2.357224832806449, 'grace_epochs': 5, 'hidden_dim': 512, 'loss_on_full_matrix': True, 'lr': 0.00044765076996810854, 'lr_cooldown': 2, 'lr_factor': 0.5, 'lr_min': 1e-06, 'lr_patience': 3, 'lr_threshold': 0.001, 'message_net_dropout': 0.06296656049097703, 'message_net_layers': 4, 'message_passing_steps': 5, 'num_epochs': 30, 'weight_decay': 0.00015501729379370445}\n",
      "{'energy_abs': {'mean': -1297.601359053423, 'std': 36.39927847088293}, 'iterations': {'mean': 12.78, 'std': 1.269488085804668}, 'energy_rel': {'mean': -0.7428571870376264, 'std': 0.012071039198897184}, 'diis': {'mean': 0.2248231172788449, 'std': 0.016525801244623026}, 'rmse': {'mean': 0.00860921387428697, 'std': 0.0005404687166467453}}\n",
      "---\n",
      "{'batch_size': 32, 'data_aug_factor': 3, 'edge_threshold_val': 2.3382991913485496, 'grace_epochs': 5, 'hidden_dim': 256, 'loss_on_full_matrix': True, 'lr': 0.00010820764268219266, 'lr_cooldown': 2, 'lr_factor': 0.5, 'lr_min': 1e-06, 'lr_patience': 3, 'lr_threshold': 0.001, 'message_net_dropout': 0.25640952068663464, 'message_net_layers': 4, 'message_passing_steps': 5, 'num_epochs': 30, 'weight_decay': 2.7442595047420676e-05}\n",
      "{'energy_abs': {'mean': -1293.6572286606843, 'std': 44.70197084725667}, 'iterations': {'mean': 13.14, 'std': 1.4423591785682233}, 'energy_rel': {'mean': -0.7405070451558622, 'std': 0.015354054760870048}, 'diis': {'mean': 0.22538071283857072, 'std': 0.01959939174053178}, 'rmse': {'mean': 0.008862610279978301, 'std': 0.0006360199806280817}}\n",
      "---\n",
      "{'batch_size': 32, 'data_aug_factor': 2, 'edge_threshold_val': 3.5967737550925927, 'grace_epochs': 5, 'hidden_dim': 256, 'loss_on_full_matrix': True, 'lr': 0.0071062331142184385, 'lr_cooldown': 2, 'lr_factor': 0.5, 'lr_min': 1e-06, 'lr_patience': 3, 'lr_threshold': 0.001, 'message_net_dropout': 0.004017458663407192, 'message_net_layers': 3, 'message_passing_steps': 2, 'num_epochs': 30, 'weight_decay': 2.2574401536924707e-05}\n",
      "{'energy_abs': {'mean': -931.9956477793785, 'std': 28.983688272143418}, 'iterations': {'mean': 19.0, 'std': 1.0}, 'energy_rel': {'mean': -0.5332508982772605, 'std': 0.013446821339889978}, 'diis': {'mean': 5.113860540172196, 'std': 3.0541885137415785}, 'rmse': {'mean': 0.04117506525339989, 'std': 0.002109637406853332}}\n",
      "---\n",
      "{'batch_size': 8, 'data_aug_factor': 3, 'edge_threshold_val': 3.585136097994365, 'grace_epochs': 5, 'hidden_dim': 512, 'loss_on_full_matrix': True, 'lr': 0.006888303220098209, 'lr_cooldown': 2, 'lr_factor': 0.5, 'lr_min': 1e-06, 'lr_patience': 3, 'lr_threshold': 0.001, 'message_net_dropout': 0.21630438831055374, 'message_net_layers': 4, 'message_passing_steps': 3, 'num_epochs': 30, 'weight_decay': 0.00014755961284228174}\n",
      "{'energy_abs': {'mean': 6.263373602818481e+19, 'std': 3.4918742693183214e+19}, 'iterations': {'mean': 20.5, 'std': 1.2583057392117916}, 'energy_rel': {'mean': 3.5915773477948612e+16, 'std': 1.996531493639561e+16}, 'diis': {'mean': 5.186997996372121e+17, 'std': 3.4198957655696006e+17}, 'rmse': {'mean': 84907241.27140504, 'std': 20510453.319953717}}\n",
      "---\n"
     ]
    }
   ],
   "source": [
    "trials.sort(key=lambda x:x[1][\"cummulative_stats\"][\"iterations\"][\"mean\"])\n",
    "for trial in trials: \n",
    "    print(trial[0])\n",
    "    print(trial[1][\"cummulative_stats\"])\n",
    "    print(\"---\")\n"
   ]
  },
  {
   "cell_type": "code",
   "execution_count": 7,
   "id": "1a6b43fa",
   "metadata": {},
   "outputs": [
    {
     "name": "stdout",
     "output_type": "stream",
     "text": [
      "\\begin{tabular}{rlllll}\n",
      "\\toprule\n",
      "ID & Iterations & $\\Delta E_\\text{HF}$ & $\\delta E_\\text{HF}$ & DIIS error & $\\overline{\\text{RMSE}}$ \\\\\n",
      "\\midrule\n",
      "0 & 11.5(1.0) & -1243.9(38.4) & -0.713(0.011) & 0.203(0.02) & 0.0074(0.0006) \\\\\n",
      "1 & 11.5(0.7) & -1252.8(37.7) & -0.717(0.011) & 0.211(0.02) & 0.0076(0.0006) \\\\\n",
      "2 & 11.6(0.8) & -1253.7(37.5) & -0.718(0.010) & 0.208(0.02) & 0.0076(0.0006) \\\\\n",
      "3 & 11.7(1.0) & -1256.3(38.5) & -0.719(0.012) & 0.211(0.02) & 0.0075(0.0006) \\\\\n",
      "4 & 11.9(0.9) & -1257.4(39.2) & -0.720(0.012) & 0.214(0.02) & 0.0085(0.0007) \\\\\n",
      "5 & 12.3(0.9) & -1287.5(37.2) & -0.737(0.011) & 0.224(0.02) & 0.0086(0.0005) \\\\\n",
      "6 & 12.3(1.0) & -1282.2(35.7) & -0.734(0.010) & 0.222(0.02) & 0.0083(0.0006) \\\\\n",
      "7 & 12.5(1.0) & -1290.1(39.7) & -0.739(0.011) & 0.222(0.02) & 0.0084(0.0006) \\\\\n",
      "8 & 12.5(1.2) & -1280.0(42.8) & -0.733(0.013) & 0.221(0.02) & 0.0091(0.0016) \\\\\n",
      "9 & 12.5(1.1) & -1293.1(41.2) & -0.740(0.013) & 0.223(0.02) & 0.0088(0.0006) \\\\\n",
      "\\bottomrule\n",
      "\\end{tabular}\n",
      "\n"
     ]
    }
   ],
   "source": [
    "top = 10\n",
    "table_data = []\n",
    "for i, (params, metrics) in enumerate(trials[:top]):\n",
    "    metrics = metrics[\"cummulative_stats\"]\n",
    "    row = {\n",
    "        'ID': i,\n",
    "        'Iterations': f\"{float(metrics['iterations']['mean']):.1f}({float(metrics['iterations']['std']):.1f})\",\n",
    "        r\"$\\Delta E_\\text{HF}$\": f\"{float(metrics['energy_abs']['mean']):.1f}({float(metrics['energy_abs']['std']):.1f})\",\n",
    "        r\"$\\delta E_\\text{HF}$\": f\"{float(metrics['energy_rel']['mean']):.3f}({float(metrics['energy_rel']['std']):.3f})\",\n",
    "        'DIIS error': f\"{float(metrics['diis']['mean']):.3f}({float(metrics['diis']['std']):.2f})\",\n",
    "        r\"$\\overline{\\text{RMSE}}$\": f\"{float(metrics['rmse']['mean']):.4f}({float(metrics['rmse']['std']):.4f})\"\n",
    "    }\n",
    "    table_data.append(row)\n",
    "\n",
    "import pandas as pd\n",
    "df = pd.DataFrame(table_data)\n",
    "\n",
    "latex = df.to_latex(index=False)\n",
    "print(latex)"
   ]
  },
  {
   "cell_type": "code",
   "execution_count": 8,
   "id": "24d5632f",
   "metadata": {},
   "outputs": [
    {
     "name": "stdout",
     "output_type": "stream",
     "text": [
      "\\begin{tabular}{lllllllllll}\n",
      "\\toprule\n",
      " & 0 & 1 & 2 & 3 & 4 & 5 & 6 & 7 & 8 & 9 \\\\\n",
      "\\midrule\n",
      "Parameter & 0 & 1 & 2 & 3 & 4 & 5 & 6 & 7 & 8 & 9 \\\\\n",
      "Hidden Dimension & 512 & 128 & 128 & 256 & 512 & 256 & 128 & 512 & 512 & 512 \\\\\n",
      "Batch Size & 8 & 8 & 8 & 8 & 32 & 32 & 32 & 16 & 32 & 32 \\\\\n",
      "Data aug. & 4.00 & 4.00 & 3.00 & 3.00 & 2.00 & 2.00 & 3.00 & 4.00 & 3.00 & 3.00 \\\\\n",
      "Edge thres. & 3.47 & 3.27 & 3.48 & 2.79 & 2.72 & 3.30 & 2.69 & 3.67 & 3.68 & 2.25 \\\\\n",
      "Message p. steps & 2 & 4 & 4 & 2 & 2 & 4 & 3 & 4 & 3 & 5 \\\\\n",
      "Message Net Dropout & 0.00 & 0.06 & 0.27 & 0.05 & 0.11 & 0.10 & 0.14 & 0.19 & 0.15 & 0.18 \\\\\n",
      "Message Net Layers & 4 & 3 & 2 & 3 & 3 & 4 & 3 & 4 & 4 & 2 \\\\\n",
      "Learn Rate & 2.66e-04 & 3.47e-04 & 8.28e-04 & 1.28e-04 & 1.00e-04 & 5.09e-04 & 2.51e-03 & 8.23e-04 & 1.78e-03 & 1.94e-03 \\\\\n",
      "Weight Decay & 1.71e-04 & 2.57e-05 & 1.60e-05 & 3.38e-04 & 3.04e-04 & 9.69e-04 & 5.79e-04 & 4.80e-05 & 5.27e-05 & 1.37e-05 \\\\\n",
      "\\bottomrule\n",
      "\\end{tabular}\n",
      "\n"
     ]
    }
   ],
   "source": [
    "table_data = []\n",
    "for i, (params, metrics) in enumerate(trials[:top]):\n",
    "    metrics = metrics[\"cummulative_stats\"]\n",
    "    row = {\n",
    "        'Parameter': int(i),\n",
    "        'Hidden Dimension': int(params[\"hidden_dim\"]),\n",
    "        'Batch Size': int(params[\"batch_size\"]),\n",
    "        \"Data aug.\": f'{float(params[\"data_aug_factor\"]):.2f}',\n",
    "        \"Edge thres.\": f'{float(params[\"edge_threshold_val\"]):.2f}',\n",
    "        \"Message p. steps\": int(params[\"message_passing_steps\"]),\n",
    "        \"Message Net Dropout\": f'{float(params[\"message_net_dropout\"]):.2f}',\n",
    "        \"Message Net Layers\": int(params[\"message_net_layers\"]),\n",
    "        \"Learn Rate\": f'{float(params[\"lr\"]):.2e}',\n",
    "        \"Weight Decay\": f'{float(params[\"weight_decay\"]):.2e}',\n",
    "    }\n",
    "    table_data.append(row)\n",
    "\n",
    "import pandas as pd\n",
    "df = pd.DataFrame(table_data).T\n",
    "\n",
    "\n",
    "latex = df.to_latex(index=True)\n",
    "print(latex)"
   ]
  },
  {
   "cell_type": "code",
   "execution_count": null,
   "id": "e2f7ecc2",
   "metadata": {},
   "outputs": [],
   "source": []
  }
 ],
 "metadata": {
  "kernelspec": {
   "display_name": "scf_guess_1_0",
   "language": "python",
   "name": "python3"
  },
  "language_info": {
   "codemirror_mode": {
    "name": "ipython",
    "version": 3
   },
   "file_extension": ".py",
   "mimetype": "text/x-python",
   "name": "python",
   "nbconvert_exporter": "python",
   "pygments_lexer": "ipython3",
   "version": "3.11.11"
  }
 },
 "nbformat": 4,
 "nbformat_minor": 5
}
