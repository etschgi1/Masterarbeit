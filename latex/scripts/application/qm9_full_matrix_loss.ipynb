{
 "cells": [
  {
   "cell_type": "code",
   "execution_count": 55,
   "id": "478938ce",
   "metadata": {},
   "outputs": [
    {
     "name": "stdout",
     "output_type": "stream",
     "text": [
      "Project root directory: /home/etschgi1/REPOS/Masterarbeit\n"
     ]
    }
   ],
   "source": [
    "import sys, pickle, json, os, re\n",
    "import numpy as np\n",
    "from collections import defaultdict\n",
    "from pprint import pprint\n",
    "from typing import List, Dict, Any\n",
    "sys.path.append('../src/')\n",
    "sys.path.append(\"../../scripts/\")\n",
    "from utils import find_repo_root\n",
    "\n",
    "import matplotlib.pyplot as plt\n",
    "from plt_config import use_latex, TU_GREY, TU_RED\n",
    "use_latex()\n",
    "project_root_dir = find_repo_root()\n",
    "print(\"Project root directory:\", project_root_dir)"
   ]
  },
  {
   "cell_type": "code",
   "execution_count": 56,
   "id": "bf862606",
   "metadata": {},
   "outputs": [
    {
     "data": {
      "text/plain": [
       "12"
      ]
     },
     "execution_count": 56,
     "metadata": {},
     "output_type": "execute_result"
    }
   ],
   "source": [
    "ray_folder = \"/home/etschgi1/REPOS/Masterarbeit/3_studies/Block_guessing/6-31g_full_testing/tune_logs/MGNN_hyp_small_full_full_mat_loss_server.py\"\n",
    "trials = []\n",
    "for folder in os.listdir(ray_folder):\n",
    "    sub_folder_path = os.path.join(ray_folder, folder)\n",
    "    if os.path.exists(os.path.join(sub_folder_path, \"eval_res_reeval.json\")):\n",
    "        with open(os.path.join(sub_folder_path, \"eval_res_reeval.json\")) as f:\n",
    "            eval_res = json.load(f)\n",
    "        with open(os.path.join(sub_folder_path, \"eval_res.json\")) as f:\n",
    "            eval_res_old = json.load(f)\n",
    "        eval_res[\"cummulative_stats\"][\"iterations\"] = eval_res_old[\"cummulative_stats\"][\"iterations\"]\n",
    "        with open(os.path.join(sub_folder_path, \"params.json\")) as f:\n",
    "            params = json.load(f)\n",
    "        with open(os.path.join(sub_folder_path, \"result.json\")) as f:\n",
    "            last_text = f.readlines()[-1]\n",
    "            epochs_trained = re.search('epoch\": [0-9]*', last_text).group(0).split(\": \")[-1]\n",
    "        params[\"folder\"] = folder\n",
    "        params[\"epochs_trained\"] = int(epochs_trained)\n",
    "        trials.append((params, eval_res))\n",
    "len(trials)"
   ]
  },
  {
   "cell_type": "code",
   "execution_count": 57,
   "id": "34e8cf54",
   "metadata": {},
   "outputs": [
    {
     "name": "stdout",
     "output_type": "stream",
     "text": [
      "Found 12 trials in /home/etschgi1/REPOS/Masterarbeit/3_studies/Block_guessing/6-31g_full_testing/tune_logs/MGNN_hyp_small_full_full_mat_loss_server.py\n",
      "hyperopt_train_036e6_00043_43_batch_size=8,data_aug_factor=4,edge_threshold_val=3.4020,hidden_dim=128,lr=0.0007,message_net_dropou_2025-07-18_12-18-58\n",
      "hyperopt_train_036e6_00078_78_batch_size=8,data_aug_factor=1,edge_threshold_val=2.5786,hidden_dim=256,lr=0.0009,message_net_dropou_2025-07-18_15-39-03\n",
      "hyperopt_train_036e6_00042_42_batch_size=8,data_aug_factor=1,edge_threshold_val=3.9776,hidden_dim=256,lr=0.0016,message_net_dropou_2025-07-18_12-14-41\n",
      "hyperopt_train_036e6_00032_32_batch_size=8,data_aug_factor=1,edge_threshold_val=3.2088,hidden_dim=256,lr=0.0003,message_net_dropou_2025-07-18_11-39-56\n",
      "hyperopt_train_036e6_00027_27_batch_size=8,data_aug_factor=2,edge_threshold_val=2.8523,hidden_dim=128,lr=0.0008,message_net_dropou_2025-07-18_11-16-53\n",
      "hyperopt_train_036e6_00033_33_batch_size=8,data_aug_factor=1,edge_threshold_val=3.2851,hidden_dim=512,lr=0.0002,message_net_dropou_2025-07-18_11-41-12\n",
      "hyperopt_train_036e6_00044_44_batch_size=8,data_aug_factor=4,edge_threshold_val=3.2680,hidden_dim=512,lr=0.0001,message_net_dropou_2025-07-18_12-22-41\n",
      "hyperopt_train_036e6_00048_48_batch_size=16,data_aug_factor=3,edge_threshold_val=2.7247,hidden_dim=512,lr=0.0006,message_net_dropo_2025-07-18_12-52-47\n",
      "hyperopt_train_036e6_00072_72_batch_size=8,data_aug_factor=1,edge_threshold_val=3.4386,hidden_dim=512,lr=0.0011,message_net_dropou_2025-07-18_15-25-48\n",
      "hyperopt_train_036e6_00011_11_batch_size=8,data_aug_factor=2,edge_threshold_val=2.2984,hidden_dim=128,lr=0.0006,message_net_dropou_2025-07-18_10-02-05\n",
      "hyperopt_train_036e6_00004_4_batch_size=16,data_aug_factor=3,edge_threshold_val=3.5448,hidden_dim=512,lr=0.0004,message_net_dropou_2025-07-18_09-41-20\n",
      "hyperopt_train_036e6_00067_67_batch_size=8,data_aug_factor=4,edge_threshold_val=2.9581,hidden_dim=128,lr=0.0006,message_net_dropou_2025-07-18_15-04-17\n"
     ]
    }
   ],
   "source": [
    "trials.sort(key=lambda x:x[1][\"cummulative_stats\"][\"iterations\"][\"mean\"])\n",
    "print(f\"Found {len(trials)} trials in {ray_folder}\")\n",
    "for trial in trials: \n",
    "    print(trial[0][\"folder\"])\n",
    "    # print(trial[1][\"cummulative_stats\"])\n",
    "    # print(trial[0][\"epochs_trained\"])\n",
    "    # print(\"---\")\n"
   ]
  },
  {
   "cell_type": "code",
   "execution_count": 60,
   "id": "1a6b43fa",
   "metadata": {},
   "outputs": [
    {
     "name": "stdout",
     "output_type": "stream",
     "text": [
      "\\begin{tabular}{rlllll}\n",
      "\\toprule\n",
      "ID & Iterations & $\\Delta E_\\text{HF}$ & $\\delta E_\\text{HF}$ & DIIS error & $\\overline{\\text{RMSE}}$ \\\\\n",
      "\\midrule\n",
      "0 & 11.9(2.1) & 1.2(5.5) & 0.0009(0.0031) & 0.034(0.011) & 0.0088(0.0026) \\\\\n",
      "1 & 12.0(1.7) & 0.9(1.7) & 0.0005(0.0011) & 0.034(0.013) & 0.0092(0.0024) \\\\\n",
      "2 & 12.0(1.8) & -1.3(4.2) & -0.0009(0.0024) & 0.035(0.011) & 0.0093(0.0025) \\\\\n",
      "3 & 12.0(1.9) & -1.6(2.7) & -0.0010(0.0017) & 0.034(0.013) & 0.0090(0.0026) \\\\\n",
      "4 & 12.0(1.8) & -0.2(2.1) & -0.0002(0.0017) & 0.044(0.048) & 0.0090(0.0032) \\\\\n",
      "5 & 12.0(1.7) & 0.3(2.7) & 0.0001(0.0022) & 0.033(0.013) & 0.0090(0.0025) \\\\\n",
      "6 & 12.0(2.0) & 0.3(1.9) & 0.0002(0.0013) & 0.033(0.013) & 0.0086(0.0028) \\\\\n",
      "7 & 12.1(1.6) & -0.7(2.5) & -0.0007(0.0019) & 0.038(0.018) & 0.0091(0.0029) \\\\\n",
      "8 & 12.1(2.1) & 0.1(1.9) & -0.0000(0.0013) & 0.035(0.012) & 0.0093(0.0027) \\\\\n",
      "9 & 12.1(1.8) & 1.3(2.3) & 0.0008(0.0013) & 0.036(0.014) & 0.0090(0.0024) \\\\\n",
      "\\bottomrule\n",
      "\\end{tabular}\n",
      "\n"
     ]
    }
   ],
   "source": [
    "top = 10\n",
    "table_data = []\n",
    "for i, (params, metrics) in enumerate(trials[:top]):\n",
    "    metrics = metrics[\"cummulative_stats\"]\n",
    "    row = {\n",
    "        'ID': i,\n",
    "        'Iterations': f\"{float(metrics['iterations']['mean']):.1f}({float(metrics['iterations']['std']):.1f})\",\n",
    "        r\"$\\Delta E_\\text{HF}$\": f\"{float(metrics['energy_abs']['mean']):.1f}({float(metrics['energy_abs']['std']):.1f})\",\n",
    "        r\"$\\delta E_\\text{HF}$\": f\"{float(metrics['energy_rel']['mean']):.4f}({float(metrics['energy_rel']['std']):.4f})\",\n",
    "        'DIIS error': f\"{float(metrics['diis']['mean']):.3f}({float(metrics['diis']['std']):.3f})\",\n",
    "        r\"$\\overline{\\text{RMSE}}$\": f\"{float(metrics['rmse']['mean']):.4f}({float(metrics['rmse']['std']):.4f})\"\n",
    "    }\n",
    "    table_data.append(row)\n",
    "\n",
    "import pandas as pd\n",
    "df = pd.DataFrame(table_data)\n",
    "\n",
    "latex = df.to_latex(index=False)\n",
    "print(latex)"
   ]
  },
  {
   "cell_type": "code",
   "execution_count": 59,
   "id": "24d5632f",
   "metadata": {},
   "outputs": [
    {
     "name": "stdout",
     "output_type": "stream",
     "text": [
      "\\begin{tabular}{lllllllllll}\n",
      "\\toprule\n",
      " & 0 & 1 & 2 & 3 & 4 & 5 & 6 & 7 & 8 & 9 \\\\\n",
      "\\midrule\n",
      "Parameter & 0 & 1 & 2 & 3 & 4 & 5 & 6 & 7 & 8 & 9 \\\\\n",
      "Hidden Dimension & 128 & 256 & 256 & 256 & 128 & 512 & 512 & 512 & 512 & 128 \\\\\n",
      "Batch Size & 8 & 8 & 8 & 8 & 8 & 8 & 8 & 16 & 8 & 8 \\\\\n",
      "Data aug. & 4.00 & 1.00 & 1.00 & 1.00 & 2.00 & 1.00 & 4.00 & 3.00 & 1.00 & 2.00 \\\\\n",
      "Edge thres. & 3.40 & 2.58 & 3.98 & 3.21 & 2.85 & 3.29 & 3.27 & 2.72 & 3.44 & 2.30 \\\\\n",
      "Message p. steps & 4 & 5 & 3 & 2 & 2 & 4 & 3 & 3 & 2 & 4 \\\\\n",
      "Message Net Dropout & 0.09 & 0.16 & 0.25 & 0.21 & 0.11 & 0.04 & 0.25 & 0.04 & 0.18 & 0.19 \\\\\n",
      "Message Net Layers & 3 & 3 & 3 & 3 & 4 & 3 & 3 & 2 & 3 & 2 \\\\\n",
      "Learn Rate & 6.90e-04 & 9.31e-04 & 1.61e-03 & 2.75e-04 & 8.03e-04 & 1.51e-04 & 1.26e-04 & 5.85e-04 & 1.09e-03 & 6.50e-04 \\\\\n",
      "Weight Decay & 7.15e-05 & 5.46e-05 & 3.58e-05 & 4.69e-05 & 6.06e-04 & 3.99e-04 & 2.56e-04 & 1.45e-04 & 1.84e-05 & 1.74e-05 \\\\\n",
      "\\bottomrule\n",
      "\\end{tabular}\n",
      "\n"
     ]
    }
   ],
   "source": [
    "table_data = []\n",
    "for i, (params, metrics) in enumerate(trials[:top]):\n",
    "    metrics = metrics[\"cummulative_stats\"]\n",
    "    row = {\n",
    "        'Parameter': int(i),\n",
    "        'Hidden Dimension': int(params[\"hidden_dim\"]),\n",
    "        'Batch Size': int(params[\"batch_size\"]),\n",
    "        \"Data aug.\": f'{float(params[\"data_aug_factor\"]):.2f}',\n",
    "        \"Edge thres.\": f'{float(params[\"edge_threshold_val\"]):.2f}',\n",
    "        \"Message p. steps\": int(params[\"message_passing_steps\"]),\n",
    "        \"Message Net Dropout\": f'{float(params[\"message_net_dropout\"]):.2f}',\n",
    "        \"Message Net Layers\": int(params[\"message_net_layers\"]),\n",
    "        \"Learn Rate\": f'{float(params[\"lr\"]):.2e}',\n",
    "        \"Weight Decay\": f'{float(params[\"weight_decay\"]):.2e}',\n",
    "    }\n",
    "    table_data.append(row)\n",
    "\n",
    "import pandas as pd\n",
    "df = pd.DataFrame(table_data).T\n",
    "\n",
    "\n",
    "latex = df.to_latex(index=True)\n",
    "print(latex)"
   ]
  },
  {
   "cell_type": "code",
   "execution_count": null,
   "id": "e2f7ecc2",
   "metadata": {},
   "outputs": [],
   "source": []
  }
 ],
 "metadata": {
  "kernelspec": {
   "display_name": "scf_guess_1_0",
   "language": "python",
   "name": "python3"
  },
  "language_info": {
   "codemirror_mode": {
    "name": "ipython",
    "version": 3
   },
   "file_extension": ".py",
   "mimetype": "text/x-python",
   "name": "python",
   "nbconvert_exporter": "python",
   "pygments_lexer": "ipython3",
   "version": "3.11.11"
  }
 },
 "nbformat": 4,
 "nbformat_minor": 5
}
