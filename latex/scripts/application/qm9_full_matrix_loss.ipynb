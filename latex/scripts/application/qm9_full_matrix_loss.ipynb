{
 "cells": [
  {
   "cell_type": "code",
   "execution_count": 1,
   "id": "478938ce",
   "metadata": {},
   "outputs": [
    {
     "name": "stdout",
     "output_type": "stream",
     "text": [
      "Project root directory: /home/etschgi1/REPOS/Masterarbeit\n"
     ]
    }
   ],
   "source": [
    "import sys, pickle, json, os, re\n",
    "import numpy as np\n",
    "from collections import defaultdict\n",
    "from pprint import pprint\n",
    "from typing import List, Dict, Any\n",
    "sys.path.append('../src/')\n",
    "sys.path.append(\"../../scripts/\")\n",
    "from utils import find_repo_root\n",
    "\n",
    "import matplotlib.pyplot as plt\n",
    "from plt_config import use_latex, TU_GREY, TU_RED\n",
    "use_latex()\n",
    "project_root_dir = find_repo_root()\n",
    "print(\"Project root directory:\", project_root_dir)"
   ]
  },
  {
   "cell_type": "code",
   "execution_count": 2,
   "id": "bf862606",
   "metadata": {},
   "outputs": [],
   "source": [
    "ray_folder = \"/home/etschgi1/REPOS/Masterarbeit/3_studies/Block_guessing/6-31g_full_testing/tune_logs/MGNN_hyp_small_full_full_mat_loss.py\"\n",
    "trials = []\n",
    "for folder in os.listdir(ray_folder):\n",
    "    sub_folder_path = os.path.join(ray_folder, folder)\n",
    "    if os.path.exists(os.path.join(sub_folder_path, \"eval_res.json\")):\n",
    "        with open(os.path.join(sub_folder_path, \"eval_res.json\")) as f:\n",
    "            eval_res = json.load(f)\n",
    "        with open(os.path.join(sub_folder_path, \"params.json\")) as f:\n",
    "            params = json.load(f)\n",
    "        with open(os.path.join(sub_folder_path, \"result.json\")) as f:\n",
    "            last_text = f.readlines()[-1]\n",
    "            epochs_trained = re.search('epoch\": [0-9]*', last_text).group(0).split(\": \")[-1]\n",
    "        params[\"folder\"] = folder\n",
    "        params[\"epochs_trained\"] = int(epochs_trained)\n",
    "        trials.append((params, eval_res))\n"
   ]
  },
  {
   "cell_type": "code",
   "execution_count": 3,
   "id": "34e8cf54",
   "metadata": {},
   "outputs": [
    {
     "name": "stdout",
     "output_type": "stream",
     "text": [
      "Found 4 trials in /home/etschgi1/REPOS/Masterarbeit/3_studies/Block_guessing/6-31g_full_testing/tune_logs/MGNN_hyp_small_full_full_mat_loss.py\n",
      "hyperopt_train_036e6_00001_1_batch_size=16,data_aug_factor=2,edge_threshold_val=3.5698,hidden_dim=128,lr=0.0009,message_net_dropou_2025-07-18_09-31-42\n",
      "{'energy_abs': {'mean': -1086.2075915618307, 'std': 271.67350948402606}, 'iterations': {'mean': 12.22, 'std': 1.6886681142249353}, 'energy_rel': {'mean': -0.6920868749607015, 'std': 0.03634697261424198}, 'diis': {'mean': 0.20714547915559142, 'std': 0.02992177985057091}, 'rmse': {'mean': 0.0094223677499698, 'std': 0.0028106254813412036}}\n",
      "5\n",
      "---\n",
      "hyperopt_train_036e6_00096_96_batch_size=8,data_aug_factor=1,edge_threshold_val=2.9918,hidden_dim=256,lr=0.0001,message_net_dropou_2025-07-18_16-58-59\n",
      "{'energy_abs': {'mean': -1041.408998322332, 'std': 258.55326992073867}, 'iterations': {'mean': 12.36, 'std': 2.02741214359587}, 'energy_rel': {'mean': -0.6641685891496949, 'std': 0.03239900244105729}, 'diis': {'mean': 0.19047671142492636, 'std': 0.029261275350996225}, 'rmse': {'mean': 0.00919441013720137, 'std': 0.002592117104657887}}\n",
      "5\n",
      "---\n",
      "hyperopt_train_036e6_00006_6_batch_size=32,data_aug_factor=2,edge_threshold_val=2.4617,hidden_dim=512,lr=0.0001,message_net_dropou_2025-07-18_09-48-20\n",
      "{'energy_abs': {'mean': -1082.0302448166783, 'std': 274.22402547405727}, 'iterations': {'mean': 12.72, 'std': 3.09218369441403}, 'energy_rel': {'mean': -0.6889615067237238, 'std': 0.03862961460900316}, 'diis': {'mean': 0.20942418076765623, 'std': 0.034804706010426956}, 'rmse': {'mean': 0.009872041062363106, 'std': 0.003357579572877538}}\n",
      "5\n",
      "---\n",
      "hyperopt_train_036e6_00000_0_batch_size=32,data_aug_factor=4,edge_threshold_val=3.9590,hidden_dim=512,lr=0.0001,message_net_dropou_2025-07-18_09-31-42\n",
      "{'energy_abs': {'mean': -1071.8686575417485, 'std': 281.0684438504472}, 'iterations': {'mean': 13.04, 'std': 2.7492544443903335}, 'energy_rel': {'mean': -0.6806991680406947, 'std': 0.04997355954444119}, 'diis': {'mean': 0.31172904122332534, 'std': 0.7718098980002379}, 'rmse': {'mean': 0.010186481476129446, 'std': 0.0036082223641856394}}\n",
      "5\n",
      "---\n"
     ]
    }
   ],
   "source": [
    "trials.sort(key=lambda x:x[1][\"cummulative_stats\"][\"iterations\"][\"mean\"])\n",
    "print(f\"Found {len(trials)} trials in {ray_folder}\")\n",
    "for trial in trials: \n",
    "    print(trial[0][\"folder\"])\n",
    "    print(trial[1][\"cummulative_stats\"])\n",
    "    print(trial[0][\"epochs_trained\"])\n",
    "    print(\"---\")\n"
   ]
  },
  {
   "cell_type": "code",
   "execution_count": 4,
   "id": "1a6b43fa",
   "metadata": {},
   "outputs": [
    {
     "name": "stdout",
     "output_type": "stream",
     "text": [
      "\\begin{tabular}{rlllll}\n",
      "\\toprule\n",
      "ID & Iterations & $\\Delta E_\\text{HF}$ & $\\delta E_\\text{HF}$ & DIIS error & $\\overline{\\text{RMSE}}$ \\\\\n",
      "\\midrule\n",
      "0 & 12.2(1.7) & -1086.2(271.7) & -0.692(0.036) & 0.207(0.030) & 0.0094(0.0028) \\\\\n",
      "1 & 12.4(2.0) & -1041.4(258.6) & -0.664(0.032) & 0.190(0.029) & 0.0092(0.0026) \\\\\n",
      "2 & 12.7(3.1) & -1082.0(274.2) & -0.689(0.039) & 0.209(0.035) & 0.0099(0.0034) \\\\\n",
      "3 & 13.0(2.7) & -1071.9(281.1) & -0.681(0.050) & 0.312(0.772) & 0.0102(0.0036) \\\\\n",
      "\\bottomrule\n",
      "\\end{tabular}\n",
      "\n"
     ]
    }
   ],
   "source": [
    "top = 10\n",
    "table_data = []\n",
    "for i, (params, metrics) in enumerate(trials[:top]):\n",
    "    metrics = metrics[\"cummulative_stats\"]\n",
    "    row = {\n",
    "        'ID': i,\n",
    "        'Iterations': f\"{float(metrics['iterations']['mean']):.1f}({float(metrics['iterations']['std']):.1f})\",\n",
    "        r\"$\\Delta E_\\text{HF}$\": f\"{float(metrics['energy_abs']['mean']):.1f}({float(metrics['energy_abs']['std']):.1f})\",\n",
    "        r\"$\\delta E_\\text{HF}$\": f\"{float(metrics['energy_rel']['mean']):.3f}({float(metrics['energy_rel']['std']):.3f})\",\n",
    "        'DIIS error': f\"{float(metrics['diis']['mean']):.3f}({float(metrics['diis']['std']):.3f})\",\n",
    "        r\"$\\overline{\\text{RMSE}}$\": f\"{float(metrics['rmse']['mean']):.4f}({float(metrics['rmse']['std']):.4f})\"\n",
    "    }\n",
    "    table_data.append(row)\n",
    "\n",
    "import pandas as pd\n",
    "df = pd.DataFrame(table_data)\n",
    "\n",
    "latex = df.to_latex(index=False)\n",
    "print(latex)"
   ]
  },
  {
   "cell_type": "code",
   "execution_count": 5,
   "id": "24d5632f",
   "metadata": {},
   "outputs": [
    {
     "name": "stdout",
     "output_type": "stream",
     "text": [
      "\\begin{tabular}{lllll}\n",
      "\\toprule\n",
      " & 0 & 1 & 2 & 3 \\\\\n",
      "\\midrule\n",
      "Parameter & 0 & 1 & 2 & 3 \\\\\n",
      "Hidden Dimension & 128 & 256 & 512 & 512 \\\\\n",
      "Batch Size & 16 & 8 & 32 & 32 \\\\\n",
      "Data aug. & 2.00 & 1.00 & 2.00 & 4.00 \\\\\n",
      "Edge thres. & 3.57 & 2.99 & 2.46 & 3.96 \\\\\n",
      "Message p. steps & 3 & 4 & 5 & 3 \\\\\n",
      "Message Net Dropout & 0.27 & 0.02 & 0.07 & 0.01 \\\\\n",
      "Message Net Layers & 3 & 4 & 2 & 3 \\\\\n",
      "Learn Rate & 9.04e-04 & 1.27e-04 & 1.32e-04 & 1.22e-04 \\\\\n",
      "Weight Decay & 2.13e-05 & 1.45e-05 & 1.18e-04 & 7.85e-05 \\\\\n",
      "\\bottomrule\n",
      "\\end{tabular}\n",
      "\n"
     ]
    }
   ],
   "source": [
    "table_data = []\n",
    "for i, (params, metrics) in enumerate(trials[:top]):\n",
    "    metrics = metrics[\"cummulative_stats\"]\n",
    "    row = {\n",
    "        'Parameter': int(i),\n",
    "        'Hidden Dimension': int(params[\"hidden_dim\"]),\n",
    "        'Batch Size': int(params[\"batch_size\"]),\n",
    "        \"Data aug.\": f'{float(params[\"data_aug_factor\"]):.2f}',\n",
    "        \"Edge thres.\": f'{float(params[\"edge_threshold_val\"]):.2f}',\n",
    "        \"Message p. steps\": int(params[\"message_passing_steps\"]),\n",
    "        \"Message Net Dropout\": f'{float(params[\"message_net_dropout\"]):.2f}',\n",
    "        \"Message Net Layers\": int(params[\"message_net_layers\"]),\n",
    "        \"Learn Rate\": f'{float(params[\"lr\"]):.2e}',\n",
    "        \"Weight Decay\": f'{float(params[\"weight_decay\"]):.2e}',\n",
    "    }\n",
    "    table_data.append(row)\n",
    "\n",
    "import pandas as pd\n",
    "df = pd.DataFrame(table_data).T\n",
    "\n",
    "\n",
    "latex = df.to_latex(index=True)\n",
    "print(latex)"
   ]
  },
  {
   "cell_type": "code",
   "execution_count": null,
   "id": "e2f7ecc2",
   "metadata": {},
   "outputs": [],
   "source": []
  }
 ],
 "metadata": {
  "kernelspec": {
   "display_name": "scf_guess_1_0",
   "language": "python",
   "name": "python3"
  },
  "language_info": {
   "codemirror_mode": {
    "name": "ipython",
    "version": 3
   },
   "file_extension": ".py",
   "mimetype": "text/x-python",
   "name": "python",
   "nbconvert_exporter": "python",
   "pygments_lexer": "ipython3",
   "version": "3.11.11"
  }
 },
 "nbformat": 4,
 "nbformat_minor": 5
}
