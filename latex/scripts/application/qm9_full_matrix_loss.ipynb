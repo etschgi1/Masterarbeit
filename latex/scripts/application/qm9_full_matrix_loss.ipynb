{
 "cells": [
  {
   "cell_type": "code",
   "execution_count": 40,
   "id": "478938ce",
   "metadata": {},
   "outputs": [
    {
     "name": "stdout",
     "output_type": "stream",
     "text": [
      "Project root directory: /home/etschgi1/REPOS/Masterarbeit\n"
     ]
    }
   ],
   "source": [
    "import sys, pickle, json, os, re\n",
    "import numpy as np\n",
    "from collections import defaultdict\n",
    "from pprint import pprint\n",
    "from typing import List, Dict, Any\n",
    "sys.path.append('../src/')\n",
    "sys.path.append(\"../../scripts/\")\n",
    "from utils import find_repo_root\n",
    "\n",
    "import matplotlib.pyplot as plt\n",
    "from plt_config import use_latex, TU_GREY, TU_RED\n",
    "use_latex()\n",
    "project_root_dir = find_repo_root()\n",
    "print(\"Project root directory:\", project_root_dir)"
   ]
  },
  {
   "cell_type": "code",
   "execution_count": 41,
   "id": "bf862606",
   "metadata": {},
   "outputs": [
    {
     "name": "stdout",
     "output_type": "stream",
     "text": [
      "Trials run: 15 Trials still open: 85\n"
     ]
    }
   ],
   "source": [
    "ray_folder = \"/home/etschgi1/REPOS/Masterarbeit/3_studies/Block_guessing/6-31g_full_testing/tune_logs/MGNN_hyp_small_full_full_mat_loss.py\"\n",
    "trials = []\n",
    "for folder in os.listdir(ray_folder):\n",
    "    sub_folder_path = os.path.join(ray_folder, folder)\n",
    "    if os.path.exists(os.path.join(sub_folder_path, \"eval_res.json\")):\n",
    "        with open(os.path.join(sub_folder_path, \"eval_res.json\")) as f:\n",
    "            eval_res = json.load(f)\n",
    "        with open(os.path.join(sub_folder_path, \"params.json\")) as f:\n",
    "            params = json.load(f)\n",
    "        with open(os.path.join(sub_folder_path, \"result.json\")) as f:\n",
    "            last_text = f.readlines()[-1]\n",
    "            epochs_trained = re.search('epoch\": [0-9]*', last_text).group(0).split(\": \")[-1]\n",
    "        params[\"folder\"] = folder\n",
    "        params[\"epochs_trained\"] = int(epochs_trained)\n",
    "        trials.append((params, eval_res))\n",
    "open_trials = [folder for folder in os.listdir(ray_folder) if folder.startswith(\"hyperopt\")]\n",
    "trials_run_folders = [f[0][\"folder\"] for f in trials]\n",
    "open_trials = [f for f in open_trials if f not in trials_run_folders]\n",
    "print(f\"Trials run: {len(trials)} Trials still open: {len(open_trials)}\")\n",
    "with open(\"still_open_qm9_full_full_mat.txt\", \"w\") as f: \n",
    "    f.write(\"\\n\".join(open_trials))"
   ]
  },
  {
   "cell_type": "code",
   "execution_count": 42,
   "id": "34e8cf54",
   "metadata": {},
   "outputs": [
    {
     "name": "stdout",
     "output_type": "stream",
     "text": [
      "Found 15 trials in /home/etschgi1/REPOS/Masterarbeit/3_studies/Block_guessing/6-31g_full_testing/tune_logs/MGNN_hyp_small_full_full_mat_loss.py\n",
      "hyperopt_train_036e6_00001_1_batch_size=16,data_aug_factor=2,edge_threshold_val=3.5698,hidden_dim=128,lr=0.0009,message_net_dropou_2025-07-18_09-31-42\n",
      "{'energy_abs': {'mean': -1086.2075915618307, 'std': 271.67350948402606}, 'iterations': {'mean': 12.22, 'std': 1.6886681142249353}, 'energy_rel': {'mean': -0.6920868749607015, 'std': 0.03634697261424198}, 'diis': {'mean': 0.20714547915559142, 'std': 0.02992177985057091}, 'rmse': {'mean': 0.0094223677499698, 'std': 0.0028106254813412036}}\n",
      "5\n",
      "---\n",
      "hyperopt_train_036e6_00050_50_batch_size=32,data_aug_factor=3,edge_threshold_val=2.6735,hidden_dim=256,lr=0.0024,message_net_dropo_2025-07-18_13-04-00\n",
      "{'energy_abs': {'mean': -1079.3584894043072, 'std': 271.7995578227922}, 'iterations': {'mean': 12.32, 'std': 2.043917806566595}, 'energy_rel': {'mean': -0.6874294921790205, 'std': 0.0370295438930694}, 'diis': {'mean': 0.2044116200825024, 'std': 0.029449916894280646}, 'rmse': {'mean': 0.0094915468347513, 'std': 0.0028812129999902223}}\n",
      "15\n",
      "---\n",
      "hyperopt_train_036e6_00096_96_batch_size=8,data_aug_factor=1,edge_threshold_val=2.9918,hidden_dim=256,lr=0.0001,message_net_dropou_2025-07-18_16-58-59\n",
      "{'energy_abs': {'mean': -1041.408998322332, 'std': 258.55326992073867}, 'iterations': {'mean': 12.36, 'std': 2.02741214359587}, 'energy_rel': {'mean': -0.6641685891496949, 'std': 0.03239900244105729}, 'diis': {'mean': 0.19047671142492636, 'std': 0.029261275350996225}, 'rmse': {'mean': 0.00919441013720137, 'std': 0.002592117104657887}}\n",
      "5\n",
      "---\n",
      "hyperopt_train_036e6_00037_37_batch_size=8,data_aug_factor=1,edge_threshold_val=3.3353,hidden_dim=128,lr=0.0001,message_net_dropou_2025-07-18_11-52-20\n",
      "{'energy_abs': {'mean': -1062.0680744859183, 'std': 268.77809989630384}, 'iterations': {'mean': 12.36, 'std': 2.304430515333452}, 'energy_rel': {'mean': -0.6761603769021647, 'std': 0.037519583281723105}, 'diis': {'mean': 0.21295492699776364, 'std': 0.06658181078898666}, 'rmse': {'mean': 0.00993537478532438, 'std': 0.004015715747763196}}\n",
      "5\n",
      "---\n",
      "hyperopt_train_036e6_00002_2_batch_size=8,data_aug_factor=1,edge_threshold_val=2.1155,hidden_dim=128,lr=0.0003,message_net_dropout_2025-07-18_09-31-42\n",
      "{'energy_abs': {'mean': -1113.2204071982853, 'std': 281.4924779000908}, 'iterations': {'mean': 12.38, 'std': 1.398427688513067}, 'energy_rel': {'mean': -0.7086272823070446, 'std': 0.04099732076166731}, 'diis': {'mean': 0.2191436369093674, 'std': 0.03131644434847935}, 'rmse': {'mean': 0.009405240416915404, 'std': 0.002264511321384908}}\n",
      "50\n",
      "---\n",
      "hyperopt_train_036e6_00036_36_batch_size=8,data_aug_factor=4,edge_threshold_val=2.5104,hidden_dim=128,lr=0.0002,message_net_dropou_2025-07-18_11-45-25\n",
      "{'energy_abs': {'mean': -1091.0626398987358, 'std': 278.27373270593955}, 'iterations': {'mean': 12.52, 'std': 2.570914234275426}, 'energy_rel': {'mean': -0.6942210418883025, 'std': 0.04079084512655842}, 'diis': {'mean': 0.2055939544406622, 'std': 0.025964043130090857}, 'rmse': {'mean': 0.008586254775908572, 'std': 0.0022566265304430413}}\n",
      "5\n",
      "---\n",
      "hyperopt_train_036e6_00006_6_batch_size=32,data_aug_factor=2,edge_threshold_val=2.4617,hidden_dim=512,lr=0.0001,message_net_dropou_2025-07-18_09-48-20\n",
      "{'energy_abs': {'mean': -1082.0302448166783, 'std': 274.22402547405727}, 'iterations': {'mean': 12.72, 'std': 3.09218369441403}, 'energy_rel': {'mean': -0.6889615067237238, 'std': 0.03862961460900316}, 'diis': {'mean': 0.20942418076765623, 'std': 0.034804706010426956}, 'rmse': {'mean': 0.009872041062363106, 'std': 0.003357579572877538}}\n",
      "5\n",
      "---\n",
      "hyperopt_train_036e6_00098_98_batch_size=32,data_aug_factor=4,edge_threshold_val=3.9490,hidden_dim=128,lr=0.0006,message_net_dropo_2025-07-18_17-02-10\n",
      "{'energy_abs': {'mean': -1094.9690979748602, 'std': 277.7135661172016}, 'iterations': {'mean': 12.74, 'std': 2.124241040936739}, 'energy_rel': {'mean': -0.6971023793484129, 'std': 0.0421924284637188}, 'diis': {'mean': 0.26168725467501835, 'std': 0.33058995303034144}, 'rmse': {'mean': 0.010127508188416855, 'std': 0.0033140954067893864}}\n",
      "5\n",
      "---\n",
      "hyperopt_train_036e6_00024_24_batch_size=32,data_aug_factor=4,edge_threshold_val=3.1268,hidden_dim=256,lr=0.0002,message_net_dropo_2025-07-18_10-53-57\n",
      "{'energy_abs': {'mean': -1083.2710710400045, 'std': 277.48636827380204}, 'iterations': {'mean': 12.98, 'std': 3.075646273549675}, 'energy_rel': {'mean': -0.6890080338473433, 'std': 0.04398991226853599}, 'diis': {'mean': 0.2123081161797686, 'std': 0.03472196581793864}, 'rmse': {'mean': 0.010490416129635789, 'std': 0.004276871408047863}}\n",
      "5\n",
      "---\n",
      "hyperopt_train_036e6_00000_0_batch_size=32,data_aug_factor=4,edge_threshold_val=3.9590,hidden_dim=512,lr=0.0001,message_net_dropou_2025-07-18_09-31-42\n",
      "{'energy_abs': {'mean': -1071.8686575417485, 'std': 281.0684438504472}, 'iterations': {'mean': 13.04, 'std': 2.7492544443903335}, 'energy_rel': {'mean': -0.6806991680406947, 'std': 0.04997355954444119}, 'diis': {'mean': 0.31172904122332534, 'std': 0.7718098980002379}, 'rmse': {'mean': 0.010186481476129446, 'std': 0.0036082223641856394}}\n",
      "5\n",
      "---\n",
      "hyperopt_train_036e6_00081_81_batch_size=32,data_aug_factor=2,edge_threshold_val=2.9518,hidden_dim=256,lr=0.0003,message_net_dropo_2025-07-18_15-52-54\n",
      "{'energy_abs': {'mean': -1078.3951992202356, 'std': 276.97813217183494}, 'iterations': {'mean': 13.04, 'std': 2.637877935007608}, 'energy_rel': {'mean': -0.6857651567695904, 'std': 0.043951128667285407}, 'diis': {'mean': 0.22674381113502753, 'std': 0.1007125256142051}, 'rmse': {'mean': 0.010393954762173968, 'std': 0.004051582607410615}}\n",
      "15\n",
      "---\n",
      "hyperopt_train_036e6_00069_69_batch_size=32,data_aug_factor=1,edge_threshold_val=2.0270,hidden_dim=256,lr=0.0012,message_net_dropo_2025-07-18_15-13-16\n",
      "{'energy_abs': {'mean': -1126.4151369983122, 'std': 283.73794078008984}, 'iterations': {'mean': 13.24, 'std': 2.0548479262466115}, 'energy_rel': {'mean': -0.7173755890409477, 'std': 0.04221575209800993}, 'diis': {'mean': 0.2305897468464052, 'std': 0.03741205083013681}, 'rmse': {'mean': 0.010032669640712982, 'std': 0.002714375194022852}}\n",
      "33\n",
      "---\n",
      "hyperopt_train_036e6_00091_91_batch_size=32,data_aug_factor=4,edge_threshold_val=2.6858,hidden_dim=256,lr=0.0061,message_net_dropo_2025-07-18_16-33-41\n",
      "{'energy_abs': {'mean': 13221.342011632969, 'std': 305192.44555331767}, 'iterations': {'mean': 19.8, 'std': 1.5362291495737217}, 'energy_rel': {'mean': -5.518664636492559, 'std': 193.27096630731907}, 'diis': {'mean': 333578.2631941071, 'std': 600537.7234940423}, 'rmse': {'mean': 5.697273509747157, 'std': 1.8951633715667142}}\n",
      "5\n",
      "---\n",
      "hyperopt_train_036e6_00019_19_batch_size=16,data_aug_factor=1,edge_threshold_val=2.7988,hidden_dim=512,lr=0.0023,message_net_dropo_2025-07-18_10-38-22\n",
      "{'energy_abs': {'mean': -1463.667205361672, 'std': 639.4357323772558}, 'iterations': {'mean': 20.0, 'std': 1.9148542155126762}, 'energy_rel': {'mean': -0.8620967189581276, 'std': 0.364898081546755}, 'diis': {'mean': 464.9912005802346, 'std': 833.6285825942562}, 'rmse': {'mean': 0.11738027768656628, 'std': 0.036922025639108055}}\n",
      "5\n",
      "---\n",
      "hyperopt_train_036e6_00076_76_batch_size=16,data_aug_factor=1,edge_threshold_val=2.9291,hidden_dim=256,lr=0.0072,message_net_dropo_2025-07-18_15-35-19\n",
      "{'energy_abs': {'mean': 581363.0493415972, 'std': 1369748.6418782328}, 'iterations': {'mean': 20.44, 'std': 3.418537699075439}, 'energy_rel': {'mean': 343.32728267620865, 'std': 728.0874480403179}, 'diis': {'mean': 565496.8958785721, 'std': 1626923.2312974914}, 'rmse': {'mean': 6.5661434443032975, 'std': 4.719949125437239}}\n",
      "5\n",
      "---\n"
     ]
    }
   ],
   "source": [
    "trials.sort(key=lambda x:x[1][\"cummulative_stats\"][\"iterations\"][\"mean\"])\n",
    "print(f\"Found {len(trials)} trials in {ray_folder}\")\n",
    "for trial in trials: \n",
    "    print(trial[0][\"folder\"])\n",
    "    print(trial[1][\"cummulative_stats\"])\n",
    "    print(trial[0][\"epochs_trained\"])\n",
    "    print(\"---\")\n"
   ]
  },
  {
   "cell_type": "code",
   "execution_count": 43,
   "id": "1a6b43fa",
   "metadata": {},
   "outputs": [
    {
     "name": "stdout",
     "output_type": "stream",
     "text": [
      "\\begin{tabular}{rlllll}\n",
      "\\toprule\n",
      "ID & Iterations & $\\Delta E_\\text{HF}$ & $\\delta E_\\text{HF}$ & DIIS error & $\\overline{\\text{RMSE}}$ \\\\\n",
      "\\midrule\n",
      "0 & 12.2(1.7) & -1086.2(271.7) & -0.692(0.036) & 0.207(0.030) & 0.0094(0.0028) \\\\\n",
      "1 & 12.3(2.0) & -1079.4(271.8) & -0.687(0.037) & 0.204(0.029) & 0.0095(0.0029) \\\\\n",
      "2 & 12.4(2.0) & -1041.4(258.6) & -0.664(0.032) & 0.190(0.029) & 0.0092(0.0026) \\\\\n",
      "3 & 12.4(2.3) & -1062.1(268.8) & -0.676(0.038) & 0.213(0.067) & 0.0099(0.0040) \\\\\n",
      "4 & 12.4(1.4) & -1113.2(281.5) & -0.709(0.041) & 0.219(0.031) & 0.0094(0.0023) \\\\\n",
      "5 & 12.5(2.6) & -1091.1(278.3) & -0.694(0.041) & 0.206(0.026) & 0.0086(0.0023) \\\\\n",
      "6 & 12.7(3.1) & -1082.0(274.2) & -0.689(0.039) & 0.209(0.035) & 0.0099(0.0034) \\\\\n",
      "7 & 12.7(2.1) & -1095.0(277.7) & -0.697(0.042) & 0.262(0.331) & 0.0101(0.0033) \\\\\n",
      "8 & 13.0(3.1) & -1083.3(277.5) & -0.689(0.044) & 0.212(0.035) & 0.0105(0.0043) \\\\\n",
      "9 & 13.0(2.7) & -1071.9(281.1) & -0.681(0.050) & 0.312(0.772) & 0.0102(0.0036) \\\\\n",
      "\\bottomrule\n",
      "\\end{tabular}\n",
      "\n"
     ]
    }
   ],
   "source": [
    "top = 10\n",
    "table_data = []\n",
    "for i, (params, metrics) in enumerate(trials[:top]):\n",
    "    metrics = metrics[\"cummulative_stats\"]\n",
    "    row = {\n",
    "        'ID': i,\n",
    "        'Iterations': f\"{float(metrics['iterations']['mean']):.1f}({float(metrics['iterations']['std']):.1f})\",\n",
    "        r\"$\\Delta E_\\text{HF}$\": f\"{float(metrics['energy_abs']['mean']):.1f}({float(metrics['energy_abs']['std']):.1f})\",\n",
    "        r\"$\\delta E_\\text{HF}$\": f\"{float(metrics['energy_rel']['mean']):.3f}({float(metrics['energy_rel']['std']):.3f})\",\n",
    "        'DIIS error': f\"{float(metrics['diis']['mean']):.3f}({float(metrics['diis']['std']):.3f})\",\n",
    "        r\"$\\overline{\\text{RMSE}}$\": f\"{float(metrics['rmse']['mean']):.4f}({float(metrics['rmse']['std']):.4f})\"\n",
    "    }\n",
    "    table_data.append(row)\n",
    "\n",
    "import pandas as pd\n",
    "df = pd.DataFrame(table_data)\n",
    "\n",
    "latex = df.to_latex(index=False)\n",
    "print(latex)"
   ]
  },
  {
   "cell_type": "code",
   "execution_count": 44,
   "id": "24d5632f",
   "metadata": {},
   "outputs": [
    {
     "name": "stdout",
     "output_type": "stream",
     "text": [
      "\\begin{tabular}{lllllllllll}\n",
      "\\toprule\n",
      " & 0 & 1 & 2 & 3 & 4 & 5 & 6 & 7 & 8 & 9 \\\\\n",
      "\\midrule\n",
      "Parameter & 0 & 1 & 2 & 3 & 4 & 5 & 6 & 7 & 8 & 9 \\\\\n",
      "Hidden Dimension & 128 & 256 & 256 & 128 & 128 & 128 & 512 & 128 & 256 & 512 \\\\\n",
      "Batch Size & 16 & 32 & 8 & 8 & 8 & 8 & 32 & 32 & 32 & 32 \\\\\n",
      "Data aug. & 2.00 & 3.00 & 1.00 & 1.00 & 1.00 & 4.00 & 2.00 & 4.00 & 4.00 & 4.00 \\\\\n",
      "Edge thres. & 3.57 & 2.67 & 2.99 & 3.34 & 2.12 & 2.51 & 2.46 & 3.95 & 3.13 & 3.96 \\\\\n",
      "Message p. steps & 3 & 2 & 4 & 3 & 3 & 5 & 5 & 3 & 3 & 3 \\\\\n",
      "Message Net Dropout & 0.27 & 0.20 & 0.02 & 0.27 & 0.18 & 0.25 & 0.07 & 0.20 & 0.08 & 0.01 \\\\\n",
      "Message Net Layers & 3 & 2 & 4 & 2 & 4 & 4 & 2 & 4 & 3 & 3 \\\\\n",
      "Learn Rate & 9.04e-04 & 2.42e-03 & 1.27e-04 & 1.47e-04 & 2.64e-04 & 2.36e-04 & 1.32e-04 & 5.89e-04 & 1.60e-04 & 1.22e-04 \\\\\n",
      "Weight Decay & 2.13e-05 & 4.19e-05 & 1.45e-05 & 5.31e-05 & 1.98e-05 & 5.91e-04 & 1.18e-04 & 3.70e-04 & 6.24e-05 & 7.85e-05 \\\\\n",
      "\\bottomrule\n",
      "\\end{tabular}\n",
      "\n"
     ]
    }
   ],
   "source": [
    "table_data = []\n",
    "for i, (params, metrics) in enumerate(trials[:top]):\n",
    "    metrics = metrics[\"cummulative_stats\"]\n",
    "    row = {\n",
    "        'Parameter': int(i),\n",
    "        'Hidden Dimension': int(params[\"hidden_dim\"]),\n",
    "        'Batch Size': int(params[\"batch_size\"]),\n",
    "        \"Data aug.\": f'{float(params[\"data_aug_factor\"]):.2f}',\n",
    "        \"Edge thres.\": f'{float(params[\"edge_threshold_val\"]):.2f}',\n",
    "        \"Message p. steps\": int(params[\"message_passing_steps\"]),\n",
    "        \"Message Net Dropout\": f'{float(params[\"message_net_dropout\"]):.2f}',\n",
    "        \"Message Net Layers\": int(params[\"message_net_layers\"]),\n",
    "        \"Learn Rate\": f'{float(params[\"lr\"]):.2e}',\n",
    "        \"Weight Decay\": f'{float(params[\"weight_decay\"]):.2e}',\n",
    "    }\n",
    "    table_data.append(row)\n",
    "\n",
    "import pandas as pd\n",
    "df = pd.DataFrame(table_data).T\n",
    "\n",
    "\n",
    "latex = df.to_latex(index=True)\n",
    "print(latex)"
   ]
  },
  {
   "cell_type": "code",
   "execution_count": null,
   "id": "e2f7ecc2",
   "metadata": {},
   "outputs": [],
   "source": []
  }
 ],
 "metadata": {
  "kernelspec": {
   "display_name": "scf_guess_1_0",
   "language": "python",
   "name": "python3"
  },
  "language_info": {
   "codemirror_mode": {
    "name": "ipython",
    "version": 3
   },
   "file_extension": ".py",
   "mimetype": "text/x-python",
   "name": "python",
   "nbconvert_exporter": "python",
   "pygments_lexer": "ipython3",
   "version": "3.11.11"
  }
 },
 "nbformat": 4,
 "nbformat_minor": 5
}
