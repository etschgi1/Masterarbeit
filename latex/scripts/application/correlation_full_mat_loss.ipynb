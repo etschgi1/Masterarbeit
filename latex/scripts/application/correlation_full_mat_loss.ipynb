{
 "cells": [
  {
   "cell_type": "code",
   "execution_count": null,
   "id": "360eb03a",
   "metadata": {},
   "outputs": [
    {
     "name": "stdout",
     "output_type": "stream",
     "text": [
      "Korrelationskoeffizient Iterationen vs. RMSE: 0.9395\n",
      "Korrelationskoeffizient Iterationen vs. DIIS-Error: 0.9406\n",
      "Korrelationskoeffizient Iterationen vs. ΔE_HF/E_h: -0.9198\n"
     ]
    }
   ],
   "source": [
    "import numpy as np\n",
    "\n",
    "# Table 5.3\n",
    "iterations = np.array([11.5, 11.6, 11.7, 13.1, 13.2, 13.3, 13.6, 13.9, 14.5, 14.7])\n",
    "diis_error = np.array([0.209, 0.206, 0.190, 0.230, 0.234, 0.232, 0.235, 0.238, 0.244, 0.248])\n",
    "rmse = np.array([0.0076, 0.0078, 0.0079, 0.0084, 0.0088, 0.0090, 0.0089, 0.0088, 0.0090, 0.0091])\n",
    "energy = np.array([-1250, -1250, -1190, -1310, -1310, -1300, -1320, -1350, -1350, -1350])  # ΔE_HF/E_h\n",
    "\n",
    "corr_iter_rmse = np.corrcoef(iterations, rmse)[0, 1]\n",
    "corr_iter_diis = np.corrcoef(iterations, diis_error)[0, 1]\n",
    "corr_iter_energy = np.corrcoef(iterations, energy)[0, 1]\n",
    "\n",
    "print(f\"Korrelationskoeffizient Iterationen vs. RMSE: {corr_iter_rmse:.4f}\")\n",
    "print(f\"Korrelationskoeffizient Iterationen vs. DIIS-Error: {corr_iter_diis:.4f}\")\n",
    "print(f\"Korrelationskoeffizient Iterationen vs. ΔE_HF/E_h: {corr_iter_energy:.4f}\")"
   ]
  }
 ],
 "metadata": {
  "kernelspec": {
   "display_name": "scf_guess_1_0",
   "language": "python",
   "name": "python3"
  },
  "language_info": {
   "codemirror_mode": {
    "name": "ipython",
    "version": 3
   },
   "file_extension": ".py",
   "mimetype": "text/x-python",
   "name": "python",
   "nbconvert_exporter": "python",
   "pygments_lexer": "ipython3",
   "version": "3.11.11"
  }
 },
 "nbformat": 4,
 "nbformat_minor": 5
}
