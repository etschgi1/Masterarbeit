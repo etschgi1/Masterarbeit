{
 "cells": [
  {
   "cell_type": "code",
   "execution_count": 32,
   "id": "478938ce",
   "metadata": {},
   "outputs": [
    {
     "name": "stdout",
     "output_type": "stream",
     "text": [
      "Project root directory: /home/etschgi1/REPOS/Masterarbeit\n"
     ]
    }
   ],
   "source": [
    "import sys, pickle, json, os, re\n",
    "import numpy as np\n",
    "from collections import defaultdict\n",
    "from pprint import pprint\n",
    "from typing import List, Dict, Any\n",
    "sys.path.append('../src/')\n",
    "sys.path.append(\"../../scripts/\")\n",
    "from utils import find_repo_root\n",
    "\n",
    "import matplotlib.pyplot as plt\n",
    "from plt_config import use_latex, TU_GREY, TU_RED\n",
    "use_latex()\n",
    "project_root_dir = find_repo_root()\n",
    "print(\"Project root directory:\", project_root_dir)"
   ]
  },
  {
   "cell_type": "code",
   "execution_count": 33,
   "id": "bf862606",
   "metadata": {},
   "outputs": [
    {
     "data": {
      "text/plain": [
       "10"
      ]
     },
     "execution_count": 33,
     "metadata": {},
     "output_type": "execute_result"
    }
   ],
   "source": [
    "ray_folder = \"/home/etschgi1/REPOS/Masterarbeit/3_studies/Block_guessing/6-31g_testing/tune_logs/MGNN_hyp_small_full_mat_loss.py\"\n",
    "ray_folder = \"/home/etschgi1/REPOS/Masterarbeit/3_studies/Block_guessing/6-31g_testing/tune_logs/MGNN_hyp_small_full_mat_loss.py\"\n",
    "eval_name = \"eval_res_reeval.json\"\n",
    "trials = []\n",
    "for folder in os.listdir(ray_folder):\n",
    "    sub_folder_path = os.path.join(ray_folder, folder)\n",
    "    if os.path.exists(os.path.join(sub_folder_path, eval_name)):\n",
    "        with open(os.path.join(sub_folder_path, eval_name)) as f:\n",
    "            eval_res = json.load(f)\n",
    "        with open(os.path.join(sub_folder_path, \"params.json\")) as f:\n",
    "            params = json.load(f)\n",
    "        trials.append((params, eval_res, sub_folder_path))\n",
    "\n",
    "# alternative from param_paths_override: \n",
    "paths = [\"993a0_00079_79\",\n",
    "\"993a0_00144_144\",\n",
    "\"993a0_00070_70\",\n",
    "\"993a0_00009_9\",\n",
    "\"993a0_00082_82\",\n",
    "\"993a0_00149_149\",\n",
    "\"993a0_00121_121\",\n",
    "\"993a0_00158_158\",\n",
    "\"993a0_00157_157\",\n",
    "\"993a0_00014_14\"]\n",
    "trials = []\n",
    "folders = [f for f in os.listdir(ray_folder) if any([re.search(p, f) for p in paths])]\n",
    "for folder in folders: \n",
    "    sub_folder_path = os.path.join(ray_folder, folder)\n",
    "    if os.path.exists(os.path.join(sub_folder_path, eval_name)):\n",
    "        with open(os.path.join(sub_folder_path, eval_name)) as f:\n",
    "            eval_res = json.load(f)\n",
    "    else: \n",
    "        with open(os.path.join(sub_folder_path, \"eval_res.json\")) as f:\n",
    "            eval_res = json.load(f)\n",
    "    with open(os.path.join(sub_folder_path, \"params.json\")) as f:\n",
    "        params = json.load(f)\n",
    "    trials.append((params, eval_res, sub_folder_path))\n",
    "len(trials)"
   ]
  },
  {
   "cell_type": "code",
   "execution_count": 34,
   "id": "ea1c3047",
   "metadata": {},
   "outputs": [],
   "source": [
    "# add 0 iterations if not present\n",
    "for i, (params, eval_res, sub_folder_path) in enumerate(trials):\n",
    "    if \"iterations\" not in eval_res[\"cummulative_stats\"]:\n",
    "        cum_stats_dict = eval_res[\"cummulative_stats\"]\n",
    "        cum_stats_dict[\"iterations\"] = {}\n",
    "        cum_stats_dict[\"iterations\"][\"mean\"] = 0\n",
    "        cum_stats_dict[\"iterations\"][\"std\"] = 0\n",
    "        eval_res[\"cummulative_stats\"] = cum_stats_dict\n",
    "        trials[i] = (params, eval_res, sub_folder_path)\n",
    "\n"
   ]
  },
  {
   "cell_type": "code",
   "execution_count": 35,
   "id": "d84997f8",
   "metadata": {},
   "outputs": [
    {
     "data": {
      "text/plain": [
       "dict_keys(['batch_size', 'data_aug_factor', 'edge_threshold_val', 'grace_epochs', 'hidden_dim', 'loss_on_full_matrix', 'lr', 'lr_cooldown', 'lr_factor', 'lr_min', 'lr_patience', 'lr_threshold', 'message_net_dropout', 'message_net_layers', 'message_passing_steps', 'num_epochs', 'weight_decay'])"
      ]
     },
     "execution_count": 35,
     "metadata": {},
     "output_type": "execute_result"
    }
   ],
   "source": [
    "trials[0][0].keys()"
   ]
  },
  {
   "cell_type": "code",
   "execution_count": null,
   "id": "34e8cf54",
   "metadata": {},
   "outputs": [
    {
     "name": "stdout",
     "output_type": "stream",
     "text": [
      "{'batch_size': 32, 'data_aug_factor': 1.3282264678043476, 'edge_threshold_val': 2.698292377681005, 'grace_epochs': 5, 'hidden_dim': 512, 'loss_on_full_matrix': True, 'lr': 0.0006676585267638678, 'lr_cooldown': 2, 'lr_factor': 0.5, 'lr_min': 1e-06, 'lr_patience': 3, 'lr_threshold': 0.001, 'message_net_dropout': 0.1042200059278637, 'message_net_layers': 5, 'message_passing_steps': 2, 'num_epochs': 30, 'weight_decay': 3.7507630020426994e-05}\n",
      "{'energy_abs': {'mean': 1.2322999515678248, 'std': 0.8441153664178067}, 'iterations': {'mean': 12.0, 'std': 0.8717797887081347}, 'energy_rel': {'mean': 0.0007020106719265429, 'std': 0.00047967971745986794}, 'diis': {'mean': 0.030598772220472806, 'std': 0.00393040069576333}, 'rmse': {'mean': 0.008352707021353305, 'std': 0.0005763196245690529}}\n",
      "---\n",
      "{'batch_size': 16, 'data_aug_factor': 2.3925915909864983, 'edge_threshold_val': 3.0204991769802234, 'grace_epochs': 5, 'hidden_dim': 512, 'loss_on_full_matrix': True, 'lr': 0.00034888978367533764, 'lr_cooldown': 2, 'lr_factor': 0.5, 'lr_min': 1e-06, 'lr_patience': 3, 'lr_threshold': 0.001, 'message_net_dropout': 0.24562330711977703, 'message_net_layers': 5, 'message_passing_steps': 2, 'num_epochs': 30, 'weight_decay': 6.317713288831259e-05}\n",
      "{'energy_abs': {'mean': 2.139916973954523, 'std': 1.3688497823109498}, 'iterations': {'mean': 12.2, 'std': 0.8246211251235321}, 'energy_rel': {'mean': 0.0012222385718970786, 'std': 0.0007784344508616524}, 'diis': {'mean': 0.030623429538933045, 'std': 0.003996449195794275}, 'rmse': {'mean': 0.008024521198025656, 'std': 0.0005918557698831108}}\n",
      "---\n",
      "{'batch_size': 32, 'data_aug_factor': 1.9081436498666626, 'edge_threshold_val': 2.111290729660567, 'grace_epochs': 5, 'hidden_dim': 256, 'loss_on_full_matrix': True, 'lr': 0.00026128510321670335, 'lr_cooldown': 2, 'lr_factor': 0.5, 'lr_min': 1e-06, 'lr_patience': 3, 'lr_threshold': 0.001, 'message_net_dropout': 0.2191115137292724, 'message_net_layers': 5, 'message_passing_steps': 3, 'num_epochs': 30, 'weight_decay': 0.0002974629996807899}\n",
      "{'energy_abs': {'mean': 0.9213229169939885, 'std': 0.6777241074902011}, 'iterations': {'mean': 13.857142857142858, 'std': 1.124858267715973}, 'energy_rel': {'mean': 0.0005300094182545401, 'std': 0.0003887604187648868}, 'diis': {'mean': 0.04022033315044241, 'std': 0.002404115799190325}, 'rmse': {'mean': 0.008900601159323734, 'std': 0.0002143884312469913}}\n",
      "---\n",
      "{'batch_size': 32, 'data_aug_factor': 2.32843109208835, 'edge_threshold_val': 2.046848789531119, 'grace_epochs': 5, 'hidden_dim': 256, 'loss_on_full_matrix': True, 'lr': 0.0001160861493167114, 'lr_cooldown': 2, 'lr_factor': 0.5, 'lr_min': 1e-06, 'lr_patience': 3, 'lr_threshold': 0.001, 'message_net_dropout': 0.10802434241852031, 'message_net_layers': 3, 'message_passing_steps': 3, 'num_epochs': 30, 'weight_decay': 2.3506875491839735e-05}\n",
      "{'energy_abs': {'mean': 7.473533810735224, 'std': 3.171325830851749}, 'iterations': {'mean': 14.0, 'std': 0.5773502691896257}, 'energy_rel': {'mean': 0.004268198988975162, 'std': 0.0017815536655569355}, 'diis': {'mean': 0.04210449688690373, 'std': 0.003177335094596047}, 'rmse': {'mean': 0.009129271063525306, 'std': 0.0003870766903892321}}\n",
      "---\n",
      "{'batch_size': 8, 'data_aug_factor': 1.4950308390310616, 'edge_threshold_val': 3.8074328971257234, 'grace_epochs': 5, 'hidden_dim': 256, 'loss_on_full_matrix': True, 'lr': 0.001432122493024707, 'lr_cooldown': 2, 'lr_factor': 0.5, 'lr_min': 1e-06, 'lr_patience': 3, 'lr_threshold': 0.001, 'message_net_dropout': 0.19455545130163432, 'message_net_layers': 3, 'message_passing_steps': 2, 'num_epochs': 30, 'weight_decay': 0.00020971633809660506}\n",
      "{'energy_abs': {'mean': -1.3560161324296722, 'std': 1.4586294895231877}, 'iterations': {'mean': 11.44, 'std': 0.6374950980203691}, 'energy_rel': {'mean': -0.0007771656152781214, 'std': 0.00083553106642418}, 'diis': {'mean': 0.03046412284397386, 'std': 0.004685766968876251}, 'rmse': {'mean': 0.00801771929984721, 'std': 0.0006914840477781344}}\n",
      "---\n",
      "{'batch_size': 32, 'data_aug_factor': 1.6721760072480596, 'edge_threshold_val': 2.138362519085188, 'grace_epochs': 5, 'hidden_dim': 256, 'loss_on_full_matrix': True, 'lr': 0.0003537434986380686, 'lr_cooldown': 2, 'lr_factor': 0.5, 'lr_min': 1e-06, 'lr_patience': 3, 'lr_threshold': 0.001, 'message_net_dropout': 0.18338683035764203, 'message_net_layers': 3, 'message_passing_steps': 3, 'num_epochs': 30, 'weight_decay': 5.20519508587275e-05}\n",
      "{'energy_abs': {'mean': -0.5956085712471627, 'std': 2.3490370399540814}, 'iterations': {'mean': 13.555555555555555, 'std': 0.9558139185602919}, 'energy_rel': {'mean': -0.0003511608615004312, 'std': 0.001338852908948093}, 'diis': {'mean': 0.042208092918505094, 'std': 0.002151695646705278}, 'rmse': {'mean': 0.008891954781447105, 'std': 0.00025438712978228796}}\n",
      "---\n",
      "{'batch_size': 8, 'data_aug_factor': 1.2421434515178726, 'edge_threshold_val': 2.1722825235148084, 'grace_epochs': 5, 'hidden_dim': 256, 'loss_on_full_matrix': True, 'lr': 0.005146634194303612, 'lr_cooldown': 2, 'lr_factor': 0.5, 'lr_min': 1e-06, 'lr_patience': 3, 'lr_threshold': 0.001, 'message_net_dropout': 0.25838046923195734, 'message_net_layers': 5, 'message_passing_steps': 2, 'num_epochs': 30, 'weight_decay': 0.0002491359422508525}\n",
      "{'energy_abs': {'mean': 2.779121380870324, 'std': 1.1132640455415743}, 'iterations': {'mean': 12.38, 'std': 1.2147427711248173}, 'energy_rel': {'mean': 0.0015862059192453114, 'std': 0.0006302635466138168}, 'diis': {'mean': 0.035199553359938573, 'std': 0.005451343157444972}, 'rmse': {'mean': 0.008575147402669327, 'std': 0.000502096762133264}}\n",
      "---\n",
      "{'batch_size': 32, 'data_aug_factor': 2.4478465953333686, 'edge_threshold_val': 2.123530238119213, 'grace_epochs': 5, 'hidden_dim': 128, 'loss_on_full_matrix': True, 'lr': 0.0043578427488491864, 'lr_cooldown': 2, 'lr_factor': 0.5, 'lr_min': 1e-06, 'lr_patience': 3, 'lr_threshold': 0.001, 'message_net_dropout': 0.2280132325061445, 'message_net_layers': 3, 'message_passing_steps': 2, 'num_epochs': 30, 'weight_decay': 4.428045033538712e-05}\n",
      "{'energy_abs': {'mean': 1.4535812544377547, 'std': 1.572540909726103}, 'iterations': {'mean': 13.857142857142858, 'std': 1.124858267715973}, 'energy_rel': {'mean': 0.0008417958570057544, 'std': 0.000912891268501186}, 'diis': {'mean': 0.04094950124961237, 'std': 0.0025358841952349016}, 'rmse': {'mean': 0.008750313398975581, 'std': 0.00035832011690218745}}\n",
      "---\n",
      "{'batch_size': 32, 'data_aug_factor': 1.498025802526258, 'edge_threshold_val': 2.112453109466307, 'grace_epochs': 5, 'hidden_dim': 128, 'loss_on_full_matrix': True, 'lr': 0.003967526938258375, 'lr_cooldown': 2, 'lr_factor': 0.5, 'lr_min': 1e-06, 'lr_patience': 3, 'lr_threshold': 0.001, 'message_net_dropout': 0.2946469861101187, 'message_net_layers': 5, 'message_passing_steps': 4, 'num_epochs': 30, 'weight_decay': 0.0009974817553386316}\n",
      "{'energy_abs': {'mean': 2.2982821880132813, 'std': 1.0169913673979394}, 'iterations': {'mean': 13.18, 'std': 1.1435033887138244}, 'energy_rel': {'mean': 0.0013108337816433592, 'std': 0.0005750005792513088}, 'diis': {'mean': 0.039518077817082886, 'std': 0.005742548608548063}, 'rmse': {'mean': 0.00879119319274557, 'std': 0.0004820035083508967}}\n",
      "---\n",
      "{'batch_size': 8, 'data_aug_factor': 1.7104526829941795, 'edge_threshold_val': 3.807178492635655, 'grace_epochs': 5, 'hidden_dim': 512, 'loss_on_full_matrix': True, 'lr': 0.008767422636534891, 'lr_cooldown': 2, 'lr_factor': 0.5, 'lr_min': 1e-06, 'lr_patience': 3, 'lr_threshold': 0.001, 'message_net_dropout': 0.21672095673244052, 'message_net_layers': 3, 'message_passing_steps': 4, 'num_epochs': 30, 'weight_decay': 0.0008298688203289991}\n",
      "{'energy_abs': {'mean': -3.784995240634244e+26, 'std': 1.769241938306636e+26}, 'iterations': {'mean': 38.333333333333336, 'std': 6.871842709362768}, 'energy_rel': {'mean': -2.1576064339293824e+23, 'std': 9.954399834650582e+22}, 'diis': {'mean': 1.459380934918918e+24, 'std': 6.70098958482975e+23}, 'rmse': {'mean': 135933243115.52446, 'std': 32535480011.39761}}\n",
      "---\n"
     ]
    }
   ],
   "source": [
    "trials.sort(key=lambda x:x[1][\"cummulative_stats\"][\"iterations\"][\"mean\"])\n",
    "# trials.sort(key=lambda x:x[0][\"edge_threshold_val\"])#[\"iterations\"][\"mean\"])\n",
    "for trial in trials: \n",
    "    print(trial[0])\n",
    "    print(trial[1][\"cummulative_stats\"])\n",
    "    print(\"---\")"
   ]
  },
  {
   "cell_type": "code",
   "execution_count": 37,
   "id": "1a6b43fa",
   "metadata": {},
   "outputs": [
    {
     "name": "stdout",
     "output_type": "stream",
     "text": [
      "/home/etschgi1/REPOS/Masterarbeit/3_studies/Block_guessing/6-31g_testing/tune_logs/MGNN_hyp_small_full_mat_loss.py/hyperopt_train_993a0_00149_149_batch_size=32,data_aug_factor=1.3282,edge_threshold_val=2.6983,hidden_dim=512,lr=0.0007,message_net_2025-07-12_05-52-52\n",
      "/home/etschgi1/REPOS/Masterarbeit/3_studies/Block_guessing/6-31g_testing/tune_logs/MGNN_hyp_small_full_mat_loss.py/hyperopt_train_993a0_00014_14_batch_size=16,data_aug_factor=2.3926,edge_threshold_val=3.0205,hidden_dim=512,lr=0.0003,message_net__2025-07-11_13-21-40\n",
      "/home/etschgi1/REPOS/Masterarbeit/3_studies/Block_guessing/6-31g_testing/tune_logs/MGNN_hyp_small_full_mat_loss.py/hyperopt_train_993a0_00079_79_batch_size=32,data_aug_factor=1.9081,edge_threshold_val=2.1113,hidden_dim=256,lr=0.0003,message_net__2025-07-11_22-04-17\n",
      "/home/etschgi1/REPOS/Masterarbeit/3_studies/Block_guessing/6-31g_testing/tune_logs/MGNN_hyp_small_full_mat_loss.py/hyperopt_train_993a0_00070_70_batch_size=32,data_aug_factor=2.3284,edge_threshold_val=2.0468,hidden_dim=256,lr=0.0001,message_net__2025-07-11_20-30-26\n",
      "/home/etschgi1/REPOS/Masterarbeit/3_studies/Block_guessing/6-31g_testing/tune_logs/MGNN_hyp_small_full_mat_loss.py/hyperopt_train_993a0_00121_121_batch_size=8,data_aug_factor=1.4950,edge_threshold_val=3.8074,hidden_dim=256,lr=0.0014,message_net__2025-07-12_02-36-59\n",
      "/home/etschgi1/REPOS/Masterarbeit/3_studies/Block_guessing/6-31g_testing/tune_logs/MGNN_hyp_small_full_mat_loss.py/hyperopt_train_993a0_00082_82_batch_size=32,data_aug_factor=1.6722,edge_threshold_val=2.1384,hidden_dim=256,lr=0.0004,message_net__2025-07-11_22-25-17\n",
      "/home/etschgi1/REPOS/Masterarbeit/3_studies/Block_guessing/6-31g_testing/tune_logs/MGNN_hyp_small_full_mat_loss.py/hyperopt_train_993a0_00157_157_batch_size=8,data_aug_factor=1.2421,edge_threshold_val=2.1723,hidden_dim=256,lr=0.0051,message_net__2025-07-12_07-02-21\n",
      "/home/etschgi1/REPOS/Masterarbeit/3_studies/Block_guessing/6-31g_testing/tune_logs/MGNN_hyp_small_full_mat_loss.py/hyperopt_train_993a0_00009_9_batch_size=32,data_aug_factor=2.4478,edge_threshold_val=2.1235,hidden_dim=128,lr=0.0044,message_net_d_2025-07-11_12-44-42\n",
      "/home/etschgi1/REPOS/Masterarbeit/3_studies/Block_guessing/6-31g_testing/tune_logs/MGNN_hyp_small_full_mat_loss.py/hyperopt_train_993a0_00144_144_batch_size=32,data_aug_factor=1.4980,edge_threshold_val=2.1125,hidden_dim=128,lr=0.0040,message_net_2025-07-12_05-17-37\n",
      "/home/etschgi1/REPOS/Masterarbeit/3_studies/Block_guessing/6-31g_testing/tune_logs/MGNN_hyp_small_full_mat_loss.py/hyperopt_train_993a0_00158_158_batch_size=8,data_aug_factor=1.7105,edge_threshold_val=3.8072,hidden_dim=512,lr=0.0088,message_net__2025-07-12_07-05-52\n",
      "\\begin{tabular}{rlllll}\n",
      "\\toprule\n",
      "ID & Iterations & $\\Delta E_\\text{HF}$ & $\\delta E_\\text{HF}$ & DIIS error & $\\overline{\\text{RMSE}}$ \\\\\n",
      "\\midrule\n",
      "0 & 12.0(0.9) & 1.232(0.844) & 0.0007(0.0005) & 0.031(0.0039) & 0.0084(0.0006) \\\\\n",
      "1 & 12.2(0.8) & 2.140(1.369) & 0.0012(0.0008) & 0.031(0.0040) & 0.0080(0.0006) \\\\\n",
      "2 & 13.9(1.1) & 0.921(0.678) & 0.0005(0.0004) & 0.040(0.0024) & 0.0089(0.0002) \\\\\n",
      "3 & 14.0(0.6) & 7.474(3.171) & 0.0043(0.0018) & 0.042(0.0032) & 0.0091(0.0004) \\\\\n",
      "4 & 11.4(0.6) & -1.356(1.459) & -0.0008(0.0008) & 0.030(0.0047) & 0.0080(0.0007) \\\\\n",
      "5 & 13.6(1.0) & -0.596(2.349) & -0.0004(0.0013) & 0.042(0.0022) & 0.0089(0.0003) \\\\\n",
      "6 & 12.4(1.2) & 2.779(1.113) & 0.0016(0.0006) & 0.035(0.0055) & 0.0086(0.0005) \\\\\n",
      "7 & 13.9(1.1) & 1.454(1.573) & 0.0008(0.0009) & 0.041(0.0025) & 0.0088(0.0004) \\\\\n",
      "8 & 13.2(1.1) & 2.298(1.017) & 0.0013(0.0006) & 0.040(0.0057) & 0.0088(0.0005) \\\\\n",
      "9 & 38.3(6.9) & -378499524063424386365915136.000(176924193830663616882278400.000) & -215760643392938239328256.0000(99543998346505817686016.0000) & 1459380934918917941362688.000(670098958482974946885632.0000) & 135933243115.5245(32535480011.3976) \\\\\n",
      "\\bottomrule\n",
      "\\end{tabular}\n",
      "\n"
     ]
    }
   ],
   "source": [
    "table_data = []\n",
    "Hartree_conv = 1000 # mH\n",
    "for i, (params, metrics, path) in enumerate(trials):\n",
    "    metrics = metrics[\"cummulative_stats\"]\n",
    "    row = {\n",
    "        'ID': i,\n",
    "        'Iterations': f\"{float(metrics['iterations']['mean']):.1f}({float(metrics['iterations']['std']):.1f})\",\n",
    "        r\"$\\Delta E_\\text{HF}$\": f\"{float(metrics['energy_abs']['mean']):.3f}({float(metrics['energy_abs']['std']):.3f})\",\n",
    "        r\"$\\delta E_\\text{HF}$\": f\"{float(metrics['energy_rel']['mean']):.4f}({float(metrics['energy_rel']['std']):.4f})\",\n",
    "        'DIIS error': f\"{float(metrics['diis']['mean']):.3f}({float(metrics['diis']['std']):.4f})\",\n",
    "        r\"$\\overline{\\text{RMSE}}$\": f\"{float(metrics['rmse']['mean']):.4f}({float(metrics['rmse']['std']):.4f})\"\n",
    "    }\n",
    "    table_data.append(row)\n",
    "    print(path)\n",
    "import pandas as pd\n",
    "df = pd.DataFrame(table_data)\n",
    "\n",
    "latex = df.to_latex(index=False)\n",
    "print(latex)"
   ]
  },
  {
   "cell_type": "code",
   "execution_count": 38,
   "id": "24d5632f",
   "metadata": {},
   "outputs": [
    {
     "name": "stdout",
     "output_type": "stream",
     "text": [
      "\\begin{tabular}{lllllllllll}\n",
      "\\toprule\n",
      " & 0 & 1 & 2 & 3 & 4 & 5 & 6 & 7 & 8 & 9 \\\\\n",
      "\\midrule\n",
      "Parameter & 0 & 1 & 2 & 3 & 4 & 5 & 6 & 7 & 8 & 9 \\\\\n",
      "Hidden Dimension & 512 & 512 & 256 & 256 & 256 & 256 & 256 & 128 & 128 & 512 \\\\\n",
      "Batch Size & 32 & 16 & 32 & 32 & 8 & 32 & 8 & 32 & 32 & 8 \\\\\n",
      "Data aug. & 1.33 & 2.39 & 1.91 & 2.33 & 1.50 & 1.67 & 1.24 & 2.45 & 1.50 & 1.71 \\\\\n",
      "Edge thres. & 2.70 & 3.02 & 2.11 & 2.05 & 3.81 & 2.14 & 2.17 & 2.12 & 2.11 & 3.81 \\\\\n",
      "Message p. steps & 2 & 2 & 3 & 3 & 2 & 3 & 2 & 2 & 4 & 4 \\\\\n",
      "Message Net Dropout & 0.10 & 0.25 & 0.22 & 0.11 & 0.19 & 0.18 & 0.26 & 0.23 & 0.29 & 0.22 \\\\\n",
      "Message Net Layers & 5 & 5 & 5 & 3 & 3 & 3 & 5 & 3 & 5 & 3 \\\\\n",
      "Learn Rate & 6.68e-04 & 3.49e-04 & 2.61e-04 & 1.16e-04 & 1.43e-03 & 3.54e-04 & 5.15e-03 & 4.36e-03 & 3.97e-03 & 8.77e-03 \\\\\n",
      "Weight Decay & 3.75e-05 & 6.32e-05 & 2.97e-04 & 2.35e-05 & 2.10e-04 & 5.21e-05 & 2.49e-04 & 4.43e-05 & 9.97e-04 & 8.30e-04 \\\\\n",
      "\\bottomrule\n",
      "\\end{tabular}\n",
      "\n"
     ]
    }
   ],
   "source": [
    "table_data = []\n",
    "for i, (params, metrics, path) in enumerate(trials):\n",
    "    metrics = metrics[\"cummulative_stats\"]\n",
    "    row = {\n",
    "        'Parameter': int(i),\n",
    "        'Hidden Dimension': int(params[\"hidden_dim\"]),\n",
    "        'Batch Size': int(params[\"batch_size\"]),\n",
    "        \"Data aug.\": f'{float(params[\"data_aug_factor\"]):.2f}',\n",
    "        \"Edge thres.\": f'{float(params[\"edge_threshold_val\"]):.2f}',\n",
    "        \"Message p. steps\": int(params[\"message_passing_steps\"]),\n",
    "        \"Message Net Dropout\": f'{float(params[\"message_net_dropout\"]):.2f}',\n",
    "        \"Message Net Layers\": int(params[\"message_net_layers\"]),\n",
    "        \"Learn Rate\": f'{float(params[\"lr\"]):.2e}',\n",
    "        \"Weight Decay\": f'{float(params[\"weight_decay\"]):.2e}',\n",
    "    }\n",
    "    table_data.append(row)\n",
    "\n",
    "import pandas as pd\n",
    "df = pd.DataFrame(table_data).T\n",
    "\n",
    "\n",
    "latex = df.to_latex(index=True)\n",
    "print(latex)"
   ]
  },
  {
   "cell_type": "code",
   "execution_count": 45,
   "id": "66a3f574",
   "metadata": {},
   "outputs": [],
   "source": [
    "data = []\n",
    "for folder in os.listdir(ray_folder):\n",
    "    sub_folder_path = os.path.join(ray_folder, folder)\n",
    "    if os.path.exists(os.path.join(sub_folder_path, \"result.json\")):\n",
    "        with open(os.path.join(sub_folder_path, \"result.json\")) as f:\n",
    "            result = f.readlines()\n",
    "        result = [json.loads(line) for line in result if line.strip()]\n",
    "        lastline = result[-1]\n",
    "        with open(os.path.join(sub_folder_path, \"params.json\")) as f:\n",
    "            params = json.load(f)\n",
    "        data.append((folder, params, lastline[\"loss\"]))"
   ]
  },
  {
   "cell_type": "code",
   "execution_count": 44,
   "id": "5a3842fa",
   "metadata": {},
   "outputs": [
    {
     "name": "stdout",
     "output_type": "stream",
     "text": [
      "hyperopt_train_993a0_00079_79_batch_size=32,data_aug_factor=1.9081,edge_threshold_val=2.1113,hidden_dim=256,lr=0.0003,message_net__2025-07-11_22-04-17: 1262.2497\n",
      "hyperopt_train_993a0_00144_144_batch_size=32,data_aug_factor=1.4980,edge_threshold_val=2.1125,hidden_dim=128,lr=0.0040,message_net_2025-07-12_05-17-37: 1288.5993\n",
      "hyperopt_train_993a0_00070_70_batch_size=32,data_aug_factor=2.3284,edge_threshold_val=2.0468,hidden_dim=256,lr=0.0001,message_net__2025-07-11_20-30-26: 1294.2693\n",
      "hyperopt_train_993a0_00009_9_batch_size=32,data_aug_factor=2.4478,edge_threshold_val=2.1235,hidden_dim=128,lr=0.0044,message_net_d_2025-07-11_12-44-42: 1298.3422\n",
      "hyperopt_train_993a0_00082_82_batch_size=32,data_aug_factor=1.6722,edge_threshold_val=2.1384,hidden_dim=256,lr=0.0004,message_net__2025-07-11_22-25-17: 1302.5625\n",
      "hyperopt_train_993a0_00150_150_batch_size=32,data_aug_factor=1.5349,edge_threshold_val=2.1448,hidden_dim=128,lr=0.0013,message_net_2025-07-12_06-01-36: 1320.4846\n",
      "hyperopt_train_993a0_00095_95_batch_size=32,data_aug_factor=1.1408,edge_threshold_val=2.1070,hidden_dim=512,lr=0.0002,message_net__2025-07-11_23-54-28: 1336.8738\n",
      "hyperopt_train_993a0_00064_64_batch_size=32,data_aug_factor=2.1024,edge_threshold_val=2.2328,hidden_dim=256,lr=0.0006,message_net__2025-07-11_19-43-40: 1542.8754\n",
      "hyperopt_train_993a0_00044_44_batch_size=32,data_aug_factor=1.9915,edge_threshold_val=2.2346,hidden_dim=512,lr=0.0016,message_net__2025-07-11_17-18-27: 1565.7293\n",
      "hyperopt_train_993a0_00043_43_batch_size=32,data_aug_factor=2.2869,edge_threshold_val=2.2494,hidden_dim=256,lr=0.0022,message_net__2025-07-11_17-00-37: 1570.4525\n"
     ]
    }
   ],
   "source": [
    "sorted_data = sorted(data, key=lambda x: x[1])\n",
    "for path, loss in sorted_data[:10]:\n",
    "    print(f\"{path}: {loss:.4f}\")"
   ]
  },
  {
   "cell_type": "code",
   "execution_count": 59,
   "id": "439d3f40",
   "metadata": {},
   "outputs": [
    {
     "data": {
      "text/plain": [
       "[('hyperopt_train_993a0_00070_70_batch_size=32,data_aug_factor=2.3284,edge_threshold_val=2.0468,hidden_dim=256,lr=0.0001,message_net__2025-07-11_20-30-26',\n",
       "  {'batch_size': 32,\n",
       "   'data_aug_factor': 2.32843109208835,\n",
       "   'edge_threshold_val': 2.046848789531119,\n",
       "   'grace_epochs': 5,\n",
       "   'hidden_dim': 256,\n",
       "   'loss_on_full_matrix': True,\n",
       "   'lr': 0.0001160861493167114,\n",
       "   'lr_cooldown': 2,\n",
       "   'lr_factor': 0.5,\n",
       "   'lr_min': 1e-06,\n",
       "   'lr_patience': 3,\n",
       "   'lr_threshold': 0.001,\n",
       "   'message_net_dropout': 0.10802434241852031,\n",
       "   'message_net_layers': 3,\n",
       "   'message_passing_steps': 3,\n",
       "   'num_epochs': 30,\n",
       "   'weight_decay': 2.3506875491839735e-05},\n",
       "  1294.2693481445312),\n",
       " ('hyperopt_train_993a0_00136_136_batch_size=32,data_aug_factor=2.3237,edge_threshold_val=2.8383,hidden_dim=256,lr=0.0033,message_net_2025-07-12_04-26-10',\n",
       "  {'batch_size': 32,\n",
       "   'data_aug_factor': 2.323700581278806,\n",
       "   'edge_threshold_val': 2.838342279688234,\n",
       "   'grace_epochs': 5,\n",
       "   'hidden_dim': 256,\n",
       "   'loss_on_full_matrix': True,\n",
       "   'lr': 0.0032523205461433185,\n",
       "   'lr_cooldown': 2,\n",
       "   'lr_factor': 0.5,\n",
       "   'lr_min': 1e-06,\n",
       "   'lr_patience': 3,\n",
       "   'lr_threshold': 0.001,\n",
       "   'message_net_dropout': 0.20519157616489656,\n",
       "   'message_net_layers': 4,\n",
       "   'message_passing_steps': 2,\n",
       "   'num_epochs': 30,\n",
       "   'weight_decay': 0.00040620700111556},\n",
       "  3204.976806640625)]"
      ]
     },
     "execution_count": 59,
     "metadata": {},
     "output_type": "execute_result"
    }
   ],
   "source": [
    "# data aug in range\n",
    "data_n = [x for x in data if 2.32 <= x[1][\"data_aug_factor\"] <= 2.34]\n",
    "data_n"
   ]
  }
 ],
 "metadata": {
  "kernelspec": {
   "display_name": "scf_guess_1_0",
   "language": "python",
   "name": "python3"
  },
  "language_info": {
   "codemirror_mode": {
    "name": "ipython",
    "version": 3
   },
   "file_extension": ".py",
   "mimetype": "text/x-python",
   "name": "python",
   "nbconvert_exporter": "python",
   "pygments_lexer": "ipython3",
   "version": "3.11.11"
  }
 },
 "nbformat": 4,
 "nbformat_minor": 5
}
