{
 "cells": [
  {
   "cell_type": "code",
   "execution_count": 1,
   "id": "478938ce",
   "metadata": {},
   "outputs": [
    {
     "name": "stdout",
     "output_type": "stream",
     "text": [
      "Project root directory: /home/etschgi1/REPOS/Masterarbeit\n"
     ]
    }
   ],
   "source": [
    "import sys, pickle, json, os, re\n",
    "import numpy as np\n",
    "from collections import defaultdict\n",
    "from pprint import pprint\n",
    "from typing import List, Dict, Any\n",
    "sys.path.append('../src/')\n",
    "sys.path.append(\"../../scripts/\")\n",
    "from utils import find_repo_root\n",
    "\n",
    "import matplotlib.pyplot as plt\n",
    "from plt_config import use_latex, TU_GREY, TU_RED\n",
    "use_latex()\n",
    "project_root_dir = find_repo_root()\n",
    "print(\"Project root directory:\", project_root_dir)"
   ]
  },
  {
   "cell_type": "code",
   "execution_count": 23,
   "id": "bf862606",
   "metadata": {},
   "outputs": [],
   "source": [
    "ray_folder = \"/home/etschgi1/REPOS/Masterarbeit/3_studies/Block_guessing/6-31g_testing/tune_logs/MGNN_hyp_small_full_mat_loss.py\"\n",
    "trials = []\n",
    "for folder in os.listdir(ray_folder):\n",
    "    sub_folder_path = os.path.join(ray_folder, folder)\n",
    "    if os.path.exists(os.path.join(sub_folder_path, \"eval_res.json\")):\n",
    "        with open(os.path.join(sub_folder_path, \"eval_res.json\")) as f:\n",
    "            eval_res = json.load(f)\n",
    "        with open(os.path.join(sub_folder_path, \"params.json\")) as f:\n",
    "            params = json.load(f)\n",
    "        trials.append((params, eval_res))"
   ]
  },
  {
   "cell_type": "code",
   "execution_count": 24,
   "id": "34e8cf54",
   "metadata": {},
   "outputs": [
    {
     "name": "stdout",
     "output_type": "stream",
     "text": [
      "{'batch_size': 8, 'data_aug_factor': 1.8283773645141828, 'edge_threshold_val': 2.733101699166326, 'grace_epochs': 5, 'hidden_dim': 512, 'loss_on_full_matrix': True, 'lr': 0.000633634973297049, 'lr_cooldown': 2, 'lr_factor': 0.5, 'lr_min': 1e-06, 'lr_patience': 3, 'lr_threshold': 0.001, 'message_net_dropout': 0.103867632797979, 'message_net_layers': 3, 'message_passing_steps': 2, 'num_epochs': 30, 'weight_decay': 0.0004561806598773125}\n",
      "{'iterations': {'mean': 11.48, 'std': 0.9431860898041278}, 'energy_abs': {'mean': -1254.8999718631876, 'std': 37.812301352121985}, 'energy_rel': {'mean': -0.7183590438076577, 'std': 0.011168065734956862}, 'diis': {'mean': 0.20912042996427752, 'std': 0.017106338553774407}, 'rmse': {'mean': 0.0076058432116162256, 'std': 0.0006337539396056591}}\n",
      "---\n",
      "{'batch_size': 8, 'data_aug_factor': 2.4588815931150743, 'edge_threshold_val': 3.870510473622333, 'grace_epochs': 5, 'hidden_dim': 256, 'loss_on_full_matrix': True, 'lr': 0.00023052638210855868, 'lr_cooldown': 2, 'lr_factor': 0.5, 'lr_min': 1e-06, 'lr_patience': 3, 'lr_threshold': 0.001, 'message_net_dropout': 0.26638650311875234, 'message_net_layers': 5, 'message_passing_steps': 4, 'num_epochs': 30, 'weight_decay': 7.368110771207735e-05}\n",
      "{'iterations': {'mean': 11.56, 'std': 0.7255342858886822}, 'energy_abs': {'mean': -1246.3075326349076, 'std': 40.16247196181572}, 'energy_rel': {'mean': -0.7134044688408585, 'std': 0.011865484833457179}, 'diis': {'mean': 0.2057705377350293, 'std': 0.01784765084663044}, 'rmse': {'mean': 0.0077950810498719535, 'std': 0.0006301623205181101}}\n",
      "---\n",
      "{'batch_size': 8, 'data_aug_factor': 2.384148106311334, 'edge_threshold_val': 3.2133434522058257, 'grace_epochs': 5, 'hidden_dim': 128, 'loss_on_full_matrix': True, 'lr': 0.0002889738789526994, 'lr_cooldown': 2, 'lr_factor': 0.5, 'lr_min': 1e-06, 'lr_patience': 3, 'lr_threshold': 0.001, 'message_net_dropout': 0.21105048608298513, 'message_net_layers': 4, 'message_passing_steps': 3, 'num_epochs': 30, 'weight_decay': 4.3730400720615005e-05}\n",
      "{'iterations': {'mean': 11.68, 'std': 0.76}, 'energy_abs': {'mean': -1188.3930920283508, 'std': 36.18768952293938}, 'energy_rel': {'mean': -0.6802729263985563, 'std': 0.010122831438710917}, 'diis': {'mean': 0.18982150331259168, 'std': 0.01591754635013543}, 'rmse': {'mean': 0.007898392635646232, 'std': 0.0005801621347579912}}\n",
      "---\n",
      "{'batch_size': 8, 'data_aug_factor': 1.7602260945230028, 'edge_threshold_val': 2.0669271271980163, 'grace_epochs': 5, 'hidden_dim': 128, 'loss_on_full_matrix': True, 'lr': 0.004926198145985166, 'lr_cooldown': 2, 'lr_factor': 0.5, 'lr_min': 1e-06, 'lr_patience': 3, 'lr_threshold': 0.001, 'message_net_dropout': 0.17595834154522214, 'message_net_layers': 3, 'message_passing_steps': 3, 'num_epochs': 30, 'weight_decay': 1.6917184044604898e-05}\n",
      "{'iterations': {'mean': 13.1, 'std': 1.1180339887498947}, 'energy_abs': {'mean': -1313.8193793485507, 'std': 46.204052708432755}, 'energy_rel': {'mean': -0.7519998345710571, 'std': 0.01422026873590423}, 'diis': {'mean': 0.22959392566721193, 'std': 0.019021250479286374}, 'rmse': {'mean': 0.008398874698132983, 'std': 0.0004750000101922251}}\n",
      "---\n",
      "{'batch_size': 32, 'data_aug_factor': 1.498025802526258, 'edge_threshold_val': 2.112453109466307, 'grace_epochs': 5, 'hidden_dim': 128, 'loss_on_full_matrix': True, 'lr': 0.003967526938258375, 'lr_cooldown': 2, 'lr_factor': 0.5, 'lr_min': 1e-06, 'lr_patience': 3, 'lr_threshold': 0.001, 'message_net_dropout': 0.2946469861101187, 'message_net_layers': 5, 'message_passing_steps': 4, 'num_epochs': 30, 'weight_decay': 0.0009974817553386316}\n",
      "{'iterations': {'mean': 13.24, 'std': 1.225724275683565}, 'energy_abs': {'mean': -1314.3807194280091, 'std': 41.90863245640363}, 'energy_rel': {'mean': -0.7523684994980434, 'std': 0.011982922804561228}, 'diis': {'mean': 0.2335244627526139, 'std': 0.01874857407195075}, 'rmse': {'mean': 0.008781086505091846, 'std': 0.0004815831892335744}}\n",
      "---\n",
      "{'batch_size': 32, 'data_aug_factor': 1.1407977480200175, 'edge_threshold_val': 2.107000689072268, 'grace_epochs': 5, 'hidden_dim': 512, 'loss_on_full_matrix': True, 'lr': 0.00017870982552951428, 'lr_cooldown': 2, 'lr_factor': 0.5, 'lr_min': 1e-06, 'lr_patience': 3, 'lr_threshold': 0.001, 'message_net_dropout': 0.14033162496937918, 'message_net_layers': 3, 'message_passing_steps': 2, 'num_epochs': 30, 'weight_decay': 8.345416639117775e-05}\n",
      "{'iterations': {'mean': 13.34, 'std': 1.0697663296253066}, 'energy_abs': {'mean': -1298.001646542438, 'std': 42.27103621842174}, 'energy_rel': {'mean': -0.7429873925107426, 'std': 0.012337207798993504}, 'diis': {'mean': 0.23212596912321248, 'std': 0.019312713015473}, 'rmse': {'mean': 0.008979252641432303, 'std': 0.0005189018224805977}}\n",
      "---\n",
      "{'batch_size': 32, 'data_aug_factor': 1.6721760072480596, 'edge_threshold_val': 2.138362519085188, 'grace_epochs': 5, 'hidden_dim': 256, 'loss_on_full_matrix': True, 'lr': 0.0003537434986380686, 'lr_cooldown': 2, 'lr_factor': 0.5, 'lr_min': 1e-06, 'lr_patience': 3, 'lr_threshold': 0.001, 'message_net_dropout': 0.18338683035764203, 'message_net_layers': 3, 'message_passing_steps': 3, 'num_epochs': 30, 'weight_decay': 5.20519508587275e-05}\n",
      "{'iterations': {'mean': 13.62, 'std': 1.3249905660041508}, 'energy_abs': {'mean': -1315.0845953242854, 'std': 44.429443274287706}, 'energy_rel': {'mean': -0.7527623915912665, 'std': 0.01407371510825805}, 'diis': {'mean': 0.23506583229469608, 'std': 0.02019576165810926}, 'rmse': {'mean': 0.008939446517089849, 'std': 0.0005170186487443738}}\n",
      "---\n",
      "{'batch_size': 32, 'data_aug_factor': 2.4478465953333686, 'edge_threshold_val': 2.123530238119213, 'grace_epochs': 5, 'hidden_dim': 128, 'loss_on_full_matrix': True, 'lr': 0.0043578427488491864, 'lr_cooldown': 2, 'lr_factor': 0.5, 'lr_min': 1e-06, 'lr_patience': 3, 'lr_threshold': 0.001, 'message_net_dropout': 0.2280132325061445, 'message_net_layers': 3, 'message_passing_steps': 2, 'num_epochs': 30, 'weight_decay': 4.428045033538712e-05}\n",
      "{'iterations': {'mean': 13.88, 'std': 1.0703270528207722}, 'energy_abs': {'mean': -1324.4986954225958, 'std': 46.754350544533374}, 'energy_rel': {'mean': -0.7581068514952838, 'std': 0.01410535335650639}, 'diis': {'mean': 0.23777053469114126, 'std': 0.021226183421900496}, 'rmse': {'mean': 0.0088222508082215, 'std': 0.000551164328887642}}\n",
      "---\n",
      "{'batch_size': 32, 'data_aug_factor': 1.9081436498666626, 'edge_threshold_val': 2.111290729660567, 'grace_epochs': 5, 'hidden_dim': 256, 'loss_on_full_matrix': True, 'lr': 0.00026128510321670335, 'lr_cooldown': 2, 'lr_factor': 0.5, 'lr_min': 1e-06, 'lr_patience': 3, 'lr_threshold': 0.001, 'message_net_dropout': 0.2191115137292724, 'message_net_layers': 5, 'message_passing_steps': 3, 'num_epochs': 30, 'weight_decay': 0.0002974629996807899}\n",
      "{'iterations': {'mean': 14.52, 'std': 1.3746272221951665}, 'energy_abs': {'mean': -1345.4023650633703, 'std': 41.29416615412621}, 'energy_rel': {'mean': -0.7701499933202026, 'std': 0.011851897509282696}, 'diis': {'mean': 0.2442905118324996, 'std': 0.019385871423198878}, 'rmse': {'mean': 0.008967533032939606, 'std': 0.0005171106929165783}}\n",
      "---\n",
      "{'batch_size': 32, 'data_aug_factor': 2.32843109208835, 'edge_threshold_val': 2.046848789531119, 'grace_epochs': 5, 'hidden_dim': 256, 'loss_on_full_matrix': True, 'lr': 0.0001160861493167114, 'lr_cooldown': 2, 'lr_factor': 0.5, 'lr_min': 1e-06, 'lr_patience': 3, 'lr_threshold': 0.001, 'message_net_dropout': 0.10802434241852031, 'message_net_layers': 3, 'message_passing_steps': 3, 'num_epochs': 30, 'weight_decay': 2.3506875491839735e-05}\n",
      "{'iterations': {'mean': 14.66, 'std': 1.2427389106324787}, 'energy_abs': {'mean': -1349.006603402446, 'std': 50.60821847418748}, 'energy_rel': {'mean': -0.7721158390652539, 'std': 0.01636763045507095}, 'diis': {'mean': 0.24783349614034456, 'std': 0.02308906289996008}, 'rmse': {'mean': 0.009136858757288077, 'std': 0.0005433538855122038}}\n",
      "---\n"
     ]
    }
   ],
   "source": [
    "trials.sort(key=lambda x:x[1][\"cummulative_stats\"][\"iterations\"][\"mean\"])\n",
    "for trial in trials: \n",
    "    print(trial[0])\n",
    "    print(trial[1][\"cummulative_stats\"])\n",
    "    print(\"---\")"
   ]
  },
  {
   "cell_type": "code",
   "execution_count": 32,
   "id": "1a6b43fa",
   "metadata": {},
   "outputs": [
    {
     "name": "stdout",
     "output_type": "stream",
     "text": [
      "\\begin{tabular}{rlllll}\n",
      "\\toprule\n",
      "ID & Iterations & $\\Delta E_\\text{HF}$ & $\\delta E_\\text{HF}$ & DIIS error & $\\overline{\\text{RMSE}}$ \\\\\n",
      "\\midrule\n",
      "0 & 11.5(0.9) & -1254.9(37.8) & -0.718(0.011) & 0.209(0.02) & 0.0076(0.0006) \\\\\n",
      "1 & 11.6(0.7) & -1246.3(40.2) & -0.713(0.012) & 0.206(0.02) & 0.0078(0.0006) \\\\\n",
      "2 & 11.7(0.8) & -1188.4(36.2) & -0.680(0.010) & 0.190(0.02) & 0.0079(0.0006) \\\\\n",
      "3 & 13.1(1.1) & -1313.8(46.2) & -0.752(0.014) & 0.230(0.02) & 0.0084(0.0005) \\\\\n",
      "4 & 13.2(1.2) & -1314.4(41.9) & -0.752(0.012) & 0.234(0.02) & 0.0088(0.0005) \\\\\n",
      "5 & 13.3(1.1) & -1298.0(42.3) & -0.743(0.012) & 0.232(0.02) & 0.0090(0.0005) \\\\\n",
      "6 & 13.6(1.3) & -1315.1(44.4) & -0.753(0.014) & 0.235(0.02) & 0.0089(0.0005) \\\\\n",
      "7 & 13.9(1.1) & -1324.5(46.8) & -0.758(0.014) & 0.238(0.02) & 0.0088(0.0006) \\\\\n",
      "8 & 14.5(1.4) & -1345.4(41.3) & -0.770(0.012) & 0.244(0.02) & 0.0090(0.0005) \\\\\n",
      "9 & 14.7(1.2) & -1349.0(50.6) & -0.772(0.016) & 0.248(0.02) & 0.0091(0.0005) \\\\\n",
      "\\bottomrule\n",
      "\\end{tabular}\n",
      "\n"
     ]
    }
   ],
   "source": [
    "table_data = []\n",
    "for i, (params, metrics) in enumerate(trials):\n",
    "    metrics = metrics[\"cummulative_stats\"]\n",
    "    row = {\n",
    "        'ID': i,\n",
    "        'Iterations': f\"{float(metrics['iterations']['mean']):.1f}({float(metrics['iterations']['std']):.1f})\",\n",
    "        r\"$\\Delta E_\\text{HF}$\": f\"{float(metrics['energy_abs']['mean']):.1f}({float(metrics['energy_abs']['std']):.1f})\",\n",
    "        r\"$\\delta E_\\text{HF}$\": f\"{float(metrics['energy_rel']['mean']):.3f}({float(metrics['energy_rel']['std']):.3f})\",\n",
    "        'DIIS error': f\"{float(metrics['diis']['mean']):.3f}({float(metrics['diis']['std']):.2f})\",\n",
    "        r\"$\\overline{\\text{RMSE}}$\": f\"{float(metrics['rmse']['mean']):.4f}({float(metrics['rmse']['std']):.4f})\"\n",
    "    }\n",
    "    table_data.append(row)\n",
    "\n",
    "import pandas as pd\n",
    "df = pd.DataFrame(table_data)\n",
    "\n",
    "latex = df.to_latex(index=False)\n",
    "print(latex)"
   ]
  },
  {
   "cell_type": "code",
   "execution_count": null,
   "id": "24d5632f",
   "metadata": {},
   "outputs": [],
   "source": []
  }
 ],
 "metadata": {
  "kernelspec": {
   "display_name": "scf_guess_1_0",
   "language": "python",
   "name": "python3"
  },
  "language_info": {
   "codemirror_mode": {
    "name": "ipython",
    "version": 3
   },
   "file_extension": ".py",
   "mimetype": "text/x-python",
   "name": "python",
   "nbconvert_exporter": "python",
   "pygments_lexer": "ipython3",
   "version": "3.11.11"
  }
 },
 "nbformat": 4,
 "nbformat_minor": 5
}
