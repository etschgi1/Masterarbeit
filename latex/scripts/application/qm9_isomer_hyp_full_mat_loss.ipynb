{
 "cells": [
  {
   "cell_type": "code",
   "execution_count": 97,
   "id": "478938ce",
   "metadata": {},
   "outputs": [
    {
     "name": "stdout",
     "output_type": "stream",
     "text": [
      "Project root directory: /home/etschgi1/REPOS/Masterarbeit\n"
     ]
    }
   ],
   "source": [
    "import sys, pickle, json, os, re\n",
    "import numpy as np\n",
    "from collections import defaultdict\n",
    "from pprint import pprint\n",
    "from typing import List, Dict, Any\n",
    "sys.path.append('../src/')\n",
    "sys.path.append(\"../../scripts/\")\n",
    "from utils import find_repo_root\n",
    "\n",
    "import matplotlib.pyplot as plt\n",
    "from plt_config import use_latex, TU_GREY, TU_RED\n",
    "use_latex()\n",
    "project_root_dir = find_repo_root()\n",
    "print(\"Project root directory:\", project_root_dir)"
   ]
  },
  {
   "cell_type": "code",
   "execution_count": 98,
   "id": "bf862606",
   "metadata": {},
   "outputs": [],
   "source": [
    "ray_folder = \"/home/etschgi1/REPOS/Masterarbeit/3_studies/Block_guessing/6-31g_testing/tune_logs/MGNN_hyp_small_full_mat_loss.py\"\n",
    "ray_folder = \"/home/etschgi1/REPOS/Masterarbeit/3_studies/Block_guessing/6-31g_testing/tune_logs/MGNN_hyp_small_full_mat_loss.py\"\n",
    "eval_name = \"eval_res_reeval.json\"\n",
    "trials = []\n",
    "for folder in os.listdir(ray_folder):\n",
    "    sub_folder_path = os.path.join(ray_folder, folder)\n",
    "    if os.path.exists(os.path.join(sub_folder_path, eval_name)):\n",
    "        with open(os.path.join(sub_folder_path, eval_name)) as f:\n",
    "            eval_res = json.load(f)\n",
    "        with open(os.path.join(sub_folder_path, \"params.json\")) as f:\n",
    "            params = json.load(f)\n",
    "        trials.append((params, eval_res, sub_folder_path))"
   ]
  },
  {
   "cell_type": "code",
   "execution_count": 99,
   "id": "ea1c3047",
   "metadata": {},
   "outputs": [],
   "source": [
    "# add 0 iterations if not present\n",
    "for i, (params, eval_res, sub_folder_path) in enumerate(trials):\n",
    "    if \"iterations\" not in eval_res[\"cummulative_stats\"]:\n",
    "        cum_stats_dict = eval_res[\"cummulative_stats\"]\n",
    "        cum_stats_dict[\"iterations\"] = {}\n",
    "        cum_stats_dict[\"iterations\"][\"mean\"] = 0\n",
    "        cum_stats_dict[\"iterations\"][\"std\"] = 0\n",
    "        eval_res[\"cummulative_stats\"] = cum_stats_dict\n",
    "        trials[i] = (params, eval_res, sub_folder_path)\n",
    "\n"
   ]
  },
  {
   "cell_type": "code",
   "execution_count": 100,
   "id": "d84997f8",
   "metadata": {},
   "outputs": [
    {
     "data": {
      "text/plain": [
       "dict_keys(['batch_size', 'data_aug_factor', 'edge_threshold_val', 'grace_epochs', 'hidden_dim', 'loss_on_full_matrix', 'lr', 'lr_cooldown', 'lr_factor', 'lr_min', 'lr_patience', 'lr_threshold', 'message_net_dropout', 'message_net_layers', 'message_passing_steps', 'num_epochs', 'weight_decay'])"
      ]
     },
     "execution_count": 100,
     "metadata": {},
     "output_type": "execute_result"
    }
   ],
   "source": [
    "trials[0][0].keys()"
   ]
  },
  {
   "cell_type": "code",
   "execution_count": 101,
   "id": "34e8cf54",
   "metadata": {},
   "outputs": [
    {
     "name": "stdout",
     "output_type": "stream",
     "text": [
      "{'batch_size': 32, 'data_aug_factor': 1.9081436498666626, 'edge_threshold_val': 2.111290729660567, 'grace_epochs': 5, 'hidden_dim': 256, 'loss_on_full_matrix': True, 'lr': 0.00026128510321670335, 'lr_cooldown': 2, 'lr_factor': 0.5, 'lr_min': 1e-06, 'lr_patience': 3, 'lr_threshold': 0.001, 'message_net_dropout': 0.2191115137292724, 'message_net_layers': 5, 'message_passing_steps': 3, 'num_epochs': 30, 'weight_decay': 0.0002974629996807899}\n",
      "{'energy_abs': {'mean': 1.4001809385812476, 'std': 2.257128929105722}, 'iterations': {'mean': nan, 'std': nan}, 'energy_rel': {'mean': 0.0007876300764178357, 'std': 0.0012884871990914333}, 'diis': {'mean': 0.04228943417783732, 'std': 0.005634772089230802}, 'rmse': {'mean': 0.008967282765809922, 'std': 0.0005198778065816581}}\n",
      "---\n",
      "{'batch_size': 32, 'data_aug_factor': 2.32843109208835, 'edge_threshold_val': 2.046848789531119, 'grace_epochs': 5, 'hidden_dim': 256, 'loss_on_full_matrix': True, 'lr': 0.0001160861493167114, 'lr_cooldown': 2, 'lr_factor': 0.5, 'lr_min': 1e-06, 'lr_patience': 3, 'lr_threshold': 0.001, 'message_net_dropout': 0.10802434241852031, 'message_net_layers': 3, 'message_passing_steps': 3, 'num_epochs': 30, 'weight_decay': 2.3506875491839735e-05}\n",
      "{'energy_abs': {'mean': 7.555137644755914, 'std': 3.2171736897810335}, 'iterations': {'mean': nan, 'std': nan}, 'energy_rel': {'mean': 0.004307724286220382, 'std': 0.0018040090750665464}, 'diis': {'mean': 0.04236078139033262, 'std': 0.004865499079077954}, 'rmse': {'mean': 0.009153909737455173, 'std': 0.000543199921715723}}\n",
      "---\n",
      "{'batch_size': 32, 'data_aug_factor': 1.6721760072480596, 'edge_threshold_val': 2.138362519085188, 'grace_epochs': 5, 'hidden_dim': 256, 'loss_on_full_matrix': True, 'lr': 0.0003537434986380686, 'lr_cooldown': 2, 'lr_factor': 0.5, 'lr_min': 1e-06, 'lr_patience': 3, 'lr_threshold': 0.001, 'message_net_dropout': 0.18338683035764203, 'message_net_layers': 3, 'message_passing_steps': 3, 'num_epochs': 30, 'weight_decay': 5.20519508587275e-05}\n",
      "{'energy_abs': {'mean': -0.9053202683372683, 'std': 3.45805911458563}, 'iterations': {'mean': nan, 'std': nan}, 'energy_rel': {'mean': -0.0005403879619368701, 'std': 0.0020000001235902457}, 'diis': {'mean': 0.04206224078502542, 'std': 0.004890877834871023}, 'rmse': {'mean': 0.00898857787344875, 'std': 0.000518701146461864}}\n",
      "---\n",
      "{'batch_size': 32, 'data_aug_factor': 2.4478465953333686, 'edge_threshold_val': 2.123530238119213, 'grace_epochs': 5, 'hidden_dim': 128, 'loss_on_full_matrix': True, 'lr': 0.0043578427488491864, 'lr_cooldown': 2, 'lr_factor': 0.5, 'lr_min': 1e-06, 'lr_patience': 3, 'lr_threshold': 0.001, 'message_net_dropout': 0.2280132325061445, 'message_net_layers': 3, 'message_passing_steps': 2, 'num_epochs': 30, 'weight_decay': 4.428045033538712e-05}\n",
      "{'energy_abs': {'mean': 0.047845676980714416, 'std': 2.168749195195893}, 'iterations': {'mean': nan, 'std': nan}, 'energy_rel': {'mean': 1.637007254324363e-05, 'std': 0.001248716169559284}, 'diis': {'mean': 0.04199835126976014, 'std': 0.0050984295312259224}, 'rmse': {'mean': 0.00885515621160421, 'std': 0.0005551723366989525}}\n",
      "---\n",
      "{'batch_size': 32, 'data_aug_factor': 1.498025802526258, 'edge_threshold_val': 2.112453109466307, 'grace_epochs': 5, 'hidden_dim': 128, 'loss_on_full_matrix': True, 'lr': 0.003967526938258375, 'lr_cooldown': 2, 'lr_factor': 0.5, 'lr_min': 1e-06, 'lr_patience': 3, 'lr_threshold': 0.001, 'message_net_dropout': 0.2946469861101187, 'message_net_layers': 5, 'message_passing_steps': 4, 'num_epochs': 30, 'weight_decay': 0.0009974817553386316}\n",
      "{'energy_abs': {'mean': 2.360379277830143, 'std': 1.115677074341046}, 'iterations': {'mean': nan, 'std': nan}, 'energy_rel': {'mean': 0.0013453649507672338, 'std': 0.0006322479097995856}, 'diis': {'mean': 0.039492107983193095, 'std': 0.0057217498035429856}, 'rmse': {'mean': 0.008788269560638108, 'std': 0.00048180154362908605}}\n",
      "---\n",
      "{'batch_size': 16, 'data_aug_factor': 2.079342170100033, 'edge_threshold_val': 3.7274047250866893, 'grace_epochs': 5, 'hidden_dim': 256, 'loss_on_full_matrix': True, 'lr': 0.0003060399576930205, 'lr_cooldown': 2, 'lr_factor': 0.5, 'lr_min': 1e-06, 'lr_patience': 3, 'lr_threshold': 0.001, 'message_net_dropout': 0.26166292795205504, 'message_net_layers': 4, 'message_passing_steps': 2, 'num_epochs': 30, 'weight_decay': 2.3544162650934927e-05}\n",
      "{'energy_abs': {'mean': 0.11298062360437598, 'std': 2.320092944326977}, 'iterations': {'mean': nan, 'std': nan}, 'energy_rel': {'mean': 5.5391810737948075e-05, 'std': 0.0013334731749014414}, 'diis': {'mean': 0.042108358622242645, 'std': 0.005116753124397928}, 'rmse': {'mean': 0.008860562553523726, 'std': 0.0005524103462896072}}\n",
      "---\n"
     ]
    }
   ],
   "source": [
    "# trials.sort(key=lambda x:x[1][\"cummulative_stats\"][\"iterations\"][\"mean\"])\n",
    "# trials.sort(key=lambda x:x[0][\"edge_threshold_val\"])#[\"iterations\"][\"mean\"])\n",
    "for trial in trials: \n",
    "    print(trial[0])\n",
    "    print(trial[1][\"cummulative_stats\"])\n",
    "    print(\"---\")"
   ]
  },
  {
   "cell_type": "code",
   "execution_count": 102,
   "id": "1a6b43fa",
   "metadata": {},
   "outputs": [
    {
     "name": "stdout",
     "output_type": "stream",
     "text": [
      "/home/etschgi1/REPOS/Masterarbeit/3_studies/Block_guessing/6-31g_testing/tune_logs/MGNN_hyp_small_full_mat_loss.py/hyperopt_train_993a0_00079_79_batch_size=32,data_aug_factor=1.9081,edge_threshold_val=2.1113,hidden_dim=256,lr=0.0003,message_net__2025-07-11_22-04-17\n",
      "/home/etschgi1/REPOS/Masterarbeit/3_studies/Block_guessing/6-31g_testing/tune_logs/MGNN_hyp_small_full_mat_loss.py/hyperopt_train_993a0_00070_70_batch_size=32,data_aug_factor=2.3284,edge_threshold_val=2.0468,hidden_dim=256,lr=0.0001,message_net__2025-07-11_20-30-26\n",
      "/home/etschgi1/REPOS/Masterarbeit/3_studies/Block_guessing/6-31g_testing/tune_logs/MGNN_hyp_small_full_mat_loss.py/hyperopt_train_993a0_00082_82_batch_size=32,data_aug_factor=1.6722,edge_threshold_val=2.1384,hidden_dim=256,lr=0.0004,message_net__2025-07-11_22-25-17\n",
      "/home/etschgi1/REPOS/Masterarbeit/3_studies/Block_guessing/6-31g_testing/tune_logs/MGNN_hyp_small_full_mat_loss.py/hyperopt_train_993a0_00009_9_batch_size=32,data_aug_factor=2.4478,edge_threshold_val=2.1235,hidden_dim=128,lr=0.0044,message_net_d_2025-07-11_12-44-42\n",
      "/home/etschgi1/REPOS/Masterarbeit/3_studies/Block_guessing/6-31g_testing/tune_logs/MGNN_hyp_small_full_mat_loss.py/hyperopt_train_993a0_00144_144_batch_size=32,data_aug_factor=1.4980,edge_threshold_val=2.1125,hidden_dim=128,lr=0.0040,message_net_2025-07-12_05-17-37\n",
      "/home/etschgi1/REPOS/Masterarbeit/3_studies/Block_guessing/6-31g_testing/tune_logs/MGNN_hyp_small_full_mat_loss.py/hyperopt_train_993a0_00016_16_batch_size=16,data_aug_factor=2.0793,edge_threshold_val=3.7274,hidden_dim=256,lr=0.0003,message_net__2025-07-11_13-31-54\n",
      "\\begin{tabular}{rlllll}\n",
      "\\toprule\n",
      "ID & Iterations & $\\Delta E_\\text{HF}$ & $\\delta E_\\text{HF}$ & DIIS error & $\\overline{\\text{RMSE}}$ \\\\\n",
      "\\midrule\n",
      "0 & nan(nan) & 1.400(2.257) & 0.0008(0.0013) & 0.042(0.0056) & 0.0090(0.0005) \\\\\n",
      "1 & nan(nan) & 7.555(3.217) & 0.0043(0.0018) & 0.042(0.0049) & 0.0092(0.0005) \\\\\n",
      "2 & nan(nan) & -0.905(3.458) & -0.0005(0.0020) & 0.042(0.0049) & 0.0090(0.0005) \\\\\n",
      "3 & nan(nan) & 0.048(2.169) & 0.0000(0.0012) & 0.042(0.0051) & 0.0089(0.0006) \\\\\n",
      "4 & nan(nan) & 2.360(1.116) & 0.0013(0.0006) & 0.039(0.0057) & 0.0088(0.0005) \\\\\n",
      "5 & nan(nan) & 0.113(2.320) & 0.0001(0.0013) & 0.042(0.0051) & 0.0089(0.0006) \\\\\n",
      "\\bottomrule\n",
      "\\end{tabular}\n",
      "\n"
     ]
    }
   ],
   "source": [
    "table_data = []\n",
    "Hartree_conv = 1000 # mH\n",
    "for i, (params, metrics, path) in enumerate(trials):\n",
    "    metrics = metrics[\"cummulative_stats\"]\n",
    "    row = {\n",
    "        'ID': i,\n",
    "        'Iterations': f\"{float(metrics['iterations']['mean']):.1f}({float(metrics['iterations']['std']):.1f})\",\n",
    "        r\"$\\Delta E_\\text{HF}$\": f\"{float(metrics['energy_abs']['mean']):.3f}({float(metrics['energy_abs']['std']):.3f})\",\n",
    "        r\"$\\delta E_\\text{HF}$\": f\"{float(metrics['energy_rel']['mean']):.4f}({float(metrics['energy_rel']['std']):.4f})\",\n",
    "        'DIIS error': f\"{float(metrics['diis']['mean']):.3f}({float(metrics['diis']['std']):.4f})\",\n",
    "        r\"$\\overline{\\text{RMSE}}$\": f\"{float(metrics['rmse']['mean']):.4f}({float(metrics['rmse']['std']):.4f})\"\n",
    "    }\n",
    "    table_data.append(row)\n",
    "    print(path)\n",
    "import pandas as pd\n",
    "df = pd.DataFrame(table_data)\n",
    "\n",
    "latex = df.to_latex(index=False)\n",
    "print(latex)"
   ]
  },
  {
   "cell_type": "code",
   "execution_count": 103,
   "id": "24d5632f",
   "metadata": {},
   "outputs": [
    {
     "name": "stdout",
     "output_type": "stream",
     "text": [
      "\\begin{tabular}{lllllll}\n",
      "\\toprule\n",
      " & 0 & 1 & 2 & 3 & 4 & 5 \\\\\n",
      "\\midrule\n",
      "Parameter & 0 & 1 & 2 & 3 & 4 & 5 \\\\\n",
      "Hidden Dimension & 256 & 256 & 256 & 128 & 128 & 256 \\\\\n",
      "Batch Size & 32 & 32 & 32 & 32 & 32 & 16 \\\\\n",
      "Data aug. & 1.91 & 2.33 & 1.67 & 2.45 & 1.50 & 2.08 \\\\\n",
      "Edge thres. & 2.11 & 2.05 & 2.14 & 2.12 & 2.11 & 3.73 \\\\\n",
      "Message p. steps & 3 & 3 & 3 & 2 & 4 & 2 \\\\\n",
      "Message Net Dropout & 0.22 & 0.11 & 0.18 & 0.23 & 0.29 & 0.26 \\\\\n",
      "Message Net Layers & 5 & 3 & 3 & 3 & 5 & 4 \\\\\n",
      "Learn Rate & 2.61e-04 & 1.16e-04 & 3.54e-04 & 4.36e-03 & 3.97e-03 & 3.06e-04 \\\\\n",
      "Weight Decay & 2.97e-04 & 2.35e-05 & 5.21e-05 & 4.43e-05 & 9.97e-04 & 2.35e-05 \\\\\n",
      "\\bottomrule\n",
      "\\end{tabular}\n",
      "\n"
     ]
    }
   ],
   "source": [
    "table_data = []\n",
    "for i, (params, metrics, path) in enumerate(trials):\n",
    "    metrics = metrics[\"cummulative_stats\"]\n",
    "    row = {\n",
    "        'Parameter': int(i),\n",
    "        'Hidden Dimension': int(params[\"hidden_dim\"]),\n",
    "        'Batch Size': int(params[\"batch_size\"]),\n",
    "        \"Data aug.\": f'{float(params[\"data_aug_factor\"]):.2f}',\n",
    "        \"Edge thres.\": f'{float(params[\"edge_threshold_val\"]):.2f}',\n",
    "        \"Message p. steps\": int(params[\"message_passing_steps\"]),\n",
    "        \"Message Net Dropout\": f'{float(params[\"message_net_dropout\"]):.2f}',\n",
    "        \"Message Net Layers\": int(params[\"message_net_layers\"]),\n",
    "        \"Learn Rate\": f'{float(params[\"lr\"]):.2e}',\n",
    "        \"Weight Decay\": f'{float(params[\"weight_decay\"]):.2e}',\n",
    "    }\n",
    "    table_data.append(row)\n",
    "\n",
    "import pandas as pd\n",
    "df = pd.DataFrame(table_data).T\n",
    "\n",
    "\n",
    "latex = df.to_latex(index=True)\n",
    "print(latex)"
   ]
  }
 ],
 "metadata": {
  "kernelspec": {
   "display_name": "scf_guess_1_0",
   "language": "python",
   "name": "python3"
  },
  "language_info": {
   "codemirror_mode": {
    "name": "ipython",
    "version": 3
   },
   "file_extension": ".py",
   "mimetype": "text/x-python",
   "name": "python",
   "nbconvert_exporter": "python",
   "pygments_lexer": "ipython3",
   "version": "3.11.11"
  }
 },
 "nbformat": 4,
 "nbformat_minor": 5
}
