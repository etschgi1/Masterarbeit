{
 "cells": [
  {
   "cell_type": "markdown",
   "id": "a864c072",
   "metadata": {},
   "source": [
    "# Comparison of Minao vs MLP model 3.5 (chap)"
   ]
  },
  {
   "cell_type": "code",
   "execution_count": 2,
   "id": "27120bd2",
   "metadata": {},
   "outputs": [],
   "source": [
    "import os, sys\n",
    "import pickle\n",
    "from scf_guess_tools import  Backend, load, calculate, guess\n",
    "import numpy as np\n",
    "import matplotlib.pyplot as plt\n",
    "import tensorflow as tf\n",
    "from keras.callbacks import TensorBoard, EarlyStopping\n",
    "from keras.utils import Sequence\n",
    "import keras_tuner as kt\n",
    "import datetime\n",
    "import random, math\n",
    "import numpy as np\n",
    "from pyscf import scf\n",
    "from pyscf.lib.linalg_helper import eigh"
   ]
  },
  {
   "cell_type": "code",
   "execution_count": null,
   "id": "85771fcd",
   "metadata": {},
   "outputs": [],
   "source": []
  }
 ],
 "metadata": {
  "kernelspec": {
   "display_name": "scf_guess_1_0",
   "language": "python",
   "name": "python3"
  },
  "language_info": {
   "codemirror_mode": {
    "name": "ipython",
    "version": 3
   },
   "file_extension": ".py",
   "mimetype": "text/x-python",
   "name": "python",
   "nbconvert_exporter": "python",
   "pygments_lexer": "ipython3",
   "version": "3.11.11"
  }
 },
 "nbformat": 4,
 "nbformat_minor": 5
}
