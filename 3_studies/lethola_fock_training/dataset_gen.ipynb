{
 "cells": [
  {
   "cell_type": "markdown",
   "metadata": {},
   "source": [
    "# Train using Fock Matrix\n",
    "We use all Lethola Geometries and train only using RMSE on Fock matrix"
   ]
  },
  {
   "cell_type": "code",
   "execution_count": 22,
   "metadata": {},
   "outputs": [],
   "source": [
    "import os, glob, sys\n",
    "scripts_path = \"../../scripts\"\n",
    "if scripts_path not in sys.path:\n",
    "    sys.path.append(scripts_path)\n",
    "\n",
    "from to_cache import density_fock_overlap\n",
    "\n",
    "\n",
    "geometry_paths = \"../../datasets/lethola/all_geometries\""
   ]
  },
  {
   "cell_type": "code",
   "execution_count": 23,
   "metadata": {},
   "outputs": [
    {
     "name": "stdout",
     "output_type": "stream",
     "text": [
      "Found 261 .xyz files.\n"
     ]
    }
   ],
   "source": [
    "def load_xyz_files(path):\n",
    "    xyz_files = glob.glob(os.path.join(path, \"*.xyz\"))\n",
    "    return xyz_files\n",
    "\n",
    "def clear_cache(path=\"../../datasets/lethola/cache\"):\n",
    "    import shutil\n",
    "    if os.path.exists(path):\n",
    "        shutil.rmtree(path)\n",
    "        print(f\"Cache at {path} cleared.\")\n",
    "    else:\n",
    "        print(f\"No cache found at {path}.\")\n",
    "\n",
    "xyz_files = load_xyz_files(geometry_paths)\n",
    "print(f\"Found {len(xyz_files)} .xyz files.\")"
   ]
  },
  {
   "cell_type": "code",
   "execution_count": 25,
   "metadata": {},
   "outputs": [
    {
     "name": "stdout",
     "output_type": "stream",
     "text": [
      "Cache at ../../datasets/lethola/cache cleared.\n",
      "Loaded mol from ../../datasets/lethola/all_geometries/alh.xyz\n",
      "Loading custom basis from /home/etschgi1/REPOS/Masterarbeit/scripts/6-31g_2df_p_custom_nwchem.gbs\n",
      "\n",
      "WARN: Singularity detected in overlap matrix (condition number = 2.13e+19). SCF may be inaccurate and hard to converge.\n",
      "\n"
     ]
    },
    {
     "name": "stdout",
     "output_type": "stream",
     "text": [
      "Failed to calculate ../../datasets/lethola/all_geometries/alh.xyz\n",
      "Matrix is singular.\n"
     ]
    },
    {
     "name": "stderr",
     "output_type": "stream",
     "text": [
      "/home/etschgi1/miniconda3/envs/scf_guess_1_0/lib/python3.11/site-packages/pyscf/lib/linalg_helper.py:1405: UserWarning: /home/etschgi1/miniconda3/envs/scf_guess_1_0/lib/python3.11/site-packages/pyscf/scf/addons.py:581: matrix a is not strictly positive definite\n",
      "  warnings.warn('%s:%s: matrix a is not strictly positive definite' %\n"
     ]
    }
   ],
   "source": [
    "# test\n",
    "test_file = xyz_files[9]\n",
    "clear_cache()\n",
    "ret = density_fock_overlap(test_file, \"alh.xyz\",\"dft\", basis = \"/home/etschgi1/REPOS/Masterarbeit/scripts/6-31g_2df_p_custom_nwchem.gbs\", \n",
    "                         functional = \"b3lypg\", cache=\"../../datasets/lethola/cache\")\n"
   ]
  }
 ],
 "metadata": {
  "kernelspec": {
   "display_name": "scf_guess_1_0",
   "language": "python",
   "name": "python3"
  },
  "language_info": {
   "codemirror_mode": {
    "name": "ipython",
    "version": 3
   },
   "file_extension": ".py",
   "mimetype": "text/x-python",
   "name": "python",
   "nbconvert_exporter": "python",
   "pygments_lexer": "ipython3",
   "version": "3.11.11"
  }
 },
 "nbformat": 4,
 "nbformat_minor": 2
}
