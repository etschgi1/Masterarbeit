{
 "cells": [
  {
   "cell_type": "code",
   "execution_count": 1,
   "id": "4ac14ba4",
   "metadata": {},
   "outputs": [
    {
     "name": "stdout",
     "output_type": "stream",
     "text": [
      "Project root directory: /home/ewachmann/REPOS/Masterarbeit\n"
     ]
    }
   ],
   "source": [
    "import sys\n",
    "import numpy as np\n",
    "sys.path.append('../src/')\n",
    "from scf_guess_datasets import Qm9Isomeres\n",
    "import matplotlib.pyplot as plt\n",
    "from utils import find_repo_root\n",
    "project_root_dir = find_repo_root()\n",
    "print(\"Project root directory:\", project_root_dir)"
   ]
  },
  {
   "cell_type": "code",
   "execution_count": 2,
   "id": "bbb6cb1a",
   "metadata": {},
   "outputs": [],
   "source": [
    "dataset = Qm9Isomeres(\n",
    "    \"/home/dmilacher/datasets/data\", \n",
    "    size = 500, # number of molecules to load\n",
    "    val=0.1, # using 80% training / 10 % val / 10% test split\n",
    "    test=0.1,\n",
    ")"
   ]
  },
  {
   "cell_type": "markdown",
   "id": "6e5fc92a",
   "metadata": {},
   "source": [
    "# Second order with various methods"
   ]
  },
  {
   "cell_type": "code",
   "execution_count": null,
   "id": "c82bec42",
   "metadata": {},
   "outputs": [],
   "source": []
  }
 ],
 "metadata": {
  "kernelspec": {
   "display_name": "Python (scf_tools_311)",
   "language": "python",
   "name": "scf_tools_311"
  },
  "language_info": {
   "codemirror_mode": {
    "name": "ipython",
    "version": 3
   },
   "file_extension": ".py",
   "mimetype": "text/x-python",
   "name": "python",
   "nbconvert_exporter": "python",
   "pygments_lexer": "ipython3",
   "version": "3.11.13"
  }
 },
 "nbformat": 4,
 "nbformat_minor": 5
}
