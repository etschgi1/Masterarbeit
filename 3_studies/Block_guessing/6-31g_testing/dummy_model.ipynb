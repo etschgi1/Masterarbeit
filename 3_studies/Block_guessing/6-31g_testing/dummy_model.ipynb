{
 "cells": [
  {
   "cell_type": "markdown",
   "id": "1811ba19",
   "metadata": {},
   "source": [
    "# Dummy avg model!"
   ]
  },
  {
   "cell_type": "markdown",
   "id": "29ceb2b4",
   "metadata": {},
   "source": [
    "This model just takes the average of the train density as a guess for the test-set"
   ]
  },
  {
   "cell_type": "code",
   "execution_count": null,
   "id": "8ffb51ba",
   "metadata": {},
   "outputs": [
    {
     "name": "stdout",
     "output_type": "stream",
     "text": [
      "Project root directory: /home/ewachmann/REPOS/Masterarbeit\n"
     ]
    }
   ],
   "source": [
    "import sys\n",
    "import numpy as np\n",
    "sys.path.append('../src/')\n",
    "from scf_guess_datasets import Qm9Isomeres\n",
    "import matplotlib.pyplot as plt\n",
    "from utils import find_repo_root\n",
    "project_root_dir = find_repo_root()\n",
    "print(\"Project root directory:\", project_root_dir)"
   ]
  },
  {
   "cell_type": "code",
   "execution_count": 72,
   "id": "e43f7692",
   "metadata": {},
   "outputs": [],
   "source": [
    "dataset = Qm9Isomeres(\n",
    "    \"/home/dmilacher/datasets/data\", \n",
    "    size = 500, # number of molecules to load\n",
    "    split_ratio=0.8, # using 80% training / 10 % val / 10% test split\n",
    ")"
   ]
  },
  {
   "cell_type": "code",
   "execution_count": 73,
   "id": "2111b052",
   "metadata": {},
   "outputs": [
    {
     "name": "stdout",
     "output_type": "stream",
     "text": [
      "1e: 18.80 +- 1.82 iterations\n",
      "vsap: 14.18 +- 0.93 iterations\n",
      "sap: 16.56 +- 1.90 iterations\n",
      "minao: 10.76 +- 0.59 iterations\n"
     ]
    }
   ],
   "source": [
    "# obtain guess iteration performance on test set\n",
    "scheme_iterations = {dataset.schemes[i]: [] for i in range(len(dataset.schemes))}\n",
    "for key in dataset.val_keys[len(dataset.val_keys)//2:]: #! only use half of the validation set -> which is the test set used by the model!\n",
    "    for scheme, sample in dataset.guesses(key).items():\n",
    "        scheme_iterations[scheme].append(sample.status.iterations)\n",
    "for scheme, iterations in scheme_iterations.items():\n",
    "    print(f\"{scheme}: {np.mean(iterations):.2f} +- {np.std(iterations):.2f} iterations\")\n"
   ]
  },
  {
   "cell_type": "markdown",
   "id": "6665ce3e",
   "metadata": {},
   "source": [
    "# Mean density guess"
   ]
  },
  {
   "cell_type": "code",
   "execution_count": 9,
   "id": "5c9c1fcf",
   "metadata": {},
   "outputs": [],
   "source": [
    "from uncertainties import ufloat\n",
    "import scf_guess_datasets, pickle"
   ]
  },
  {
   "cell_type": "code",
   "execution_count": 77,
   "id": "2aa8a573",
   "metadata": {},
   "outputs": [],
   "source": [
    "# now 0-D guess!\n",
    "densities = []\n",
    "for key in dataset.train_keys: \n",
    "    sample = dataset.solution(key)\n",
    "    densities.append(sample.density)\n",
    "densities = np.array(densities)\n",
    "mean_density = np.mean(densities, axis=0)\n",
    "iterations = []"
   ]
  },
  {
   "cell_type": "code",
   "execution_count": null,
   "id": "027f3ed1",
   "metadata": {},
   "outputs": [
    {
     "name": "stdout",
     "output_type": "stream",
     "text": [
      "Sample 0: Cycles with 0D guess: 19\n",
      "Sample 1: Cycles with 0D guess: 17\n",
      "Sample 2: Cycles with 0D guess: 18\n",
      "Sample 3: Cycles with 0D guess: 16\n",
      "Sample 4: Cycles with 0D guess: 17\n",
      "Sample 5: Cycles with 0D guess: 17\n",
      "Sample 6: Cycles with 0D guess: 21\n",
      "Sample 7: Cycles with 0D guess: 17\n",
      "Sample 8: Cycles with 0D guess: 16\n",
      "Sample 9: Cycles with 0D guess: 20\n",
      "Sample 10: Cycles with 0D guess: 17\n",
      "Sample 11: Cycles with 0D guess: 16\n",
      "Sample 12: Cycles with 0D guess: 17\n",
      "Sample 13: Cycles with 0D guess: 16\n",
      "Sample 14: Cycles with 0D guess: 17\n",
      "Sample 15: Cycles with 0D guess: 16\n",
      "Sample 16: Cycles with 0D guess: 16\n",
      "Sample 17: Cycles with 0D guess: 16\n",
      "Sample 18: Cycles with 0D guess: 15\n",
      "Sample 19: Cycles with 0D guess: 18\n",
      "Sample 20: Cycles with 0D guess: 17\n",
      "Sample 21: Cycles with 0D guess: 19\n",
      "Sample 22: Cycles with 0D guess: 17\n",
      "Sample 23: Cycles with 0D guess: 16\n",
      "Sample 24: Cycles with 0D guess: 18\n",
      "Sample 25: Cycles with 0D guess: 17\n",
      "Sample 26: Cycles with 0D guess: 17\n",
      "Sample 27: Cycles with 0D guess: 16\n",
      "Sample 28: Cycles with 0D guess: 17\n",
      "Sample 29: Cycles with 0D guess: 16\n",
      "Sample 30: Cycles with 0D guess: 21\n",
      "Sample 31: Cycles with 0D guess: 17\n",
      "Sample 32: Cycles with 0D guess: 18\n",
      "Sample 33: Cycles with 0D guess: 20\n",
      "Sample 34: Cycles with 0D guess: 20\n",
      "Sample 35: Cycles with 0D guess: 17\n",
      "Sample 36: Cycles with 0D guess: 18\n",
      "Sample 37: Cycles with 0D guess: 16\n",
      "Sample 38: Cycles with 0D guess: 18\n",
      "Sample 39: Cycles with 0D guess: 16\n",
      "Sample 40: Cycles with 0D guess: 18\n",
      "Sample 41: Cycles with 0D guess: 16\n",
      "Sample 42: Cycles with 0D guess: 17\n",
      "Sample 43: Cycles with 0D guess: 16\n",
      "Sample 44: Cycles with 0D guess: 17\n",
      "Sample 45: Cycles with 0D guess: 16\n",
      "Sample 46: Cycles with 0D guess: 16\n",
      "Sample 47: Cycles with 0D guess: 14\n",
      "Sample 48: Cycles with 0D guess: 16\n",
      "Sample 49: Cycles with 0D guess: 16\n"
     ]
    }
   ],
   "source": [
    "rerun = False\n",
    "if rerun == True:\n",
    "    test_keys = dataset.val_keys[len(dataset.val_keys)//2:]\n",
    "    for i, key in enumerate(test_keys):\n",
    "        solver = dataset.solver(test_keys[i])\n",
    "        overlap, hcore, density, fock, status = scf_guess_datasets.solve(solver, mean_density.astype(np.float64))\n",
    "        iterations.append(status.iterations)\n",
    "        print(f\"Sample {i}: Cycles with 0D guess: {status.iterations}\")\n",
    "    mean_own = np.mean(iterations)\n",
    "    std_own = np.std(iterations)\n",
    "    iter_own = ufloat(mean_own, std_own)\n",
    "    print(f\"Average iterations with own guess: {iter_own:.2f}\")\n",
    "    import pickle\n",
    "    with open(f\"{project_root_dir}/3_studies/Block_guessing/models/0D_cycles.pkl\", \"wb\") as f:\n",
    "        pickle.dump(iterations, f)"
   ]
  },
  {
   "cell_type": "code",
   "execution_count": 13,
   "id": "1e9f1ba7",
   "metadata": {},
   "outputs": [],
   "source": [
    "with open(f\"{project_root_dir}/3_studies/Block_guessing/models/0D_cycles.pkl\", \"rb\") as f:\n",
    "    iterations = pickle.load(f)\n",
    "mean_own = np.mean(iterations)\n",
    "std_own = np.std(iterations)\n",
    "iter_own = ufloat(mean_own, std_own)\n",
    "scheme_iterations[\"0D\"] = iterations"
   ]
  },
  {
   "cell_type": "code",
   "execution_count": 16,
   "id": "69f1e8c3",
   "metadata": {},
   "outputs": [],
   "source": [
    "# reorder dict according to mean\n",
    "scheme_iterations = {k: v for k, v in sorted(scheme_iterations.items(), key=lambda item: np.mean(item[1]))}"
   ]
  },
  {
   "cell_type": "code",
   "execution_count": 17,
   "id": "164efd0f",
   "metadata": {},
   "outputs": [
    {
     "data": {
      "text/plain": [
       "<matplotlib.legend.Legend at 0x7ee63414f150>"
      ]
     },
     "execution_count": 17,
     "metadata": {},
     "output_type": "execute_result"
    },
    {
     "data": {
      "image/png": "[encoded data removed]",
      "text/plain": [
       "<Figure size 640x480 with 1 Axes>"
      ]
     },
     "metadata": {},
     "output_type": "display_data"
    }
   ],
   "source": [
    "for i, (scheme, iterations) in enumerate(scheme_iterations.items()):\n",
    "    color = plt.scatter(iterations, [scheme]*len(iterations), label=scheme, alpha=0.5).get_facecolor()[0]\n",
    "    plt.vlines(np.mean(iterations), ymin=-0.5, ymax=i, colors=[color], linestyles='dashed')\n",
    "plt.ylim(-0.5, len(scheme_iterations) - 0.5)\n",
    "plt.xticks(np.arange(10,max([max(iterations) for iterations in scheme_iterations.values()]) + 1, 1))\n",
    "plt.ylabel('Guess Scheme')\n",
    "plt.title('Distribution of Iterations per Scheme')\n",
    "plt.legend()"
   ]
  }
 ],
 "metadata": {
  "kernelspec": {
   "display_name": "Python (scf_tools_311)",
   "language": "python",
   "name": "scf_tools_311"
  },
  "language_info": {
   "codemirror_mode": {
    "name": "ipython",
    "version": 3
   },
   "file_extension": ".py",
   "mimetype": "text/x-python",
   "name": "python",
   "nbconvert_exporter": "python",
   "pygments_lexer": "ipython3",
   "version": "3.11.13"
  }
 },
 "nbformat": 4,
 "nbformat_minor": 5
}
