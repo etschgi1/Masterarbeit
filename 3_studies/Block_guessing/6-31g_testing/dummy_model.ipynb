{
 "cells": [
  {
   "cell_type": "markdown",
   "id": "1811ba19",
   "metadata": {},
   "source": [
    "# Dummy avg model!"
   ]
  },
  {
   "cell_type": "markdown",
   "id": "29ceb2b4",
   "metadata": {},
   "source": [
    "This model just takes the average of the train density as a guess for the test-set"
   ]
  },
  {
   "cell_type": "code",
   "execution_count": 9,
   "id": "8ffb51ba",
   "metadata": {},
   "outputs": [
    {
     "name": "stdout",
     "output_type": "stream",
     "text": [
      "Project root directory: /home/ewachmann/REPOS/Masterarbeit\n"
     ]
    }
   ],
   "source": [
    "import sys, os, json\n",
    "from scf_guess_tools import Backend\n",
    "import numpy as np\n",
    "sys.path.append('../src/')\n",
    "from scf_guess_datasets import Qm9Isomeres\n",
    "import matplotlib.pyplot as plt\n",
    "from uncertainties import ufloat\n",
    "import scf_guess_datasets, pickle\n",
    "from utils import find_repo_root\n",
    "project_root_dir = find_repo_root()\n",
    "print(\"Project root directory:\", project_root_dir)\n",
    "\n",
    "BASIS_PATH = os.path.join(project_root_dir, \"scripts/6-31g_2df_p_custom_nwchem.gbs\")"
   ]
  },
  {
   "cell_type": "code",
   "execution_count": 5,
   "id": "e43f7692",
   "metadata": {},
   "outputs": [],
   "source": [
    "dataset = Qm9Isomeres(\n",
    "    \"/home/dmilacher/datasets/data\", \n",
    "    size = 500, # number of molecules to load\n",
    "    val=0.1, # using 80% training / 10 % val / 10% test split\n",
    "    test=0.1,\n",
    ")"
   ]
  },
  {
   "cell_type": "code",
   "execution_count": 6,
   "id": "f0f85208",
   "metadata": {},
   "outputs": [
    {
     "name": "stdout",
     "output_type": "stream",
     "text": [
      "Setting verbose level to: 2\n",
      "Loading 500 files from qm9_isomeres...\n",
      "Loading 400 files for train set from /home/ewachmann/REPOS/Masterarbeit/scf_guess_datasets/scf_guess_datasets/qm9_isomeres/xyz...\n",
      "Loading 50 files for val set from /home/ewachmann/REPOS/Masterarbeit/scf_guess_datasets/scf_guess_datasets/qm9_isomeres/xyz...\n",
      "Loading 50 files for test set from /home/ewachmann/REPOS/Masterarbeit/scf_guess_datasets/scf_guess_datasets/qm9_isomeres/xyz...\n"
     ]
    },
    {
     "name": "stderr",
     "output_type": "stream",
     "text": [
      "Creating training graphs: 400it [00:02, 151.67it/s]\n",
      "Creating validation graphs: 50it [00:00, 172.15it/s]\n",
      "Creating test graphs: 50it [00:00, 94.18it/s] \n"
     ]
    },
    {
     "name": "stdout",
     "output_type": "stream",
     "text": [
      "Total samples: 500, Train: 400, Val: 50, Test: 50\n",
      "Found 3 center keys (['C', 'H', 'O']) and 6 edge keys (['C_C', 'C_H', 'C_O', 'H_H', 'H_O', 'O_O']) in the training set. -> Totaling 9 unique encoder/decoder.\n",
      "Normalization factors computed and applied.\n",
      "Center stats: {'C': (0.08893045239638739, 0.2721039375810204), 'H': (0.3772194703420003, 0.4689655636092979), 'O': (0.08820201116919178, 0.2707920626400333)}, Edge stats: {'C_C': (0.0011760330437032402, 0.06722017499561404), 'C_H': (0.006002088116921686, 0.08899061742111722), 'C_O': (0.0006347355153139232, 0.05741605368722725), 'H_H': (0.014465763551363572, 0.05865220878540266), 'H_O': (0.0024979208887975805, 0.05124095921518987), 'O_O': (-0.000207575137635023, 0.02002456199551411)}\n",
      "First train batch: 304 atoms, 2628 edges, 304 center blocks.\n",
      "Found center block size 351 for atom type O.\n",
      "Found center block size 351 for atom type C.\n",
      "Found center block size 15 for atom type H.\n",
      "Found edge block size 676 for edge type C_O.\n",
      "Found edge block size 676 for edge type O_O.\n",
      "Found edge block size 130 for edge type H_O.\n",
      "Found edge block size 676 for edge type C_C.\n",
      "Found edge block size 130 for edge type C_H.\n",
      "Found edge block size 25 for edge type H_H.\n",
      "Message net: MessageNet(\n",
      "  (net): Sequential(\n",
      "    (0): Linear(in_features=768, out_features=256, bias=True)\n",
      "    (1): GELU(approximate='none')\n",
      "    (2): Dropout(p=0.15, inplace=False)\n",
      "    (3): Linear(in_features=256, out_features=256, bias=True)\n",
      "    (4): GELU(approximate='none')\n",
      "    (5): Dropout(p=0.15, inplace=False)\n",
      "    (6): Linear(in_features=256, out_features=256, bias=True)\n",
      "    (7): GELU(approximate='none')\n",
      "  )\n",
      ")\n",
      "---\n",
      "Model setup (encoders / decoders message net) complete!\n",
      "Total encoders / decoders / updaters: 21, Node: 3 (['C', 'H', 'O'] - atom types) * 3 (enc, dec, update), Edge: 6 (['C_C', 'C_H', 'C_O', 'H_H', 'H_O', 'O_O'] - overlap types) * 2 (enc, dec).\n",
      "Loaded weights from /home/ewachmann/REPOS/Masterarbeit/3_studies/Block_guessing/models/MGNN_6-31G_NO_AUG_07_07_manual_ref.pth (strict=True)\n"
     ]
    }
   ],
   "source": [
    "from mgnn.MolGraphNetwork import MolGraphNetwork\n",
    "\n",
    "MGNN = MolGraphNetwork(dataset=dataset,\n",
    "                       basis=BASIS_PATH,\n",
    "                       backend=Backend.PY,\n",
    "                       batch_size=16,\n",
    "                       hidden_dim=256,\n",
    "                       message_passing_steps=4,\n",
    "                       edge_threshold_val=3,\n",
    "                       message_net_layers=3,\n",
    "                       message_net_dropout=0.15,\n",
    "                       target=\"density\",\n",
    "                       data_aug_factor=1,\n",
    "                       verbose_level=2)\n",
    "MGNN.load_data()\n",
    "MGNN.load_model(f\"{project_root_dir}/3_studies/Block_guessing/models/MGNN_6-31G_NO_AUG_07_07_manual_ref.pth\")"
   ]
  },
  {
   "cell_type": "code",
   "execution_count": null,
   "id": "feefcb00",
   "metadata": {},
   "outputs": [],
   "source": [
    "# iterations for GNN initial\n",
    "test_graphs = MGNN.get_graphs(\"test\")\n",
    "density_preds = MGNN.predict(test_graphs, include_target=False, transform_to_density=True)\n",
    "# GNN guess\n",
    "gnn_iterations = []\n",
    "for i, key in enumerate(dataset.test_keys):\n",
    "        solver = dataset.solver(key)\n",
    "        overlap, hcore, density, fock, status = scf_guess_datasets.solve(solver, density_preds[i].astype(np.float64))\n",
    "        gnn_iterations.append(status.iterations)\n",
    "        print(f\"Sample {i}: Cycles with GNN guess: {status.iterations}\")\n",
    "        with open(os.path.join(MGNN.save_path, f\"gnn_iterations.json\"), \"wb\") as f:\n",
    "                json.dump(gnn_iterations, f, indent=4)"
   ]
  },
  {
   "cell_type": "code",
   "execution_count": 3,
   "id": "2111b052",
   "metadata": {},
   "outputs": [
    {
     "name": "stdout",
     "output_type": "stream",
     "text": [
      "1e: 18.80 +- 1.82 iterations\n",
      "vsap: 14.18 +- 0.93 iterations\n",
      "sap: 16.56 +- 1.90 iterations\n",
      "minao: 10.76 +- 0.59 iterations\n"
     ]
    }
   ],
   "source": [
    "# obtain guess iteration performance on test set\n",
    "try:\n",
    "    scheme_iterations = {dataset.schemes[i]: [] for i in range(len(dataset.schemes))}\n",
    "    for key in dataset.test_keys: #! only use half of the validation set -> which is the test set used by the model!\n",
    "        for scheme, sample in dataset.guesses(key).items():\n",
    "            scheme_iterations[scheme].append(sample.status.iterations)\n",
    "    for scheme, iterations in scheme_iterations.items():\n",
    "        print(f\"{scheme}: {np.mean(iterations):.2f} +- {np.std(iterations):.2f} iterations\")\n",
    "except FileNotFoundError: \n",
    "    import pickle\n",
    "    with open(f\"{project_root_dir}/3_studies/Block_guessing/models/guessing_iterations.pkl\", \"rb\") as f:\n",
    "        scheme_iterations = pickle.load(f)\n"
   ]
  },
  {
   "cell_type": "markdown",
   "id": "6665ce3e",
   "metadata": {},
   "source": [
    "# Mean density guess"
   ]
  },
  {
   "cell_type": "code",
   "execution_count": 7,
   "id": "2aa8a573",
   "metadata": {},
   "outputs": [
    {
     "ename": "FileNotFoundError",
     "evalue": "[Errno 2] No such file or directory: '/home/dmilacher/datasets/data/qm9_isomeres/keys.pkl'",
     "output_type": "error",
     "traceback": [
      "\u001b[0;31m---------------------------------------------------------------------------\u001b[0m",
      "\u001b[0;31mFileNotFoundError\u001b[0m                         Traceback (most recent call last)",
      "Cell \u001b[0;32mIn[7], line 3\u001b[0m\n\u001b[1;32m      1\u001b[0m \u001b[38;5;66;03m# now 0-D guess!\u001b[39;00m\n\u001b[1;32m      2\u001b[0m densities \u001b[38;5;241m=\u001b[39m []\n\u001b[0;32m----> 3\u001b[0m \u001b[38;5;28;01mfor\u001b[39;00m key \u001b[38;5;129;01min\u001b[39;00m dataset\u001b[38;5;241m.\u001b[39mtrain_keys: \n\u001b[1;32m      4\u001b[0m     sample \u001b[38;5;241m=\u001b[39m dataset\u001b[38;5;241m.\u001b[39msolution(key)\n\u001b[1;32m      5\u001b[0m     densities\u001b[38;5;241m.\u001b[39mappend(sample\u001b[38;5;241m.\u001b[39mdensity)\n",
      "File \u001b[0;32m~/miniconda3/envs/scf_guess_1_0/lib/python3.11/functools.py:1001\u001b[0m, in \u001b[0;36mcached_property.__get__\u001b[0;34m(self, instance, owner)\u001b[0m\n\u001b[1;32m    999\u001b[0m val \u001b[38;5;241m=\u001b[39m cache\u001b[38;5;241m.\u001b[39mget(\u001b[38;5;28mself\u001b[39m\u001b[38;5;241m.\u001b[39mattrname, _NOT_FOUND)\n\u001b[1;32m   1000\u001b[0m \u001b[38;5;28;01mif\u001b[39;00m val \u001b[38;5;129;01mis\u001b[39;00m _NOT_FOUND:\n\u001b[0;32m-> 1001\u001b[0m     val \u001b[38;5;241m=\u001b[39m \u001b[38;5;28mself\u001b[39m\u001b[38;5;241m.\u001b[39mfunc(instance)\n\u001b[1;32m   1002\u001b[0m     \u001b[38;5;28;01mtry\u001b[39;00m:\n\u001b[1;32m   1003\u001b[0m         cache[\u001b[38;5;28mself\u001b[39m\u001b[38;5;241m.\u001b[39mattrname] \u001b[38;5;241m=\u001b[39m val\n",
      "File \u001b[0;32m~/REPOS/Masterarbeit/scf_guess_datasets/scf_guess_datasets/dataset.py:57\u001b[0m, in \u001b[0;36mDataset.train_keys\u001b[0;34m(self)\u001b[0m\n\u001b[1;32m     55\u001b[0m \u001b[38;5;129m@cached_property\u001b[39m\n\u001b[1;32m     56\u001b[0m \u001b[38;5;28;01mdef\u001b[39;00m \u001b[38;5;21mtrain_keys\u001b[39m(\u001b[38;5;28mself\u001b[39m) \u001b[38;5;241m-\u001b[39m\u001b[38;5;241m>\u001b[39m \u001b[38;5;28mlist\u001b[39m[\u001b[38;5;28mint\u001b[39m]:\n\u001b[0;32m---> 57\u001b[0m     \u001b[38;5;28;01mreturn\u001b[39;00m \u001b[38;5;28mself\u001b[39m\u001b[38;5;241m.\u001b[39mkeys[: floor(\u001b[38;5;28mself\u001b[39m\u001b[38;5;241m.\u001b[39msize \u001b[38;5;241m*\u001b[39m \u001b[38;5;28mself\u001b[39m\u001b[38;5;241m.\u001b[39msplit_ratio)]\n",
      "File \u001b[0;32m~/miniconda3/envs/scf_guess_1_0/lib/python3.11/functools.py:1001\u001b[0m, in \u001b[0;36mcached_property.__get__\u001b[0;34m(self, instance, owner)\u001b[0m\n\u001b[1;32m    999\u001b[0m val \u001b[38;5;241m=\u001b[39m cache\u001b[38;5;241m.\u001b[39mget(\u001b[38;5;28mself\u001b[39m\u001b[38;5;241m.\u001b[39mattrname, _NOT_FOUND)\n\u001b[1;32m   1000\u001b[0m \u001b[38;5;28;01mif\u001b[39;00m val \u001b[38;5;129;01mis\u001b[39;00m _NOT_FOUND:\n\u001b[0;32m-> 1001\u001b[0m     val \u001b[38;5;241m=\u001b[39m \u001b[38;5;28mself\u001b[39m\u001b[38;5;241m.\u001b[39mfunc(instance)\n\u001b[1;32m   1002\u001b[0m     \u001b[38;5;28;01mtry\u001b[39;00m:\n\u001b[1;32m   1003\u001b[0m         cache[\u001b[38;5;28mself\u001b[39m\u001b[38;5;241m.\u001b[39mattrname] \u001b[38;5;241m=\u001b[39m val\n",
      "File \u001b[0;32m~/REPOS/Masterarbeit/scf_guess_datasets/scf_guess_datasets/dataset.py:47\u001b[0m, in \u001b[0;36mDataset.keys\u001b[0;34m(self)\u001b[0m\n\u001b[1;32m     45\u001b[0m \u001b[38;5;129m@cached_property\u001b[39m\n\u001b[1;32m     46\u001b[0m \u001b[38;5;28;01mdef\u001b[39;00m \u001b[38;5;21mkeys\u001b[39m(\u001b[38;5;28mself\u001b[39m) \u001b[38;5;241m-\u001b[39m\u001b[38;5;241m>\u001b[39m \u001b[38;5;28mlist\u001b[39m[\u001b[38;5;28mint\u001b[39m]:\n\u001b[0;32m---> 47\u001b[0m     \u001b[38;5;28;01mwith\u001b[39;00m \u001b[38;5;28mopen\u001b[39m(\u001b[38;5;124mf\u001b[39m\u001b[38;5;124m\"\u001b[39m\u001b[38;5;132;01m{\u001b[39;00m\u001b[38;5;28mself\u001b[39m\u001b[38;5;241m.\u001b[39mdata\u001b[38;5;132;01m}\u001b[39;00m\u001b[38;5;124m/keys.pkl\u001b[39m\u001b[38;5;124m\"\u001b[39m, \u001b[38;5;124m\"\u001b[39m\u001b[38;5;124mrb\u001b[39m\u001b[38;5;124m\"\u001b[39m) \u001b[38;5;28;01mas\u001b[39;00m f:\n\u001b[1;32m     48\u001b[0m         \u001b[38;5;28;01mreturn\u001b[39;00m pickle\u001b[38;5;241m.\u001b[39mload(f)\n",
      "\u001b[0;31mFileNotFoundError\u001b[0m: [Errno 2] No such file or directory: '/home/dmilacher/datasets/data/qm9_isomeres/keys.pkl'"
     ]
    }
   ],
   "source": [
    "# now 0-D guess!\n",
    "densities = []\n",
    "for key in dataset.train_keys: \n",
    "    sample = dataset.solution(key)\n",
    "    densities.append(sample.density)\n",
    "densities = np.array(densities)\n",
    "mean_density = np.mean(densities, axis=0)\n",
    "iterations = []"
   ]
  },
  {
   "cell_type": "code",
   "execution_count": null,
   "id": "027f3ed1",
   "metadata": {},
   "outputs": [],
   "source": [
    "rerun = False\n",
    "if rerun == True:\n",
    "    test_keys = dataset.test_keys\n",
    "    for i, key in enumerate(test_keys):\n",
    "        solver = dataset.solver(test_keys[i])\n",
    "        overlap, hcore, density, fock, status = scf_guess_datasets.solve(solver, mean_density.astype(np.float64))\n",
    "        iterations.append(status.iterations)\n",
    "        print(f\"Sample {i}: Cycles with 0D guess: {status.iterations}\")\n",
    "    mean_own = np.mean(iterations)\n",
    "    std_own = np.std(iterations)\n",
    "    iter_own = ufloat(mean_own, std_own)\n",
    "    print(f\"Average iterations with own guess: {iter_own:.2f}\")\n",
    "    import pickle\n",
    "    with open(f\"{project_root_dir}/3_studies/Block_guessing/models/0D_cycles.pkl\", \"wb\") as f:\n",
    "        pickle.dump(iterations, f)"
   ]
  },
  {
   "cell_type": "code",
   "execution_count": 7,
   "id": "c275956a",
   "metadata": {},
   "outputs": [
    {
     "name": "stdout",
     "output_type": "stream",
     "text": [
      "Average iterations with own guess: 17.10+/-1.45\n"
     ]
    }
   ],
   "source": [
    "with open(f\"{project_root_dir}/3_studies/Block_guessing/models/0D_cycles.pkl\", \"rb\") as f:\n",
    "    iterations = pickle.load(f)\n",
    "mean_own = np.mean(iterations)\n",
    "std_own = np.std(iterations)\n",
    "iter_own = ufloat(mean_own, std_own)\n",
    "scheme_iterations[\"0-D\"] = iterations\n",
    "print(f\"Average iterations with own guess: {iter_own:.2f}\")"
   ]
  },
  {
   "cell_type": "code",
   "execution_count": 9,
   "id": "80a20bbb",
   "metadata": {},
   "outputs": [],
   "source": [
    "# reorder dict according to mean\n",
    "scheme_iterations = {k: v for k, v in sorted(scheme_iterations.items(), key=lambda item: np.mean(item[1]))}\n",
    "with open(f\"{project_root_dir}/latex/scripts/gnn/plot_data/scheme_iterations_0D_model.pkl\", \"wb\") as f:\n",
    "    pickle.dump(scheme_iterations, f)"
   ]
  },
  {
   "cell_type": "code",
   "execution_count": 10,
   "id": "c4d13990",
   "metadata": {},
   "outputs": [
    {
     "data": {
      "text/plain": [
       "<matplotlib.legend.Legend at 0x7fa744d5ced0>"
      ]
     },
     "execution_count": 10,
     "metadata": {},
     "output_type": "execute_result"
    },
    {
     "data": {
      "image/png": "[encoded data removed]",
      "text/plain": [
       "<Figure size 640x480 with 1 Axes>"
      ]
     },
     "metadata": {},
     "output_type": "display_data"
    }
   ],
   "source": [
    "for i, (scheme, iterations) in enumerate(scheme_iterations.items()):\n",
    "    color = plt.scatter(iterations, [scheme]*len(iterations), label=scheme, alpha=0.5).get_facecolor()[0]\n",
    "    plt.vlines(np.mean(iterations), ymin=-0.5, ymax=i, colors=[color], linestyles='dashed')\n",
    "plt.ylim(-0.5, len(scheme_iterations) - 0.5)\n",
    "plt.xticks(np.arange(10,max([max(iterations) for iterations in scheme_iterations.values()]) + 1, 1))\n",
    "plt.ylabel('Guess Scheme')\n",
    "plt.title('Distribution of Iterations per Scheme')\n",
    "plt.legend()"
   ]
  }
 ],
 "metadata": {
  "kernelspec": {
   "display_name": "Python (scf_tools_311)",
   "language": "python",
   "name": "scf_tools_311"
  },
  "language_info": {
   "codemirror_mode": {
    "name": "ipython",
    "version": 3
   },
   "file_extension": ".py",
   "mimetype": "text/x-python",
   "name": "python",
   "nbconvert_exporter": "python",
   "pygments_lexer": "ipython3",
   "version": "3.11.13"
  }
 },
 "nbformat": 4,
 "nbformat_minor": 5
}
