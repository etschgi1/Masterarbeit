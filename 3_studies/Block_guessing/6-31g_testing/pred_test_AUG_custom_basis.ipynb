{
 "cells": [
  {
   "cell_type": "code",
   "execution_count": 1,
   "id": "c7cb7472",
   "metadata": {},
   "outputs": [
    {
     "name": "stdout",
     "output_type": "stream",
     "text": [
      "Project root directory: /home/ewachmann/REPOS/Masterarbeit\n",
      "Using device: cuda\n"
     ]
    }
   ],
   "source": [
    "import sys, os\n",
    "import numpy as np\n",
    "sys.path.append('../src/')\n",
    "import torch\n",
    "from MolGraphNetwork import MolGraphNetwork\n",
    "from utils import find_repo_root\n",
    "from scf_guess_tools import Backend\n",
    "\n",
    "project_root_dir = find_repo_root()\n",
    "print(\"Project root directory:\", project_root_dir)\n",
    "BASIS_PATH = \"../../../scripts/6-31g_2df_p_custom_nwchem.gbs\"\n",
    "GEOMETRY_Source = f\"{project_root_dir}/datasets/QM9/xyz_c7h10o2_sorted\"\n",
    "\n",
    "device = torch.device(\"cuda\" if torch.cuda.is_available() else \"cpu\")\n",
    "print(\"Using device:\", device)\n"
   ]
  },
  {
   "cell_type": "code",
   "execution_count": null,
   "id": "2e92b787",
   "metadata": {},
   "outputs": [
    {
     "name": "stdout",
     "output_type": "stream",
     "text": [
      "Setting verbose level to: 2\n",
      "Loading 6095 files from /home/ewachmann/REPOS/Masterarbeit/datasets/QM9/xyz_c7h10o2_sorted...\n",
      "Limiting to 500 samples out of 6095 total files.\n"
     ]
    },
    {
     "name": "stderr",
     "output_type": "stream",
     "text": [
      "Loading files: 100%|██████████| 500/500 [00:00<00:00, 593.46it/s]\n",
      "Creating graphs: 17it [00:00, 27.90it/s]"
     ]
    }
   ],
   "source": [
    "MGNN = MolGraphNetwork(xyz_source=GEOMETRY_Source,\n",
    "                       basis=BASIS_PATH,\n",
    "                       backend=Backend.PY,\n",
    "                       batch_size=16,\n",
    "                       hidden_dim=256,\n",
    "                       train_val_test_ratio=(0.8, 0.1, 0.1), \n",
    "                       message_passing_steps=3,\n",
    "                       edge_threshold_val=5,\n",
    "                       message_net_layers=3,\n",
    "                       message_net_dropout=0.1,\n",
    "                       target=\"density\",\n",
    "                       data_aug_factor=1,\n",
    "                       verbose_level=2)\n",
    "MGNN.load_data(max_samples=500,\n",
    "               cache_meta = {\"method\":\"dft\", \"basis\":None, \"functional\": \"b3lypg\", \"guess\": \"minao\", \"backend\": \"pyscf\", \"cache\": f\"{project_root_dir}/datasets/QM9/out/c7h10o2_b3lypg_6-31G(2df,p)_sorted/pyscf\"})"
   ]
  },
  {
   "cell_type": "code",
   "execution_count": null,
   "id": "262d41e2",
   "metadata": {},
   "outputs": [
    {
     "name": "stderr",
     "output_type": "stream",
     "text": [
      "Epoch 1 [Train]: 100%|██████████| 25/25 [00:26<00:00,  1.07s/it]\n"
     ]
    },
    {
     "name": "stdout",
     "output_type": "stream",
     "text": [
      "Epoch 1/100 → Avg Train Loss: 211.896562\n"
     ]
    },
    {
     "name": "stderr",
     "output_type": "stream",
     "text": [
      "Epoch 1 [Val]: 100%|██████████| 4/4 [00:01<00:00,  3.55it/s]\n"
     ]
    },
    {
     "name": "stdout",
     "output_type": "stream",
     "text": [
      "Epoch 1/100 → Avg Val   Loss: 138.477680\n",
      "Model checkpoint saved to /home/ewachmann/REPOS/Masterarbeit/3_studies/Block_guessing/models/MGNN_6-31G_simple_AUG.pth\n"
     ]
    },
    {
     "name": "stderr",
     "output_type": "stream",
     "text": [
      "Epoch 2 [Train]: 100%|██████████| 25/25 [00:24<00:00,  1.02it/s]\n"
     ]
    },
    {
     "name": "stdout",
     "output_type": "stream",
     "text": [
      "Epoch 2/100 → Avg Train Loss: 116.387729\n"
     ]
    },
    {
     "name": "stderr",
     "output_type": "stream",
     "text": [
      "Epoch 2 [Val]: 100%|██████████| 4/4 [00:00<00:00,  4.56it/s]\n"
     ]
    },
    {
     "name": "stdout",
     "output_type": "stream",
     "text": [
      "Epoch 2/100 → Avg Val   Loss: 105.881334\n",
      "Model checkpoint saved to /home/ewachmann/REPOS/Masterarbeit/3_studies/Block_guessing/models/MGNN_6-31G_simple_AUG.pth\n"
     ]
    },
    {
     "name": "stderr",
     "output_type": "stream",
     "text": [
      "Epoch 3 [Train]: 100%|██████████| 25/25 [00:24<00:00,  1.01it/s]\n"
     ]
    },
    {
     "name": "stdout",
     "output_type": "stream",
     "text": [
      "Epoch 3/100 → Avg Train Loss: 100.094250\n"
     ]
    },
    {
     "name": "stderr",
     "output_type": "stream",
     "text": [
      "Epoch 3 [Val]: 100%|██████████| 4/4 [00:00<00:00,  4.46it/s]\n"
     ]
    },
    {
     "name": "stdout",
     "output_type": "stream",
     "text": [
      "Epoch 3/100 → Avg Val   Loss: 100.251665\n",
      "Model checkpoint saved to /home/ewachmann/REPOS/Masterarbeit/3_studies/Block_guessing/models/MGNN_6-31G_simple_AUG.pth\n"
     ]
    },
    {
     "name": "stderr",
     "output_type": "stream",
     "text": [
      "Epoch 4 [Train]: 100%|██████████| 25/25 [00:28<00:00,  1.14s/it]\n"
     ]
    },
    {
     "name": "stdout",
     "output_type": "stream",
     "text": [
      "Epoch 4/100 → Avg Train Loss: 94.916205\n"
     ]
    },
    {
     "name": "stderr",
     "output_type": "stream",
     "text": [
      "Epoch 4 [Val]: 100%|██████████| 4/4 [00:01<00:00,  2.64it/s]\n"
     ]
    },
    {
     "name": "stdout",
     "output_type": "stream",
     "text": [
      "Epoch 4/100 → Avg Val   Loss: 96.358286\n",
      "Model checkpoint saved to /home/ewachmann/REPOS/Masterarbeit/3_studies/Block_guessing/models/MGNN_6-31G_simple_AUG.pth\n"
     ]
    },
    {
     "name": "stderr",
     "output_type": "stream",
     "text": [
      "Epoch 5 [Train]:   0%|          | 0/25 [00:01<?, ?it/s]\n"
     ]
    },
    {
     "name": "stdout",
     "output_type": "stream",
     "text": [
      "Training interrupted by user. Benchmark...\n"
     ]
    },
    {
     "name": "stderr",
     "output_type": "stream",
     "text": [
      "Epoch 5 [Test]: 100%|██████████| 4/4 [00:01<00:00,  2.09it/s]"
     ]
    },
    {
     "name": "stdout",
     "output_type": "stream",
     "text": [
      "Test  Loss: 91.968079\n",
      "Model saved to /home/ewachmann/REPOS/Masterarbeit/3_studies/Block_guessing/models/MGNN_6-31G_simple_AUG.pth\n"
     ]
    },
    {
     "name": "stderr",
     "output_type": "stream",
     "text": [
      "\n"
     ]
    }
   ],
   "source": [
    "RETRAIN = False\n",
    "model_name = \"MGNN_6-31G_simple_AUG\"\n",
    "if not RETRAIN and os.path.exists(f\"{project_root_dir}/3_studies/Block_guessing/models/{model_name}.pth\"):\n",
    "    MGNN.load_model(f\"{project_root_dir}/3_studies/Block_guessing/models/{model_name}.pth\")\n",
    "else:\n",
    "    MGNN.train_model(num_epochs=100, lr=1e-3, weight_decay=1e-5, model_save_path=f\"{project_root_dir}/3_studies/Block_guessing/models/{model_name}.pth\")\n",
    "    MGNN.save_model(f\"{project_root_dir}/3_studies/Block_guessing/models/{model_name}.pth\")"
   ]
  },
  {
   "cell_type": "code",
   "execution_count": null,
   "id": "98c547a8",
   "metadata": {},
   "outputs": [
    {
     "data": {
      "image/png": "[encoded data removed]",
      "text/plain": [
       "<Figure size 1000x500 with 2 Axes>"
      ]
     },
     "metadata": {},
     "output_type": "display_data"
    }
   ],
   "source": [
    "import pickle\n",
    "from matplotlib import pyplot as plt\n",
    "with open(f\"{project_root_dir}/3_studies/Block_guessing/models/{model_name}.history\", \"rb\") as f: \n",
    "    hist = pickle.load(f)\n",
    "# hist[\"train_loss\"]\n",
    "fig, ax = plt.subplots(figsize=(10, 5))\n",
    "ax.plot(hist[\"train_loss\"], label=\"Training Loss\", color=\"tab:blue\")\n",
    "ax.plot(hist[\"val_loss\"], label=\"Validation Loss\", color=\"tab:orange\")\n",
    "ax.plot(np.array(hist[\"val_loss\"]).argmin(), hist[\"val_loss\"][np.array(hist[\"val_loss\"]).argmin()],\n",
    "         marker=\"o\", markersize=5, color=\"tab:orange\", label=\"Best Validation Loss\")\n",
    "ax.set_xlabel(\"Epochs\")\n",
    "ax.set_ylabel(\"Loss\")\n",
    "ax2 = ax.twinx()\n",
    "ax2.plot(hist[\"lr\"], linestyle=\"--\", label=\"learning rate\")\n",
    "ax2.set_ylabel(\"Learning Rate\")\n",
    "ax2.tick_params(axis='y')\n",
    "\n",
    "lines, labels = ax.get_legend_handles_labels()\n",
    "lines2, labels2 = ax2.get_legend_handles_labels()\n",
    "ax2.legend(lines + lines2, labels + labels2, loc=\"upper right\")\n",
    "plt.tight_layout()\n",
    "plt.show()"
   ]
  },
  {
   "cell_type": "code",
   "execution_count": null,
   "id": "56b72ae3",
   "metadata": {},
   "outputs": [],
   "source": [
    "test_graphs = MGNN.get_graphs(\"test\")"
   ]
  },
  {
   "cell_type": "code",
   "execution_count": null,
   "id": "8bcd6127",
   "metadata": {},
   "outputs": [
    {
     "name": "stdout",
     "output_type": "stream",
     "text": [
      "Testing on random sample with id 43\n"
     ]
    }
   ],
   "source": [
    "# aux code for testing\n",
    "sys.path.append('../../')\n",
    "from utils import plot_mat_comp\n",
    "\n",
    "randsample_id = np.random.randint(0, len(test_graphs))\n",
    "print(f\"Testing on random sample with id {randsample_id}\")\n",
    "test_graph = test_graphs[randsample_id]"
   ]
  },
  {
   "cell_type": "code",
   "execution_count": 8,
   "id": "f03a2ca2",
   "metadata": {},
   "outputs": [
    {
     "ename": "TypeError",
     "evalue": "can't convert cuda:0 device type tensor to numpy. Use Tensor.cpu() to copy the tensor to host memory first.",
     "output_type": "error",
     "traceback": [
      "\u001b[31m---------------------------------------------------------------------------\u001b[39m",
      "\u001b[31mTypeError\u001b[39m                                 Traceback (most recent call last)",
      "\u001b[36mCell\u001b[39m\u001b[36m \u001b[39m\u001b[32mIn[8]\u001b[39m\u001b[32m, line 1\u001b[39m\n\u001b[32m----> \u001b[39m\u001b[32m1\u001b[39m density_pred, density_truth = MGNN.predict([test_graph], include_target=\u001b[38;5;28;01mTrue\u001b[39;00m, transform_to_density=\u001b[38;5;28;01mTrue\u001b[39;00m)[\u001b[32m0\u001b[39m]\n\u001b[32m      2\u001b[39m plot_mat_comp(density_pred, density_truth, \n\u001b[32m      3\u001b[39m                      title=\u001b[33mf\u001b[39m\u001b[33m\"\u001b[39m\u001b[33mDENSITY Matrix Comparison for Sample \u001b[39m\u001b[38;5;132;01m{\u001b[39;00mrandsample_id\u001b[38;5;132;01m}\u001b[39;00m\u001b[33m\"\u001b[39m, vmax=\u001b[32m0.1\u001b[39m)\n\u001b[32m      4\u001b[39m plot_mat_comp(density_pred[:\u001b[32m10\u001b[39m,:\u001b[32m10\u001b[39m], density_truth[:\u001b[32m10\u001b[39m,:\u001b[32m10\u001b[39m], \n\u001b[32m      5\u001b[39m                      title=\u001b[33mf\u001b[39m\u001b[33m\"\u001b[39m\u001b[33mDENSITY Matrix Comparison for Sample \u001b[39m\u001b[38;5;132;01m{\u001b[39;00mrandsample_id\u001b[38;5;132;01m}\u001b[39;00m\u001b[33m\"\u001b[39m, vmax=\u001b[32m0.1\u001b[39m)\n",
      "\u001b[36mFile \u001b[39m\u001b[32m~/REPOS/Masterarbeit/3_studies/Block_guessing/6-31g_testing/../src/MolGraphNetwork.py:346\u001b[39m, in \u001b[36mMolGraphNetwork.predict\u001b[39m\u001b[34m(self, graphs, inv_transform, raw, include_target, transform_to_density)\u001b[39m\n\u001b[32m    344\u001b[39m ao_slices, edge_ao_slices = graph.ao_slices, graph.edge_ao_slices\n\u001b[32m    345\u001b[39m \u001b[38;5;28;01mif\u001b[39;00m transform_to_density: \n\u001b[32m--> \u001b[39m\u001b[32m346\u001b[39m     ovlp = \u001b[38;5;28mself\u001b[39m.rebuild_matrix(graph.center_blocks, graph.edge_blocks, ao_slices, edge_ao_slices)\n\u001b[32m    347\u001b[39m     \u001b[38;5;66;03m# print(f\"Ovlp: {ovlp[:10, :10]}\")\u001b[39;00m\n\u001b[32m    348\u001b[39m     nocc = \u001b[38;5;28msum\u001b[39m([ATOM_NUMBERS[sym] \u001b[38;5;28;01mfor\u001b[39;00m sym \u001b[38;5;129;01min\u001b[39;00m graph.atom_sym])  \u001b[38;5;66;03m#! this works only for closed-shell systems!\u001b[39;00m\n",
      "\u001b[36mFile \u001b[39m\u001b[32m~/REPOS/Masterarbeit/3_studies/Block_guessing/6-31g_testing/../src/MolGraphNetwork.py:283\u001b[39m, in \u001b[36mMolGraphNetwork.rebuild_matrix\u001b[39m\u001b[34m(self, pred_center_blocks, pred_edge_blocks, ao_slices, edge_ao_slices)\u001b[39m\n\u001b[32m    281\u001b[39m \u001b[38;5;28;01mfor\u001b[39;00m i, (_, _, start, end) \u001b[38;5;129;01min\u001b[39;00m \u001b[38;5;28menumerate\u001b[39m(ao_slices):\n\u001b[32m    282\u001b[39m     flat_center_block = pred_center_blocks[i]\n\u001b[32m--> \u001b[39m\u001b[32m283\u001b[39m     out[start:end, start:end] = unflatten_triang(flat_center_block.numpy(), end - start)\n\u001b[32m    284\u001b[39m \u001b[38;5;28;01mfor\u001b[39;00m i, ((start_i, end_i), (start_j, end_j)) \u001b[38;5;129;01min\u001b[39;00m \u001b[38;5;28menumerate\u001b[39m(edge_ao_slices):\n\u001b[32m    285\u001b[39m     flat_edge_block = pred_edge_blocks[\u001b[32m2\u001b[39m*i] \u001b[38;5;66;03m#! OC we have to index every second because we doubled the edges (directed edges - see make_graph) but not the indices! \u001b[39;00m\n",
      "\u001b[31mTypeError\u001b[39m: can't convert cuda:0 device type tensor to numpy. Use Tensor.cpu() to copy the tensor to host memory first."
     ]
    }
   ],
   "source": [
    "density_pred, density_truth = MGNN.predict([test_graph], include_target=True, transform_to_density=True)[0]\n",
    "plot_mat_comp(density_pred, density_truth, \n",
    "                     title=f\"DENSITY Matrix Comparison for Sample {randsample_id}\", vmax=0.1)\n",
    "plot_mat_comp(density_pred[:10,:10], density_truth[:10,:10], \n",
    "                     title=f\"DENSITY Matrix Comparison for Sample {randsample_id}\", vmax=0.1)"
   ]
  },
  {
   "cell_type": "markdown",
   "id": "c7fa54c4",
   "metadata": {},
   "source": [
    "ok this already look pretty good for very few training runs!"
   ]
  },
  {
   "cell_type": "code",
   "execution_count": null,
   "id": "98b47103",
   "metadata": {},
   "outputs": [],
   "source": [
    "from scf_guess_tools import load, calculate, guess\n",
    "from scipy.linalg import eigh\n",
    "from pyscf import gto, scf"
   ]
  },
  {
   "cell_type": "code",
   "execution_count": null,
   "id": "34232224",
   "metadata": {},
   "outputs": [],
   "source": [
    "# default calc using minao guess!\n",
    "rand_file = MGNN.get_files(\"test\")[randsample_id]\n",
    "print(rand_file)\n",
    "mol = load(rand_file, basis=BASIS_PATH, backend=Backend.PY)\n",
    "wf_minao = calculate(mol, basis=BASIS_PATH, method=\"dft\", functional=\"b3lypg\", guess=\"minao\")"
   ]
  },
  {
   "cell_type": "code",
   "execution_count": null,
   "id": "346d06ed",
   "metadata": {},
   "outputs": [],
   "source": [
    "density_pred = density_pred.astype(np.float64)"
   ]
  },
  {
   "cell_type": "code",
   "execution_count": null,
   "id": "69b613d8",
   "metadata": {},
   "outputs": [],
   "source": [
    "mol = load(rand_file, basis=BASIS_PATH, backend=Backend.PY)\n",
    "wf_own = calculate(mol, basis=BASIS_PATH, method=\"dft\", functional=\"b3lypg\", guess=2*density_pred)"
   ]
  },
  {
   "cell_type": "code",
   "execution_count": null,
   "id": "6508cf97",
   "metadata": {},
   "outputs": [],
   "source": [
    "# ground truth guess\n",
    "mol = load(rand_file, basis=BASIS_PATH, backend=Backend.PY)\n",
    "wf_gt = calculate(mol, basis=BASIS_PATH, method=\"dft\", functional=\"b3lypg\", guess=2*density_truth)"
   ]
  },
  {
   "cell_type": "code",
   "execution_count": null,
   "id": "b0798a7a",
   "metadata": {},
   "outputs": [],
   "source": [
    "cycles_minao, cycles_own, cycles_gt = wf_minao.native.cycles, wf_own.native.cycles, wf_gt.native.cycles\n",
    "print(f\"Cycles with minao guess: {cycles_minao}, cycles with own guess: {cycles_own}, cycles with ground truth guess: {cycles_gt}\")"
   ]
  },
  {
   "cell_type": "code",
   "execution_count": null,
   "id": "6dc2f9dc",
   "metadata": {},
   "outputs": [],
   "source": [
    "plot_mat_comp(wf_minao._D, 2*density_truth, title=\"Recalc (using truth as guess)\", ref_title=\"Recalculation using truth as guess\", pred_title=\"Truth from prev. calculation\", vmax=0.1)"
   ]
  },
  {
   "cell_type": "markdown",
   "id": "cafcc5af",
   "metadata": {},
   "source": [
    "# Iteration Benchmark"
   ]
  },
  {
   "cell_type": "code",
   "execution_count": null,
   "id": "b05ed1bb",
   "metadata": {},
   "outputs": [],
   "source": [
    "from time import time\n",
    "from uncertainties import ufloat"
   ]
  },
  {
   "cell_type": "code",
   "execution_count": null,
   "id": "0866e9b1",
   "metadata": {},
   "outputs": [],
   "source": [
    "start_time = time()\n",
    "density_preds = MGNN.predict(test_graphs, include_target=True, transform_to_density=True)\n",
    "pred_time = time() - start_time # stat benchmarking later\n",
    "print(f\"Prediction time for {len(test_graphs)} samples: {pred_time:.2f} seconds - {pred_time/len(test_graphs):.4f} seconds per sample\")\n",
    "\n",
    "files = MGNN.get_files(\"test\")\n",
    "print(f\"Number of test files: {len(files)}\")\n",
    "\n",
    "cycles = {\"minao\": [], \"gnn\": []}\n",
    "print(\"Testing for iteration count\")"
   ]
  },
  {
   "cell_type": "code",
   "execution_count": null,
   "id": "6bd942e1",
   "metadata": {},
   "outputs": [],
   "source": [
    "# own \n",
    "for i, (file, density_pred) in enumerate(zip(files, density_preds)):\n",
    "    mol = load(file, basis=BASIS_PATH, backend=Backend.PY)\n",
    "    wf_own = calculate(mol, basis=BASIS_PATH, method=\"dft\", functional=\"b3lypg\", guess=2*density_pred[0])\n",
    "    cycles[\"gnn\"].append(wf_own.native.cycles)\n",
    "    print(f\"Sample {i}: Cycles with own guess: {wf_own.native.cycles}\")\n"
   ]
  },
  {
   "cell_type": "code",
   "execution_count": null,
   "id": "b195a0b6",
   "metadata": {},
   "outputs": [],
   "source": [
    "# minao\n",
    "for i, file in enumerate(files):\n",
    "    mol = load(file, basis=BASIS_PATH, backend=Backend.PY)\n",
    "    wf_minao = calculate(mol, basis=BASIS_PATH, method=\"dft\", functional=\"b3lypg\", guess=\"minao\")\n",
    "    cycles[\"minao\"].append(wf_minao.native.cycles)\n",
    "    print(f\"Sample {i}: Cycles with minao guess: {wf_minao.native.cycles}\")"
   ]
  },
  {
   "cell_type": "code",
   "execution_count": null,
   "id": "d374c00c",
   "metadata": {},
   "outputs": [],
   "source": [
    "cutoff = 45\n",
    "mean_own = np.mean(cycles[\"gnn\"][:cutoff])\n",
    "std_own = np.std(cycles[\"gnn\"][:cutoff])\n",
    "iter_own = ufloat(mean_own, std_own)\n",
    "mean_minao = np.mean(cycles[\"minao\"][:cutoff])\n",
    "std_minao = np.std(cycles[\"minao\"][:cutoff])\n",
    "iter_minao = ufloat(mean_minao, std_minao)\n",
    "print(f\"Average iterations with own guess: {iter_own:.2f}, with minao guess: {iter_minao:.2f}\")"
   ]
  },
  {
   "cell_type": "markdown",
   "id": "51735dcd",
   "metadata": {},
   "source": [
    "#### look into difference of truth vs. recalc!"
   ]
  },
  {
   "cell_type": "code",
   "execution_count": null,
   "id": "f3d61cb7",
   "metadata": {},
   "outputs": [],
   "source": [
    "import sys\n",
    "sys.path.append('../src/')\n",
    "from utils import density_fock_overlap\n",
    "test_file = os.path.join(GEOMETRY_Source, \"dsgdb9nsd_082759.xyz\")\n",
    "print(test_file)\n",
    "\n"
   ]
  },
  {
   "cell_type": "code",
   "execution_count": null,
   "id": "77375256",
   "metadata": {},
   "outputs": [],
   "source": [
    "mol = load(test_file, basis=BASIS_PATH, backend=Backend.PY)\n",
    "minao_calc = calculate(mol, basis=BASIS_PATH, method=\"dft\", functional=\"b3lypg\", guess=\"minao\")\n"
   ]
  },
  {
   "cell_type": "code",
   "execution_count": null,
   "id": "f8ac7dfb",
   "metadata": {},
   "outputs": [],
   "source": [
    "\n",
    "cache_meta = {\"method\":\"dft\", \"basis\":None, \"functional\": \"b3lypg\", \"guess\": \"minao\", \"backend\": \"pyscf\", \"cache\": \"/home/etschgi1/REPOS/Masterarbeit/datasets/QM9/out/c7h10o2_b3lypg_6-31G(2df,p)_sorted/pyscf\"}\n",
    "mol_name = os.path.basename(test_file).strip()\n",
    "cached_truth = density_fock_overlap(filepath=test_file,\n",
    "                                              filename = mol_name,\n",
    "                                              method = cache_meta[\"method\"],\n",
    "                                              basis = None,\n",
    "                                              functional = cache_meta[\"functional\"],\n",
    "                                              guess = cache_meta[\"guess\"],\n",
    "                                              backend = cache_meta[\"backend\"],\n",
    "                                              cache = cache_meta[\"cache\"])\n",
    "density_cached_truth = cached_truth[0].numpy\n",
    "plot_mat_comp(minao_calc.density().numpy, density_cached_truth, title=\"Guess (using truth as guess)\", ref_title=\"Minao guess\", pred_title=\"Truth from prev. calculation\", vmax=0.1)"
   ]
  },
  {
   "cell_type": "code",
   "execution_count": null,
   "id": "7de97006",
   "metadata": {},
   "outputs": [],
   "source": []
  }
 ],
 "metadata": {
  "kernelspec": {
   "display_name": "Python (scf_tools_311)",
   "language": "python",
   "name": "scf_tools_311"
  },
  "language_info": {
   "codemirror_mode": {
    "name": "ipython",
    "version": 3
   },
   "file_extension": ".py",
   "mimetype": "text/x-python",
   "name": "python",
   "nbconvert_exporter": "python",
   "pygments_lexer": "ipython3",
   "version": "3.11.13"
  }
 },
 "nbformat": 4,
 "nbformat_minor": 5
}
