{
 "cells": [
  {
   "cell_type": "code",
   "execution_count": 10,
   "id": "619f862b",
   "metadata": {},
   "outputs": [],
   "source": [
    "import sys\n",
    "import numpy as np\n",
    "sys.path.append('../src/')\n",
    "from scf_guess_datasets import Qm9Isomeres\n",
    "import matplotlib.pyplot as plt\n",
    "from pyscf import gto, scf\n",
    "from scf_guess_tools import load, calculate, guess, Backend\n",
    "BASIS_PATH = \"/home/etschgi1/REPOS/Masterarbeit/scripts/6-31g_2df_p_custom_nwchem.gbs\"\n"
   ]
  },
  {
   "cell_type": "code",
   "execution_count": 11,
   "id": "8a67d84c",
   "metadata": {},
   "outputs": [
    {
     "name": "stdout",
     "output_type": "stream",
     "text": [
      "Using basis from /home/etschgi1/REPOS/Masterarbeit/scripts/6-31g_2df_p_custom_nwchem.gbs\n",
      "converged SCF energy = -423.192538377229\n"
     ]
    }
   ],
   "source": [
    "file = \"/home/etschgi1/REPOS/Masterarbeit/datasets/QM9/xyz_c7h10o2_sorted/dsgdb9nsd_073806.xyz\"\n",
    "mol = load(file, basis=BASIS_PATH, backend=Backend.PY)\n",
    "\n",
    "wf_minao = calculate(mol, basis=BASIS_PATH, method=\"dft\", functional=\"b3lypg\", guess=\"minao\")\n",
    "conv_density = wf_minao.density().numpy"
   ]
  },
  {
   "cell_type": "code",
   "execution_count": null,
   "id": "cd58b085",
   "metadata": {},
   "outputs": [
    {
     "name": "stdout",
     "output_type": "stream",
     "text": [
      "Using basis from /home/etschgi1/REPOS/Masterarbeit/scripts/6-31g_2df_p_custom_nwchem.gbs\n"
     ]
    }
   ],
   "source": [
    "wf_truth = calculate(mol, basis=BASIS_PATH, method=\"dft\", functional=\"b3lypg\", guess=2*conv_density)"
   ]
  },
  {
   "cell_type": "code",
   "execution_count": null,
   "id": "558214fb",
   "metadata": {},
   "outputs": [],
   "source": [
    "print(\"Cycles minao\": wf_minao.native.cycles, \"cycles truth:\", wf_truth.native.cycles)"
   ]
  }
 ],
 "metadata": {
  "kernelspec": {
   "display_name": "scf_guess_1_0",
   "language": "python",
   "name": "python3"
  },
  "language_info": {
   "codemirror_mode": {
    "name": "ipython",
    "version": 3
   },
   "file_extension": ".py",
   "mimetype": "text/x-python",
   "name": "python",
   "nbconvert_exporter": "python",
   "pygments_lexer": "ipython3",
   "version": "3.11.11"
  }
 },
 "nbformat": 4,
 "nbformat_minor": 5
}
