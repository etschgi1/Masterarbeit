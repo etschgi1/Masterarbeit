{
 "cells": [
  {
   "cell_type": "code",
   "execution_count": null,
   "id": "2266fefd",
   "metadata": {},
   "outputs": [],
   "source": [
    "import sys\n",
    "sys.path.append('src/')\n",
    "import torch\n",
    "from MolGraphNetwork import MolGraphNetwork\n",
    "from scf_guess_tools import Backend\n",
    "\n",
    "BASIS_PATH = \"/home/etschgi1/REPOS/Masterarbeit/scripts/6-31g_2df_p_custom_nwchem.gbs\"\n",
    "GEOMETRY_Source = \"/home/etschgi1/REPOS/Masterarbeit/datasets/QM9/xyz_c7h10o2_sorted\"\n",
    "\n",
    "device = torch.device(\"cuda\" if torch.cuda.is_available() else \"cpu\")\n",
    "MGNN = MolGraphNetwork(xyz_source=GEOMETRY_Source,\n",
    "                       basis=BASIS_PATH,\n",
    "                       backend=Backend.PY,\n",
    "                       batch_size=2,\n",
    "                       train_val_test_ratio=(0.8, 0.1, 0.1))\n"
   ]
  },
  {
   "cell_type": "code",
   "execution_count": 20,
   "id": "7de91ada",
   "metadata": {},
   "outputs": [
    {
     "name": "stdout",
     "output_type": "stream",
     "text": [
      "Loading 6095 files from /home/etschgi1/REPOS/Masterarbeit/datasets/QM9/xyz_c7h10o2_sorted...\n",
      "Limiting to 1000 samples out of 6095 total files.\n"
     ]
    },
    {
     "name": "stderr",
     "output_type": "stream",
     "text": [
      "Loading files: 100%|██████████| 1000/1000 [00:02<00:00, 342.31it/s]\n",
      "Creating graphs: 0it [00:00, ?it/s]\n"
     ]
    },
    {
     "ename": "BasisNotFoundError",
     "evalue": "Invalid basis ../../scripts/6-31g_2df_p_custom_nwchem.gbs",
     "output_type": "error",
     "traceback": [
      "\u001b[0;31m---------------------------------------------------------------------------\u001b[0m",
      "\u001b[0;31mValueError\u001b[0m                                Traceback (most recent call last)",
      "File \u001b[0;32m~/miniconda3/envs/scf_guess_1_0/lib/python3.11/site-packages/pyscf/gto/basis/parse_nwchem.py:128\u001b[0m, in \u001b[0;36m_parse\u001b[0;34m(raw_basis, optimize)\u001b[0m\n\u001b[1;32m    127\u001b[0m \u001b[38;5;28;01mtry\u001b[39;00m:\n\u001b[0;32m--> 128\u001b[0m     dat \u001b[38;5;241m=\u001b[39m [\u001b[38;5;28mfloat\u001b[39m(x) \u001b[38;5;28;01mfor\u001b[39;00m x \u001b[38;5;129;01min\u001b[39;00m dat]\n\u001b[1;32m    129\u001b[0m \u001b[38;5;28;01mexcept\u001b[39;00m \u001b[38;5;167;01mValueError\u001b[39;00m:\n",
      "File \u001b[0;32m~/miniconda3/envs/scf_guess_1_0/lib/python3.11/site-packages/pyscf/gto/basis/parse_nwchem.py:128\u001b[0m, in \u001b[0;36m<listcomp>\u001b[0;34m(.0)\u001b[0m\n\u001b[1;32m    127\u001b[0m \u001b[38;5;28;01mtry\u001b[39;00m:\n\u001b[0;32m--> 128\u001b[0m     dat \u001b[38;5;241m=\u001b[39m [\u001b[38;5;28mfloat\u001b[39m(x) \u001b[38;5;28;01mfor\u001b[39;00m x \u001b[38;5;129;01min\u001b[39;00m dat]\n\u001b[1;32m    129\u001b[0m \u001b[38;5;28;01mexcept\u001b[39;00m \u001b[38;5;167;01mValueError\u001b[39;00m:\n",
      "\u001b[0;31mValueError\u001b[0m: could not convert string to float: '../../scripts/6-31g_2df_p_custom_nwchem.gbs'",
      "\nDuring handling of the above exception, another exception occurred:\n",
      "\u001b[0;31mSyntaxError\u001b[0m                               Traceback (most recent call last)",
      "File \u001b[0;32m~/miniconda3/envs/scf_guess_1_0/lib/python3.11/site-packages/pyscf/gto/basis/__init__.py:631\u001b[0m, in \u001b[0;36mload\u001b[0;34m(filename_or_basisname, symb, optimize)\u001b[0m\n\u001b[1;32m    630\u001b[0m \u001b[38;5;28;01mtry\u001b[39;00m:\n\u001b[0;32m--> 631\u001b[0m     \u001b[38;5;28;01mreturn\u001b[39;00m parse_nwchem\u001b[38;5;241m.\u001b[39mparse(filename_or_basisname, optimize\u001b[38;5;241m=\u001b[39moptimize)\n\u001b[1;32m    632\u001b[0m \u001b[38;5;28;01mexcept\u001b[39;00m BasisNotFoundError:\n",
      "File \u001b[0;32m~/miniconda3/envs/scf_guess_1_0/lib/python3.11/site-packages/pyscf/gto/basis/parse_nwchem.py:96\u001b[0m, in \u001b[0;36mparse\u001b[0;34m(string, symb, optimize)\u001b[0m\n\u001b[1;32m     95\u001b[0m         raw_basis\u001b[38;5;241m.\u001b[39mappend(dat)\n\u001b[0;32m---> 96\u001b[0m \u001b[38;5;28;01mreturn\u001b[39;00m _parse(raw_basis, optimize)\n",
      "File \u001b[0;32m~/miniconda3/envs/scf_guess_1_0/lib/python3.11/site-packages/pyscf/gto/basis/parse_nwchem.py:133\u001b[0m, in \u001b[0;36m_parse\u001b[0;34m(raw_basis, optimize)\u001b[0m\n\u001b[1;32m    132\u001b[0m     \u001b[38;5;28;01melse\u001b[39;00m:\n\u001b[0;32m--> 133\u001b[0m         dat \u001b[38;5;241m=\u001b[39m \u001b[38;5;28mlist\u001b[39m(\u001b[38;5;28meval\u001b[39m(\u001b[38;5;124m'\u001b[39m\u001b[38;5;124m,\u001b[39m\u001b[38;5;124m'\u001b[39m\u001b[38;5;241m.\u001b[39mjoin(dat)))\n\u001b[1;32m    134\u001b[0m \u001b[38;5;28;01mexcept\u001b[39;00m \u001b[38;5;167;01mException\u001b[39;00m \u001b[38;5;28;01mas\u001b[39;00m e:\n",
      "\u001b[0;31mSyntaxError\u001b[0m: invalid decimal literal (<string>, line 1)",
      "\nDuring handling of the above exception, another exception occurred:\n",
      "\u001b[0;31mBasisNotFoundError\u001b[0m                        Traceback (most recent call last)",
      "Cell \u001b[0;32mIn[20], line 1\u001b[0m\n\u001b[0;32m----> 1\u001b[0m MGNN\u001b[38;5;241m.\u001b[39mload_data(max_samples\u001b[38;5;241m=\u001b[39m\u001b[38;5;241m1000\u001b[39m,\n\u001b[1;32m      2\u001b[0m                cache_meta \u001b[38;5;241m=\u001b[39m {\u001b[38;5;124m\"\u001b[39m\u001b[38;5;124mmethod\u001b[39m\u001b[38;5;124m\"\u001b[39m:\u001b[38;5;124m\"\u001b[39m\u001b[38;5;124mdft\u001b[39m\u001b[38;5;124m\"\u001b[39m, \u001b[38;5;124m\"\u001b[39m\u001b[38;5;124mbasis\u001b[39m\u001b[38;5;124m\"\u001b[39m:\u001b[38;5;28;01mNone\u001b[39;00m, \u001b[38;5;124m\"\u001b[39m\u001b[38;5;124mfunctional\u001b[39m\u001b[38;5;124m\"\u001b[39m: \u001b[38;5;124m\"\u001b[39m\u001b[38;5;124mb3lypg\u001b[39m\u001b[38;5;124m\"\u001b[39m, \u001b[38;5;124m\"\u001b[39m\u001b[38;5;124mguess\u001b[39m\u001b[38;5;124m\"\u001b[39m: \u001b[38;5;124m\"\u001b[39m\u001b[38;5;124mminao\u001b[39m\u001b[38;5;124m\"\u001b[39m, \u001b[38;5;124m\"\u001b[39m\u001b[38;5;124mbackend\u001b[39m\u001b[38;5;124m\"\u001b[39m: \u001b[38;5;124m\"\u001b[39m\u001b[38;5;124mpyscf\u001b[39m\u001b[38;5;124m\"\u001b[39m, \u001b[38;5;124m\"\u001b[39m\u001b[38;5;124mcache\u001b[39m\u001b[38;5;124m\"\u001b[39m: \u001b[38;5;124m\"\u001b[39m\u001b[38;5;124m/home/etschgi1/REPOS/Masterarbeit/datasets/QM9/out/c7h10o2_b3lypg_6-31G(2df,p)/pyscf\u001b[39m\u001b[38;5;124m\"\u001b[39m})\n",
      "File \u001b[0;32m~/REPOS/Masterarbeit/3_studies/Block_guessing/src/MolGraphNetwork.py:133\u001b[0m, in \u001b[0;36mload_data\u001b[0;34m(self, seed, max_samples, cache_meta)\u001b[0m\n\u001b[1;32m    131\u001b[0m total_samples \u001b[38;5;241m=\u001b[39m \u001b[38;5;28mlen\u001b[39m(\u001b[38;5;28mself\u001b[39m\u001b[38;5;241m.\u001b[39mmolgraphs)\n\u001b[1;32m    132\u001b[0m train_size \u001b[38;5;241m=\u001b[39m \u001b[38;5;28mint\u001b[39m(total_samples \u001b[38;5;241m*\u001b[39m \u001b[38;5;28mself\u001b[39m\u001b[38;5;241m.\u001b[39mtrain_ratio)\n\u001b[0;32m--> 133\u001b[0m val_size \u001b[38;5;241m=\u001b[39m \u001b[38;5;28mint\u001b[39m(total_samples \u001b[38;5;241m*\u001b[39m \u001b[38;5;28mself\u001b[39m\u001b[38;5;241m.\u001b[39mval_ratio)\n\u001b[1;32m    134\u001b[0m test_size \u001b[38;5;241m=\u001b[39m total_samples \u001b[38;5;241m-\u001b[39m train_size \u001b[38;5;241m-\u001b[39m val_size\n\u001b[1;32m    136\u001b[0m train_indices \u001b[38;5;241m=\u001b[39m shuffled_indices[:train_size]\n",
      "File \u001b[0;32m~/REPOS/Masterarbeit/scf_guess_tools/scf_guess_tools/molecule.py:90\u001b[0m, in \u001b[0;36mload\u001b[0;34m(path, backend, **kwargs)\u001b[0m\n\u001b[1;32m     88\u001b[0m \u001b[38;5;129m@wraps\u001b[39m(Molecule\u001b[38;5;241m.\u001b[39mload)\n\u001b[1;32m     89\u001b[0m \u001b[38;5;28;01mdef\u001b[39;00m \u001b[38;5;21mload\u001b[39m(path: \u001b[38;5;28mstr\u001b[39m, backend: Backend, \u001b[38;5;241m*\u001b[39m\u001b[38;5;241m*\u001b[39mkwargs):\n\u001b[0;32m---> 90\u001b[0m     \u001b[38;5;28;01mreturn\u001b[39;00m proxy(backend, \u001b[38;5;28;01mlambda\u001b[39;00m p: p\u001b[38;5;241m.\u001b[39mMolecule\u001b[38;5;241m.\u001b[39mload, path, \u001b[38;5;241m*\u001b[39m\u001b[38;5;241m*\u001b[39mkwargs)\n",
      "File \u001b[0;32m~/REPOS/Masterarbeit/scf_guess_tools/scf_guess_tools/proxy.py:33\u001b[0m, in \u001b[0;36mproxy\u001b[0;34m(backend, resolve, *args, **kwargs)\u001b[0m\n\u001b[1;32m     30\u001b[0m     \u001b[38;5;28;01mraise\u001b[39;00m \u001b[38;5;167;01mValueError\u001b[39;00m(\u001b[38;5;124mf\u001b[39m\u001b[38;5;124m\"\u001b[39m\u001b[38;5;124mInvalid backend \u001b[39m\u001b[38;5;132;01m{\u001b[39;00mbackend\u001b[38;5;132;01m}\u001b[39;00m\u001b[38;5;124m\"\u001b[39m)\n\u001b[1;32m     32\u001b[0m operation \u001b[38;5;241m=\u001b[39m resolve(package)\n\u001b[0;32m---> 33\u001b[0m \u001b[38;5;28;01mreturn\u001b[39;00m operation(\u001b[38;5;241m*\u001b[39margs, \u001b[38;5;241m*\u001b[39m\u001b[38;5;241m*\u001b[39mkwargs)\n",
      "File \u001b[0;32m~/REPOS/Masterarbeit/scf_guess_tools/scf_guess_tools/common.py:78\u001b[0m, in \u001b[0;36mtimeable.<locals>.wrapper\u001b[0;34m(time, *args, **kwargs)\u001b[0m\n\u001b[1;32m     75\u001b[0m \u001b[38;5;129m@wraps\u001b[39m(function)\n\u001b[1;32m     76\u001b[0m \u001b[38;5;28;01mdef\u001b[39;00m \u001b[38;5;21mwrapper\u001b[39m(\u001b[38;5;241m*\u001b[39margs, time: \u001b[38;5;28mbool\u001b[39m \u001b[38;5;241m=\u001b[39m \u001b[38;5;28;01mFalse\u001b[39;00m, \u001b[38;5;241m*\u001b[39m\u001b[38;5;241m*\u001b[39mkwargs):\n\u001b[1;32m     77\u001b[0m     start \u001b[38;5;241m=\u001b[39m process_time()\n\u001b[0;32m---> 78\u001b[0m     result \u001b[38;5;241m=\u001b[39m function(\u001b[38;5;241m*\u001b[39margs, \u001b[38;5;241m*\u001b[39m\u001b[38;5;241m*\u001b[39mkwargs)\n\u001b[1;32m     79\u001b[0m     duration \u001b[38;5;241m=\u001b[39m process_time() \u001b[38;5;241m-\u001b[39m start\n\u001b[1;32m     81\u001b[0m     \u001b[38;5;28;01mreturn\u001b[39;00m (result, duration) \u001b[38;5;28;01mif\u001b[39;00m time \u001b[38;5;28;01melse\u001b[39;00m result\n",
      "File \u001b[0;32m~/REPOS/Masterarbeit/scf_guess_tools/scf_guess_tools/py/molecule.py:116\u001b[0m, in \u001b[0;36mMolecule.load\u001b[0;34m(cls, path, symmetry, basis)\u001b[0m\n\u001b[1;32m    114\u001b[0m \u001b[38;5;28;01mif\u001b[39;00m basis \u001b[38;5;129;01mis\u001b[39;00m \u001b[38;5;129;01mnot\u001b[39;00m \u001b[38;5;28;01mNone\u001b[39;00m:\n\u001b[1;32m    115\u001b[0m     native\u001b[38;5;241m.\u001b[39mbasis \u001b[38;5;241m=\u001b[39m basis\n\u001b[0;32m--> 116\u001b[0m native\u001b[38;5;241m.\u001b[39mbuild()\n\u001b[1;32m    118\u001b[0m \u001b[38;5;28;01mreturn\u001b[39;00m Molecule(name, native)\n",
      "File \u001b[0;32m~/miniconda3/envs/scf_guess_1_0/lib/python3.11/site-packages/pyscf/gto/mole.py:2553\u001b[0m, in \u001b[0;36mMoleBase.build\u001b[0;34m(self, dump_input, parse_arg, verbose, output, max_memory, atom, basis, unit, nucmod, ecp, pseudo, charge, spin, symmetry, symmetry_subgroup, cart, magmom)\u001b[0m\n\u001b[1;32m   2551\u001b[0m \u001b[38;5;28;01mif\u001b[39;00m \u001b[38;5;28mself\u001b[39m\u001b[38;5;241m.\u001b[39mbasis:\n\u001b[1;32m   2552\u001b[0m     _basis \u001b[38;5;241m=\u001b[39m _parse_default_basis(\u001b[38;5;28mself\u001b[39m\u001b[38;5;241m.\u001b[39mbasis, uniq_atoms)\n\u001b[0;32m-> 2553\u001b[0m     \u001b[38;5;28mself\u001b[39m\u001b[38;5;241m.\u001b[39m_basis \u001b[38;5;241m=\u001b[39m \u001b[38;5;28mself\u001b[39m\u001b[38;5;241m.\u001b[39mformat_basis(_basis)\n\u001b[1;32m   2554\u001b[0m env \u001b[38;5;241m=\u001b[39m \u001b[38;5;28mself\u001b[39m\u001b[38;5;241m.\u001b[39m_env[:PTR_ENV_START]\n\u001b[1;32m   2555\u001b[0m \u001b[38;5;28mself\u001b[39m\u001b[38;5;241m.\u001b[39m_atm, \u001b[38;5;28mself\u001b[39m\u001b[38;5;241m.\u001b[39m_bas, \u001b[38;5;28mself\u001b[39m\u001b[38;5;241m.\u001b[39m_env \u001b[38;5;241m=\u001b[39m \\\n\u001b[1;32m   2556\u001b[0m         \u001b[38;5;28mself\u001b[39m\u001b[38;5;241m.\u001b[39mmake_env(\u001b[38;5;28mself\u001b[39m\u001b[38;5;241m.\u001b[39m_atom, \u001b[38;5;28mself\u001b[39m\u001b[38;5;241m.\u001b[39m_basis, env, \u001b[38;5;28mself\u001b[39m\u001b[38;5;241m.\u001b[39mnucmod,\n\u001b[1;32m   2557\u001b[0m                       \u001b[38;5;28mself\u001b[39m\u001b[38;5;241m.\u001b[39mnucprop)\n",
      "File \u001b[0;32m~/miniconda3/envs/scf_guess_1_0/lib/python3.11/site-packages/pyscf/gto/mole.py:459\u001b[0m, in \u001b[0;36mformat_basis\u001b[0;34m(basis_tab, sort_basis)\u001b[0m\n\u001b[1;32m    457\u001b[0m \u001b[38;5;28;01mfor\u001b[39;00m atom, atom_basis \u001b[38;5;129;01min\u001b[39;00m basis_tab\u001b[38;5;241m.\u001b[39mitems():\n\u001b[1;32m    458\u001b[0m     symb \u001b[38;5;241m=\u001b[39m _atom_symbol(atom)\n\u001b[0;32m--> 459\u001b[0m     _basis \u001b[38;5;241m=\u001b[39m basis_converter(symb, atom_basis)\n\u001b[1;32m    460\u001b[0m     \u001b[38;5;28;01mif\u001b[39;00m \u001b[38;5;28mlen\u001b[39m(_basis) \u001b[38;5;241m==\u001b[39m \u001b[38;5;241m0\u001b[39m:\n\u001b[1;32m    461\u001b[0m         \u001b[38;5;28;01mraise\u001b[39;00m BasisNotFoundError(\u001b[38;5;124m'\u001b[39m\u001b[38;5;124mBasis not found for  \u001b[39m\u001b[38;5;132;01m%s\u001b[39;00m\u001b[38;5;124m'\u001b[39m \u001b[38;5;241m%\u001b[39m symb)\n",
      "File \u001b[0;32m~/miniconda3/envs/scf_guess_1_0/lib/python3.11/site-packages/pyscf/gto/mole.py:498\u001b[0m, in \u001b[0;36m_generate_basis_converter.<locals>.converter\u001b[0;34m(symb, raw_basis)\u001b[0m\n\u001b[1;32m    496\u001b[0m \u001b[38;5;28;01mdef\u001b[39;00m \u001b[38;5;21mconverter\u001b[39m(symb, raw_basis):\n\u001b[1;32m    497\u001b[0m     \u001b[38;5;28;01mif\u001b[39;00m \u001b[38;5;28misinstance\u001b[39m(raw_basis, \u001b[38;5;28mstr\u001b[39m):\n\u001b[0;32m--> 498\u001b[0m         _basis \u001b[38;5;241m=\u001b[39m load(raw_basis, _std_symbol_without_ghost(symb))\n\u001b[1;32m    499\u001b[0m     \u001b[38;5;28;01melif\u001b[39;00m (\u001b[38;5;28many\u001b[39m(\u001b[38;5;28misinstance\u001b[39m(x, \u001b[38;5;28mstr\u001b[39m) \u001b[38;5;28;01mfor\u001b[39;00m x \u001b[38;5;129;01min\u001b[39;00m raw_basis)\n\u001b[1;32m    500\u001b[0m           \u001b[38;5;66;03m# The first element is the basis of internal format\u001b[39;00m\n\u001b[1;32m    501\u001b[0m           \u001b[38;5;129;01mor\u001b[39;00m \u001b[38;5;129;01mnot\u001b[39;00m \u001b[38;5;28misinstance\u001b[39m(raw_basis[\u001b[38;5;241m0\u001b[39m][\u001b[38;5;241m0\u001b[39m], (numpy\u001b[38;5;241m.\u001b[39minteger, \u001b[38;5;28mint\u001b[39m))):\n\u001b[1;32m    502\u001b[0m         stdsymb \u001b[38;5;241m=\u001b[39m _std_symbol_without_ghost(symb)\n",
      "File \u001b[0;32m~/miniconda3/envs/scf_guess_1_0/lib/python3.11/site-packages/pyscf/gto/mole.py:491\u001b[0m, in \u001b[0;36m_generate_basis_converter.<locals>.load\u001b[0;34m(basis_name, symb)\u001b[0m\n\u001b[1;32m    489\u001b[0m     _basis \u001b[38;5;241m=\u001b[39m pbc_basis_load(basis_name, symb)\n\u001b[1;32m    490\u001b[0m \u001b[38;5;28;01melse\u001b[39;00m:\n\u001b[0;32m--> 491\u001b[0m     _basis \u001b[38;5;241m=\u001b[39m basis\u001b[38;5;241m.\u001b[39mload(basis_name, symb)\n\u001b[1;32m    492\u001b[0m \u001b[38;5;28;01mif\u001b[39;00m unc:\n\u001b[1;32m    493\u001b[0m     _basis \u001b[38;5;241m=\u001b[39m uncontracted_basis(_basis)\n",
      "File \u001b[0;32m~/miniconda3/envs/scf_guess_1_0/lib/python3.11/site-packages/pyscf/gto/basis/__init__.py:635\u001b[0m, in \u001b[0;36mload\u001b[0;34m(filename_or_basisname, symb, optimize)\u001b[0m\n\u001b[1;32m    633\u001b[0m     \u001b[38;5;28;01mpass\u001b[39;00m\n\u001b[1;32m    634\u001b[0m \u001b[38;5;28;01mexcept\u001b[39;00m \u001b[38;5;167;01mException\u001b[39;00m:\n\u001b[0;32m--> 635\u001b[0m     \u001b[38;5;28;01mraise\u001b[39;00m BasisNotFoundError(\u001b[38;5;124mf\u001b[39m\u001b[38;5;124m'\u001b[39m\u001b[38;5;124mInvalid basis \u001b[39m\u001b[38;5;132;01m{\u001b[39;00mfilename_or_basisname\u001b[38;5;132;01m}\u001b[39;00m\u001b[38;5;124m'\u001b[39m)\n\u001b[1;32m    637\u001b[0m \u001b[38;5;28;01mtry\u001b[39;00m:\n\u001b[1;32m    638\u001b[0m     \u001b[38;5;28;01mreturn\u001b[39;00m parse_cp2k\u001b[38;5;241m.\u001b[39mparse(filename_or_basisname, optimize\u001b[38;5;241m=\u001b[39moptimize)\n",
      "\u001b[0;31mBasisNotFoundError\u001b[0m: Invalid basis ../../scripts/6-31g_2df_p_custom_nwchem.gbs"
     ]
    }
   ],
   "source": [
    "MGNN.load_data(max_samples=1000,\n",
    "               cache_meta = {\"method\":\"dft\", \"basis\":None, \"functional\": \"b3lypg\", \"guess\": \"minao\", \"backend\": \"pyscf\", \"cache\": \"/home/etschgi1/REPOS/Masterarbeit/datasets/QM9/out/c7h10o2_b3lypg_6-31G(2df,p)/pyscf\"})"
   ]
  }
 ],
 "metadata": {
  "kernelspec": {
   "display_name": "scf_guess_1_0",
   "language": "python",
   "name": "python3"
  },
  "language_info": {
   "codemirror_mode": {
    "name": "ipython",
    "version": 3
   },
   "file_extension": ".py",
   "mimetype": "text/x-python",
   "name": "python",
   "nbconvert_exporter": "python",
   "pygments_lexer": "ipython3",
   "version": "3.11.11"
  }
 },
 "nbformat": 4,
 "nbformat_minor": 5
}
