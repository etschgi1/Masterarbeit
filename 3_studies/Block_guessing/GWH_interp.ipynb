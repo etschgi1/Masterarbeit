{
 "cells": [
  {
   "cell_type": "markdown",
   "id": "0",
   "metadata": {},
   "source": [
    "# Guess Core and use other methods to interpolate"
   ]
  },
  {
   "cell_type": "code",
   "execution_count": null,
   "id": "1",
   "metadata": {},
   "outputs": [],
   "source": [
    "import os, sys\n",
    "import pickle\n",
    "from scf_guess_tools import  Backend, load, calculate, guess\n",
    "import numpy as np\n",
    "import matplotlib.pyplot as plt\n",
    "from BlockMatrix import BlockMatrix\n",
    "from tensorflow.keras.callbacks import TensorBoard\n",
    "import datetime\n"
   ]
  },
  {
   "cell_type": "code",
   "execution_count": null,
   "id": "2",
   "metadata": {},
   "outputs": [],
   "source": [
    "with open('../c5h4n2o2/models/test_data.pkl', 'rb') as f:\n",
    "    test = pickle.load(f)\n",
    "with open('../c5h4n2o2/models/train_data.pkl', 'rb') as f:\n",
    "    train = pickle.load(f) # fock, overlap, file, density\n",
    "train_X = np.array([overlap for _, overlap, _, _ in train])\n",
    "train_y = np.array([fock for fock, _, _, _ in train])\n",
    "test_X = np.array([overlap for _, overlap, _, _ in test])\n",
    "test_y = np.array([fock for fock, _, _, _ in test])\n",
    "train_files = np.array([file for _, _, file, _ in train])\n",
    "test_files = np.array([file for _, _, file, _ in test])\n",
    "train_densities = np.array([density for _, _, _, density in train])\n",
    "test_densities = np.array([density for _, _, _, density in test])\n",
    "mat_dim = train_X[0].shape[0]\n",
    "mat_dim\n"
   ]
  },
  {
   "cell_type": "code",
   "execution_count": null,
   "id": "3",
   "metadata": {},
   "outputs": [],
   "source": [
    "mol = load(train_files[10], Backend.PY).native\n",
    "dm = BlockMatrix(mol, train_X[10]) # can also override the matrix\n",
    "dm.plot_blocks_by_type(\"homo\", labels=\"atoms\", figsize=(8, 7), title=\"Fock test\", imshow_args={\"cmap\": \"RdBu\"})\n",
    "dm.Matrix.trace()"
   ]
  },
  {
   "cell_type": "markdown",
   "id": "4",
   "metadata": {},
   "source": [
    "## 1) First Trial\n",
    "Just learn the Fock center Block-matrix for the general Case for all given elements! "
   ]
  },
  {
   "cell_type": "code",
   "execution_count": null,
   "id": "5",
   "metadata": {},
   "outputs": [],
   "source": [
    "elements = [\"C\", \"N\", \"O\", \"H\"]\n",
    "training_centers_X = {\"C\":[], \"N\":[], \"O\":[], \"H\":[]}\n",
    "training_centers_y = {\"C\":[], \"N\":[], \"O\":[], \"H\":[]}\n",
    "test_centers_X = {\"C\":[], \"N\":[], \"O\":[], \"H\":[]}\n",
    "test_centers_y = {\"C\":[], \"N\":[], \"O\":[], \"H\":[]}\n",
    "\n",
    "for fock, overlap, file, _ in train:\n",
    "    mol = load(file, Backend.PY).native\n",
    "    dmX = BlockMatrix(mol, overlap)\n",
    "    dmY = BlockMatrix(mol, fock)\n",
    "    for element in elements:\n",
    "        for block in dmX.get_blocks_by_atom(element, block_type=\"center\"):\n",
    "            training_centers_X[element].append(block)\n",
    "        for block in dmY.get_blocks_by_atom(element, block_type=\"center\"):\n",
    "            training_centers_y[element].append(block)\n",
    "\n",
    "for fock, overlap, file, _ in test:\n",
    "    mol = load(file, Backend.PY).native\n",
    "    dmX = BlockMatrix(mol, overlap)\n",
    "    dmY = BlockMatrix(mol, fock)\n",
    "    for element in elements:\n",
    "        for block in dmX.get_blocks_by_atom(element, block_type=\"center\"):\n",
    "            test_centers_X[element].append(block)\n",
    "        for block in dmY.get_blocks_by_atom(element, block_type=\"center\"):\n",
    "            test_centers_y[element].append(block)\n"
   ]
  },
  {
   "cell_type": "code",
   "execution_count": null,
   "id": "6",
   "metadata": {},
   "outputs": [],
   "source": [
    "c_s = training_centers_X[\"C\"]\n",
    "for i in range(len(c_s)):\n",
    "    diff = c_s[0] - c_s[i]\n",
    "    if diff.sum() != 0: \n",
    "        print(\"Not equal\")\n",
    "# it seems that everything in sto-3g is actually the same\n",
    "mol1 = load(train_files[0], Backend.PY).native\n",
    "mol2 = load(train_files[1], Backend.PY).native\n",
    "center1 = BlockMatrix(mol1)\n",
    "center2 = BlockMatrix(mol2)\n",
    "mean_c_ovlp1 = np.mean(center1.get_blocks_by_atom(\"C\", block_type=\"center\"), axis=0)\n",
    "mean_c_ovlp2 = np.mean(center2.get_blocks_by_atom(\"C\", block_type=\"center\"), axis=0)\n",
    "fig, ax = plt.subplots(1, 2, figsize=(12, 6))\n",
    "ax[0].imshow(mean_c_ovlp1, cmap=\"RdBu\", vmin=-0.5, vmax=0.5)\n",
    "ax[0].set_title(\"Overlap\")\n",
    "ax[1].imshow(mean_c_ovlp2, cmap=\"RdBu\", vmin=-0.5, vmax=0.5)\n",
    "ax[1].set_title(\"Overlap2\")\n",
    "np.allclose(mean_c_ovlp1, mean_c_ovlp2)"
   ]
  },
  {
   "cell_type": "code",
   "execution_count": null,
   "id": "7",
   "metadata": {},
   "outputs": [],
   "source": [
    "# try different basis sets\n",
    "ex_overlap, ex_fock, ex_density = [], [], []\n",
    "mols = []\n",
    "for i, file in enumerate(train_files[:5]):\n",
    "    mol = load(file, Backend.PY)\n",
    "    mols.append(mol)\n",
    "    wf = calculate(mol, basis=\"6-31g\", guess=\"minao\", method=\"dft\", functional=\"b3lypg\")\n",
    "    ex_overlap.append(wf.overlap())\n",
    "    ex_fock.append(wf.fock())\n",
    "    ex_density.append(wf.density())\n"
   ]
  },
  {
   "cell_type": "code",
   "execution_count": null,
   "id": "8",
   "metadata": {},
   "outputs": [],
   "source": [
    "ex1, ex2 = 0,3\n",
    "center1 = BlockMatrix(mols[ex1].native, ex_fock[ex1].numpy)\n",
    "center2 = BlockMatrix(mols[ex2].native, ex_fock[ex2].numpy)\n",
    "fig, ax = plt.subplots(1, 2, figsize=(12, 6))\n",
    "ax[0].imshow(center1.Matrix, cmap=\"RdBu\", vmin=-0.5, vmax=0.5)\n",
    "ax[0].set_title(\"Overlap\")\n",
    "ax[1].imshow(center2.Matrix, cmap=\"RdBu\", vmin=-0.5, vmax=0.5)\n",
    "ax[1].set_title(\"Overlap2\")\n",
    "\n",
    "# They are also the SAME!!! - makes sense because center block is basically coef. \n",
    "c_mean1 = np.mean(center1.get_blocks_by_atom(\"C\", block_type=\"center\"), axis=0)\n",
    "c_mean2 = np.mean(center2.get_blocks_by_atom(\"C\", block_type=\"center\"), axis=0)\n",
    "fig, ax = plt.subplots(1, 2, figsize=(12, 6))\n",
    "# ax[0].imshow(c_mean1, cmap=\"RdBu\", vmin=-0.5, vmax=0.5)\n",
    "# ax[0].set_title(\"Overlap mean\")\n",
    "# ax[1].imshow(c_mean2, cmap=\"RdBu\", vmin=-0.5, vmax=0.5)\n",
    "# ax[1].set_title(\"Overlap2 mean\")\n",
    "# np.allclose(c_mean1, c_mean2)\n",
    "c1 = center1.get_blocks_by_atom(\"C\", block_type=\"center\")[0]\n",
    "c2 = center1.get_blocks_by_atom(\"C\", block_type=\"center\")[2]\n",
    "print(np.allclose(c1, c2))\n",
    "ax[0].imshow(c1, cmap=\"RdBu\", vmin=-0.5, vmax=0.5)\n",
    "ax[1].imshow(c2, cmap=\"RdBu\", vmin=-0.5, vmax=0.5)"
   ]
  },
  {
   "cell_type": "markdown",
   "id": "9",
   "metadata": {},
   "source": [
    "### 1a) Only learn the diagonal!"
   ]
  },
  {
   "cell_type": "code",
   "execution_count": null,
   "id": "10",
   "metadata": {},
   "outputs": [],
   "source": [
    "train_overlap_X = np.array([overlap for _, overlap, _, _ in train])\n",
    "test_overlap_X = np.array([overlap for _, overlap, _, _ in test])\n",
    "train_fock_diag = np.array([np.diag(fock) for fock, _, _, _ in train])\n",
    "test_fock_diag = np.array([np.diag(fock) for fock, _, _, _ in test])\n",
    "test_fock_full = np.array([fock for fock, _, _, _ in test])\n",
    "test_density_full = np.array([density for _, _, _, density in test])"
   ]
  },
  {
   "cell_type": "code",
   "execution_count": null,
   "id": "11",
   "metadata": {},
   "outputs": [],
   "source": [
    "import tensorflow as tf\n",
    "from tensorflow import keras\n",
    "import pickle, os, sys\n",
    "import numpy as np\n",
    "import matplotlib.pyplot as plt\n",
    "from sklearn.preprocessing import StandardScaler\n",
    "sys.path.append(\"..\")\n",
    "from utils import plot_mat_comp, flatten_triang, unflatten_triang, flatten_triang_batch, unflatten_triang_batch, perform_calculation, density_from_fock, reverse_mat_permutation, benchmark_cycles"
   ]
  },
  {
   "cell_type": "code",
   "execution_count": null,
   "id": "12",
   "metadata": {},
   "outputs": [],
   "source": [
    "train_overlap_X_flat = flatten_triang_batch(train_overlap_X)\n",
    "test_overlap_X_flat = flatten_triang_batch(test_overlap_X)\n",
    "\n",
    "# scalerX = StandardScaler()\n",
    "# scalerY = StandardScaler()\n",
    "\n",
    "train_overlap_X_flat.shape"
   ]
  },
  {
   "cell_type": "code",
   "execution_count": null,
   "id": "13",
   "metadata": {},
   "outputs": [],
   "source": [
    "train_fock_diag.shape"
   ]
  },
  {
   "cell_type": "code",
   "execution_count": null,
   "id": "14",
   "metadata": {},
   "outputs": [],
   "source": [
    "tf.random.set_seed(42)\n",
    "flattened_dim = train_overlap_X_flat.shape[1]\n",
    "diag_dim = train_fock_diag.shape[1]\n",
    "inputs = tf.keras.Input(shape=(flattened_dim,))\n",
    "x = tf.keras.layers.Dense(512, activation='relu')(inputs)\n",
    "x = tf.keras.layers.BatchNormalization()(x)\n",
    "x = tf.keras.layers.Dense(256, activation='relu')(x)\n",
    "x = tf.keras.layers.Dropout(0.3)(x)\n",
    "outputs = tf.keras.layers.Dense(diag_dim)(x)\n",
    "\n",
    "basic_model = tf.keras.Model(inputs=inputs, outputs=outputs)\n",
    "basic_model.compile(optimizer='adam', loss=\"mae\", metrics=[\"mse\", 'mae'])"
   ]
  },
  {
   "cell_type": "code",
   "execution_count": null,
   "id": "15",
   "metadata": {},
   "outputs": [],
   "source": [
    "# Define a log directory for TensorBoard\n",
    "log_dir = \"logs/fit/\" + datetime.datetime.now().strftime(\"%Y%m%d-%H%M%S\")\n",
    "tensorboard_callback = TensorBoard(log_dir=log_dir, histogram_freq=1)\n",
    "\n",
    "# Train the model with TensorBoard callback\n",
    "basic_history = basic_model.fit(\n",
    "    train_overlap_X_flat, \n",
    "    train_fock_diag, \n",
    "    epochs=250, \n",
    "    batch_size=32, \n",
    "    validation_split=0.2, \n",
    "    verbose=1, \n",
    "    callbacks=[tensorboard_callback]\n",
    ")\n",
    "\n",
    "# Plot the training and validation loss\n",
    "plt.plot(basic_history.history['loss'], label='train')\n",
    "plt.plot(basic_history.history['val_loss'], label='validation')\n",
    "plt.yscale('log')\n",
    "plt.legend()\n",
    "plt.xlabel('Epochs')\n",
    "plt.ylabel('mae')\n",
    "plt.title('Model loss')"
   ]
  },
  {
   "cell_type": "code",
   "execution_count": null,
   "id": "16",
   "metadata": {},
   "outputs": [],
   "source": [
    "# save models\n",
    "os.makedirs(\"models\", exist_ok=True)\n",
    "if os.path.exists(\"models/basic_model.keras\") and input(\"Overwrite existing model? (y/n)\") == \"y\":\n",
    "    os.remove(\"models/basic_model.keras\")\n",
    "    basic_model.save(\"models/basic_model.keras\")\n",
    "    print(\"Model saved\")\n",
    "else:\n",
    "    basic_model.save(\"models/basic_model.keras\")\n",
    "    print(\"Model saved\")\n"
   ]
  },
  {
   "cell_type": "code",
   "execution_count": null,
   "id": "17",
   "metadata": {},
   "outputs": [],
   "source": [
    "# load model\n",
    "basic_model = tf.keras.models.load_model(\"models/basic_model.keras\")\n",
    "print(basic_model.summary())"
   ]
  },
  {
   "cell_type": "code",
   "execution_count": null,
   "id": "18",
   "metadata": {},
   "outputs": [],
   "source": [
    "test_pred_fock_diag = basic_model.predict(test_overlap_X_flat)\n",
    "test_pred_fock_diag.shape"
   ]
  },
  {
   "cell_type": "code",
   "execution_count": null,
   "id": "19",
   "metadata": {},
   "outputs": [],
   "source": [
    "def reconstruct_Fock(diag, ovlp, K = 1.75): \n",
    "    \"\"\"Take diagonal and reconstruct the Fock matrix using GWH\n",
    "    \"\"\"\n",
    "    mat_dim = diag.shape[0]\n",
    "    out = np.zeros((mat_dim, mat_dim))\n",
    "    for i in range(mat_dim):\n",
    "        for j in range(mat_dim):\n",
    "            if i == j:\n",
    "                out[i, j] = diag[i]\n",
    "            else:\n",
    "                out[i, j] = K * ovlp[i, j] * (diag[i] + diag[j]) / 2\n",
    "    return out"
   ]
  },
  {
   "cell_type": "code",
   "execution_count": null,
   "id": "20",
   "metadata": {},
   "outputs": [],
   "source": [
    "# example comparison: \n",
    "rand_test_sample = np.random.randint(0, len(test_pred_fock_diag))\n",
    "pred_fock_example = reconstruct_Fock(test_pred_fock_diag[rand_test_sample], test_overlap_X[rand_test_sample])\n",
    "ground_truth_fock_example = test_fock_full[rand_test_sample]\n",
    "# compare with hückel and minao\n",
    "test_mol = load(test_files[rand_test_sample], Backend.PY)\n",
    "minao_guess = guess(test_mol, method=\"hf\", basis=\"sto-3g\", scheme=\"minao\")\n",
    "hueckel_guess = guess(test_mol, method=\"hf\", basis=\"sto-3g\", scheme=\"huckel\")\n",
    "plot_mat_comp(ground_truth_fock_example, pred_fock_example, title=\"Fock matrix prediction Basic NN\")\n",
    "plot_mat_comp(ground_truth_fock_example, minao_guess.fock().numpy, title=\"Fock matrix prediction MINAO\")\n",
    "plot_mat_comp(ground_truth_fock_example, hueckel_guess.fock().numpy, title=\"Fock matrix prediction Hückel\")"
   ]
  },
  {
   "cell_type": "markdown",
   "id": "21",
   "metadata": {},
   "source": [
    "Fock matrices look promising - let's check out the density matrices!"
   ]
  },
  {
   "cell_type": "code",
   "execution_count": null,
   "id": "22",
   "metadata": {},
   "outputs": [],
   "source": [
    "# Sanity check density reconstruction\n",
    "ground_truth_density = 2*test_density_full[rand_test_sample]\n",
    "#ground_truth_density_reconstucted = density_from_fock(test_fock_full[rand_test_sample], test_overlap_X[rand_test_sample], 32)\n",
    "#plot_mat_comp(2*ground_truth_density, ground_truth_density_reconstucted, title=\"Sanity check density reconstruction (Ref: 2*ref density vs. density_from_fock(ref fock, ref overlap))\")\n",
    "\n",
    "\n",
    "pred_density_example = density_from_fock(pred_fock_example, test_overlap_X[rand_test_sample], 32)\n",
    "plot_mat_comp(ground_truth_density, pred_density_example, title=\"Density matrix prediction Basic NN\")\n",
    "plot_mat_comp(ground_truth_density, minao_guess.density().numpy, title=\"Density matrix prediction MINAO\")\n",
    "plot_mat_comp(ground_truth_density, hueckel_guess.density().numpy, title=\"Density matrix prediction Hückel\")"
   ]
  },
  {
   "cell_type": "code",
   "execution_count": null,
   "id": "23",
   "metadata": {},
   "outputs": [],
   "source": [
    "# sanity check guessing: \n",
    "rand_test_sample = 0\n",
    "test_mol = load(test_files[rand_test_sample], Backend.PY)\n",
    "wf = calculate(test_mol, basis=\"sto-3g\", guess=\"minao\", method=\"dft\", functional=\"b3lypg\")\n",
    "print(wf.native.cycles)\n",
    "# compare with perform_calculation: \n",
    "res = perform_calculation(test_files[rand_test_sample], density_guess=2*guess(mol, method=\"dft\", basis=\"sto-3g\", scheme=\"minao\", functional=\"b3lypg\").density().numpy, basis_set=\"sto-3g\", method=\"dft\", functional=\"b3lypg\")\n",
    "print(res)\n",
    "# not exactly the same? idk why - let internal alg guess!"
   ]
  },
  {
   "cell_type": "code",
   "execution_count": null,
   "id": "24",
   "metadata": {},
   "outputs": [],
   "source": [
    "NN_density_pred = [density_from_fock(reconstruct_Fock(diag, ovlp), ovlp, 32) for diag, ovlp in zip(test_pred_fock_diag, test_overlap_X)]\n",
    "test_mols = [load(file, Backend.PY) for file in test_files]\n",
    "# Minao_guesses = [guess(mol, method=\"dft\", basis=\"sto-3g\", scheme=\"minao\", functional=\"b3lypg\").density().numpy for mol in test_mols]\n",
    "# One_e_guesses = [guess(mol, method=\"dft\", basis=\"sto-3g\", scheme=\"1e\", functional=\"b3lypg\").density().numpy  for mol in test_mols]\n",
    "# Atom_guesses = [guess(mol, method=\"dft\", basis=\"sto-3g\", scheme=\"atom\", functional=\"b3lypg\").density().numpy  for mol in test_mols]\n",
    "# Huckel_guesses = [guess(mol, method=\"dft\", basis=\"sto-3g\", scheme=\"huckel\", functional=\"b3lypg\").density().numpy  for mol in test_mols]\n",
    "# VSAP_guesses = [guess(mol, method=\"dft\", basis=\"sto-3g\", scheme=\"vsap\", functional=\"b3lypg\").density().numpy  for mol in test_mols]"
   ]
  },
  {
   "cell_type": "code",
   "execution_count": null,
   "id": "25",
   "metadata": {},
   "outputs": [],
   "source": [
    "from uncertainties import ufloat\n",
    "import time"
   ]
  },
  {
   "cell_type": "code",
   "execution_count": null,
   "id": "26",
   "metadata": {},
   "outputs": [],
   "source": [
    "# inference speed of models: \n",
    "times_ = {}\n",
    "for scheme in [\"NN\", \"Minao\", \"1e\", \"Atom\", \"Huckel\", \"VSAP\"]: \n",
    "    if scheme == \"NN\": \n",
    "        times_[scheme] = []\n",
    "        for ovlp in test_overlap_X:\n",
    "            start = time.time()\n",
    "            diag = basic_model.predict(flatten_triang(ovlp).reshape(1, -1)).squeeze()\n",
    "            density_from_fock(reconstruct_Fock(diag, ovlp), ovlp, 32)\n",
    "            end = time.time()\n",
    "            times_[scheme].append((end - start))\n",
    "    else:\n",
    "        times_[scheme] = []\n",
    "        for mol in test_mols:\n",
    "            start = time.time()\n",
    "            guess(mol, method=\"dft\", basis=\"sto-3g\", scheme=scheme, functional=\"b3lypg\").density().numpy\n",
    "            end = time.time()\n",
    "            times_[scheme].append((end - start))\n",
    "for key, value in times_.items():\n",
    "    times_[key] = ufloat(np.mean(value), np.std(value))\n",
    "print(\"Inference times for different schemes: \")\n",
    "for key, value in times_.items():\n",
    "    print(f\"{key}: {value:.2f} s\")"
   ]
  },
  {
   "cell_type": "code",
   "execution_count": null,
   "id": "27",
   "metadata": {},
   "outputs": [],
   "source": [
    "benchmark_val = times_[\"Minao\"]\n",
    "for key, value in times_.items():\n",
    "    print(f\"{key}: {value:.4f} s - {value/benchmark_val:.3f}x comp. MINAO\")"
   ]
  },
  {
   "cell_type": "code",
   "execution_count": null,
   "id": "28",
   "metadata": {},
   "outputs": [],
   "source": [
    "res = benchmark_cycles(test_files, density_guesses=[NN_density_pred, None, None, None, None, None], scheme_names=[\"NN\", \"Minao\", \"1e\", \"Atom\", \"Huckel\", \"VSAP\"], basis_set=\"sto-3g\", method=\"dft\", functional=\"b3lypg\", max_samples=50)"
   ]
  },
  {
   "cell_type": "code",
   "execution_count": null,
   "id": "29",
   "metadata": {},
   "outputs": [],
   "source": [
    "# save results\n",
    "import os\n",
    "os.makedirs(\"benchmark/basic_model\", exist_ok=True)\n",
    "with open(\"benchmark/basic_model/benchmark_results.pkl\", \"wb\") as f:\n",
    "    pickle.dump(res, f)"
   ]
  },
  {
   "cell_type": "code",
   "execution_count": null,
   "id": "30",
   "metadata": {},
   "outputs": [],
   "source": [
    "# load results\n",
    "with open(\"benchmark/basic_model/benchmark_results.pkl\", \"rb\") as f:\n",
    "    res = pickle.load(f)"
   ]
  },
  {
   "cell_type": "code",
   "execution_count": null,
   "id": "31",
   "metadata": {},
   "outputs": [],
   "source": [
    "for key, val in res.items():\n",
    "    cycles = np.array(val[\"cycles\"])\n",
    "    converged = val[\"converged\"]\n",
    "    cycles = cycles[converged]\n",
    "    cycle_avg = ufloat(np.mean(cycles), np.std(cycles))\n",
    "    print(f\"{key}: {cycle_avg:.2f} cycles - converged: {len(cycles)}/{len(converged)} - {len(cycles)/len(converged):.2f}x converged\")"
   ]
  },
  {
   "cell_type": "markdown",
   "id": "32",
   "metadata": {},
   "source": [
    "### 1b) Try on other dataset!"
   ]
  },
  {
   "cell_type": "markdown",
   "id": "33",
   "metadata": {},
   "source": []
  },
  {
   "cell_type": "code",
   "execution_count": null,
   "id": "34",
   "metadata": {},
   "outputs": [],
   "source": [
    "import sys, os\n",
    "from glob import glob\n",
    "scripts_path = \"../../scripts\"\n",
    "if scripts_path not in sys.path:\n",
    "    sys.path.append(scripts_path)\n",
    "from to_cache import density_fock_overlap\n"
   ]
  },
  {
   "cell_type": "code",
   "execution_count": null,
   "id": "35",
   "metadata": {},
   "outputs": [],
   "source": [
    "train_test_seed = 42\n",
    "source_path = '../../datasets/QM9/xyz_c7h10o2/'\n",
    "all_file_paths = glob(os.path.join(source_path, '*.xyz'))\n",
    "len(all_file_paths)"
   ]
  },
  {
   "cell_type": "code",
   "execution_count": null,
   "id": "36",
   "metadata": {},
   "outputs": [],
   "source": [
    "def load_cached(file_paths, cache_path, basis, guess=\"minao\", method=\"dft\", functional=\"b3lypg\", backend=\"pyscf\"):\n",
    "    error_list = []\n",
    "    error_files = []\n",
    "    focks = []\n",
    "    used_files = []\n",
    "    reference_densities = []\n",
    "    for file in file_paths:\n",
    "        mol_name = os.path.basename(file).strip()\n",
    "        # print(mol_name)\n",
    "        try: \n",
    "            ret = density_fock_overlap(filepath = file,\n",
    "                                filename = mol_name,\n",
    "                                method = method,\n",
    "                                basis = None,\n",
    "                                functional = functional,\n",
    "                                guess = guess,\n",
    "                                backend = backend,\n",
    "                                cache = cache_path)\n",
    "            # print(f\"Using: file={file} - mol_name={mol_name} - basis={None} - guess={guess} - method={method} - functional={functional}\")\n",
    "        except Exception as e: \n",
    "            error_list.append(e)\n",
    "            error_files.append(mol_name)\n",
    "            print(f\"File {mol_name} error - skipping\")\n",
    "            continue\n",
    "        if any([r == None for r in ret]): \n",
    "            print(f\"File {mol_name} bad - skipping\")\n",
    "            continue\n",
    "        focks.append(ret[1].numpy)\n",
    "        used_files.append(file)\n",
    "        reference_densities.append(ret[0].numpy)\n",
    "    print(f\"Got data for: {len(focks)} - bad / no ret: {len(file_paths) - len(focks) - len(error_list)} - errors: {len(error_list)}\")\n",
    "    print(error_files[:5])\n",
    "    return focks, reference_densities, used_files\n"
   ]
  },
  {
   "cell_type": "code",
   "execution_count": null,
   "id": "37",
   "metadata": {},
   "outputs": [],
   "source": [
    "ret = load_cached(all_file_paths, \"../../datasets/QM9/out/c7h10o2_b3lypg_6-31G(2df,p)/pyscf\", basis=\"6-31g_2df_p_custom_nwchem.gbs\")"
   ]
  }
 ],
 "metadata": {
  "kernelspec": {
   "display_name": "scf_guess_1_0",
   "language": "python",
   "name": "python3"
  },
  "language_info": {
   "codemirror_mode": {
    "name": "ipython",
    "version": 3
   },
   "file_extension": ".py",
   "mimetype": "text/x-python",
   "name": "python",
   "nbconvert_exporter": "python",
   "pygments_lexer": "ipython3",
   "version": "3.11.11"
  }
 },
 "nbformat": 4,
 "nbformat_minor": 5
}
