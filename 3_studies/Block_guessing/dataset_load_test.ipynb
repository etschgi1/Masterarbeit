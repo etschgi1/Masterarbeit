{
 "cells": [
  {
   "cell_type": "code",
   "execution_count": 12,
   "id": "99368eff",
   "metadata": {},
   "outputs": [
    {
     "name": "stdout",
     "output_type": "stream",
     "text": [
      "Train files: 400\n",
      "Validation files: 50\n",
      "Test files: 50\n"
     ]
    },
    {
     "data": {
      "text/plain": [
       "'dsC7O2H10nsd_1772'"
      ]
     },
     "execution_count": 12,
     "metadata": {},
     "output_type": "execute_result"
    }
   ],
   "source": [
    "from scf_guess_datasets import Qm9Isomeres\n",
    "\n",
    "dataset = Qm9Isomeres(\n",
    "    \"/home/dmilacher/datasets/data\", # data stored in /home/bob/datasets/qm9_isomeres\n",
    "    split_ratio=0.8, # train/val split (optional, just for testing)\n",
    ")\n",
    "\n",
    "train_files = [dataset.solution(key).path for key in dataset.train_keys]\n",
    "val_files = [dataset.solution(key).path for key in dataset.val_keys[:len(dataset.val_keys)//2]]\n",
    "test_files = [dataset.solution(key).path for key in dataset.val_keys[len(dataset.val_keys)//2:]]\n",
    "\n",
    "\n",
    "print(\"Train files:\", len(train_files))\n",
    "print(\"Validation files:\", len(val_files))\n",
    "print(\"Test files:\", len(test_files))\n",
    "dataset.names[0]"
   ]
  }
 ],
 "metadata": {
  "kernelspec": {
   "display_name": "scf_tools_311",
   "language": "python",
   "name": "python3"
  },
  "language_info": {
   "codemirror_mode": {
    "name": "ipython",
    "version": 3
   },
   "file_extension": ".py",
   "mimetype": "text/x-python",
   "name": "python",
   "nbconvert_exporter": "python",
   "pygments_lexer": "ipython3",
   "version": "3.11.13"
  }
 },
 "nbformat": 4,
 "nbformat_minor": 5
}
