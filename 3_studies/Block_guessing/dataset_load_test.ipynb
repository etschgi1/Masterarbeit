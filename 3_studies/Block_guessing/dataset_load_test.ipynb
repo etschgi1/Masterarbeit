{
 "cells": [
  {
   "cell_type": "code",
   "execution_count": 1,
   "id": "99368eff",
   "metadata": {},
   "outputs": [],
   "source": [
    "from scf_guess_datasets import Qm9Isomeres\n",
    "\n",
    "dataset = Qm9Isomeres(\n",
    "    \"/home/bob/datasets\", # data stored in /home/bob/datasets/qm9_isomeres\n",
    "    size=10, # number of molecules (optional, just for testing)\n",
    "    split_ratio=0.5, # train/val split (optional, just for testing)\n",
    ")\n"
   ]
  },
  {
   "cell_type": "code",
   "execution_count": null,
   "id": "3bbb0503",
   "metadata": {},
   "outputs": [],
   "source": []
  }
 ],
 "metadata": {
  "kernelspec": {
   "display_name": "scf_guess_1_0",
   "language": "python",
   "name": "python3"
  },
  "language_info": {
   "codemirror_mode": {
    "name": "ipython",
    "version": 3
   },
   "file_extension": ".py",
   "mimetype": "text/x-python",
   "name": "python",
   "nbconvert_exporter": "python",
   "pygments_lexer": "ipython3",
   "version": "3.11.11"
  }
 },
 "nbformat": 4,
 "nbformat_minor": 5
}
