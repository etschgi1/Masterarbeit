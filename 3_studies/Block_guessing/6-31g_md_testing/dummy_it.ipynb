{
 "cells": [
  {
   "cell_type": "markdown",
   "id": "8aaee42a",
   "metadata": {},
   "source": [
    "# Benchmark dummy iterations on md set!"
   ]
  },
  {
   "cell_type": "code",
   "execution_count": 3,
   "id": "213a589a",
   "metadata": {},
   "outputs": [
    {
     "name": "stdout",
     "output_type": "stream",
     "text": [
      "Project root directory: /home/etschgi1/REPOS/Masterarbeit\n",
      "Using device: cpu\n"
     ]
    }
   ],
   "source": [
    "import sys, os\n",
    "import numpy as np\n",
    "sys.path.append('../src/')\n",
    "import torch\n",
    "from mgnn.MolGraphNetwork import MolGraphNetwork\n",
    "from utils import find_repo_root\n",
    "from scf_guess_tools import Backend\n",
    "from scf_guess_datasets import Qm9IsomeresMd\n",
    "import scf_guess_datasets\n",
    "\n",
    "\n",
    "project_root_dir = find_repo_root()\n",
    "print(\"Project root directory:\", project_root_dir)\n",
    "BASIS_PATH = \"../../../scripts/6-31g_2df_p_custom_nwchem.gbs\"\n",
    "\n",
    "device = torch.device(\"cuda\" if torch.cuda.is_available() else \"cpu\")\n",
    "print(\"Using device:\", device)\n",
    "#Current best trial: ebffc_00023 with loss=3.290987253189087 and params={'batch_size': 16, 'hidden_dim': 512, 'message_passing_steps': 6, 'edge_threshold_val': 1., 'message_net_dropout': 0.09772288864576731, 'dat5122788896881607a_aug_factor': 1.0, 'message_net_layers': 5, 'lr': 0.0003257920597967229, 'weight_decay': 3.460137919135933e-06, 'num_epochs': 50, 'grace_epochs': 5, 'lr_factor': 0.5, 'lr_patience': 3, 'lr_threshold': 0.001, 'lr_cooldown': 2, 'lr_min': 1e-06}\n",
    "\n",
    "\n",
    "\n",
    "local_pc_path = os.path.join(project_root_dir, \"datasets/QM9\") if str(device) != \"cuda\" else \"/home/dmilacher/datasets/data1\"\n",
    "dataset = Qm9IsomeresMd(\n",
    "    local_pc_path, \n",
    "    size = 500, # number of molecules to load\n",
    "    val=0.1, # using 80% training / 10 % val / 10% test split\n",
    "    test=0.1\n",
    ")"
   ]
  },
  {
   "cell_type": "code",
   "execution_count": 4,
   "id": "4a88678e",
   "metadata": {},
   "outputs": [],
   "source": [
    "# dummy model\n",
    "densities, focks, overlaps = [], [], []\n",
    "for key in dataset.train_keys: \n",
    "    sample = dataset.solution(key)\n",
    "    densities.append(sample.density)\n",
    "    focks.append(sample.fock)\n",
    "    overlaps.append(sample.overlap)\n",
    "dummy_densities = np.mean(np.array(densities), axis=0)\n",
    "dummy_focks = np.mean(np.array(focks), axis=0)\n",
    "dummy_overlaps = np.mean(np.array(overlaps), axis=0)"
   ]
  },
  {
   "cell_type": "code",
   "execution_count": 6,
   "id": "2d2f8cb8",
   "metadata": {},
   "outputs": [
    {
     "name": "stdout",
     "output_type": "stream",
     "text": [
      "Sample 0: Cycles with own guess: 18\n",
      "Sample 1: Cycles with own guess: 18\n",
      "Sample 2: Cycles with own guess: 16\n",
      "Sample 3: Cycles with own guess: 19\n",
      "Sample 4: Cycles with own guess: 17\n",
      "Sample 5: Cycles with own guess: 18\n",
      "Sample 6: Cycles with own guess: 17\n",
      "Sample 7: Cycles with own guess: 17\n",
      "Sample 8: Cycles with own guess: 16\n",
      "Sample 9: Cycles with own guess: 16\n",
      "Sample 10: Cycles with own guess: 17\n",
      "Sample 11: Cycles with own guess: 17\n",
      "Sample 12: Cycles with own guess: 16\n",
      "Sample 13: Cycles with own guess: 17\n",
      "Sample 14: Cycles with own guess: 16\n",
      "Sample 15: Cycles with own guess: 17\n",
      "Sample 16: Cycles with own guess: 16\n",
      "Sample 17: Cycles with own guess: 18\n",
      "Sample 18: Cycles with own guess: 17\n",
      "Sample 19: Cycles with own guess: 16\n",
      "Sample 20: Cycles with own guess: 17\n",
      "Sample 21: Cycles with own guess: 16\n",
      "Sample 22: Cycles with own guess: 17\n",
      "Sample 23: Cycles with own guess: 16\n",
      "Sample 24: Cycles with own guess: 17\n",
      "Sample 25: Cycles with own guess: 17\n",
      "Sample 26: Cycles with own guess: 17\n",
      "Sample 27: Cycles with own guess: 18\n",
      "Sample 28: Cycles with own guess: 17\n",
      "Sample 29: Cycles with own guess: 18\n",
      "Sample 30: Cycles with own guess: 17\n",
      "Sample 31: Cycles with own guess: 18\n",
      "Sample 32: Cycles with own guess: 18\n",
      "Sample 33: Cycles with own guess: 16\n",
      "Sample 34: Cycles with own guess: 17\n",
      "Sample 35: Cycles with own guess: 17\n",
      "Sample 36: Cycles with own guess: 18\n",
      "Sample 37: Cycles with own guess: 20\n",
      "Sample 38: Cycles with own guess: 17\n",
      "Sample 39: Cycles with own guess: 16\n",
      "Sample 40: Cycles with own guess: 16\n",
      "Sample 41: Cycles with own guess: 17\n",
      "Sample 42: Cycles with own guess: 16\n",
      "Sample 43: Cycles with own guess: 16\n",
      "Sample 44: Cycles with own guess: 16\n",
      "Sample 45: Cycles with own guess: 16\n",
      "Sample 46: Cycles with own guess: 16\n",
      "Sample 47: Cycles with own guess: 16\n",
      "Sample 48: Cycles with own guess: 16\n",
      "Sample 49: Cycles with own guess: 19\n",
      "Dummy: 16.94 +- 0.95 iterations\n"
     ]
    }
   ],
   "source": [
    "dummy_iterations = []\n",
    "for i, key in enumerate(dataset.test_keys): \n",
    "    solver = dataset.solver(key)\n",
    "    overlap, hcore, density, fock, status = scf_guess_datasets.solve(solver, dummy_densities.astype(np.float64))\n",
    "    dummy_iterations.append(status.iterations)\n",
    "    print(f\"Sample {i}: Cycles with own guess: {status.iterations}\")\n",
    "print(f\"Dummy: {np.mean(dummy_iterations):.2f} +- {np.std(dummy_iterations):.2f} iterations\")"
   ]
  },
  {
   "cell_type": "code",
   "execution_count": null,
   "id": "1290742a",
   "metadata": {},
   "outputs": [],
   "source": []
  }
 ],
 "metadata": {
  "kernelspec": {
   "display_name": "scf_guess_1_0",
   "language": "python",
   "name": "python3"
  },
  "language_info": {
   "codemirror_mode": {
    "name": "ipython",
    "version": 3
   },
   "file_extension": ".py",
   "mimetype": "text/x-python",
   "name": "python",
   "nbconvert_exporter": "python",
   "pygments_lexer": "ipython3",
   "version": "3.11.11"
  }
 },
 "nbformat": 4,
 "nbformat_minor": 5
}
