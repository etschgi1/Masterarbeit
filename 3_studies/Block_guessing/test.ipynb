{
 "cells": [
  {
   "cell_type": "code",
   "execution_count": null,
   "id": "be940aff",
   "metadata": {},
   "outputs": [
    {
     "data": {
      "text/plain": [
       "array([ 0.2192031, -0.2192031, -0.24     ])"
      ]
     },
     "execution_count": 11,
     "metadata": {},
     "output_type": "execute_result"
    }
   ],
   "source": [
    "import numpy as np\n",
    "\n",
    "s2 = 1/np.sqrt(2)\n",
    "D = np.array([[s2, -s2, 0],\n",
    "              [s2, s2, 0],\n",
    "              [0, 0, 1]])\n",
    "v = np.array([0, -0.31, -0.24])\n",
    "D @ v"
   ]
  }
 ],
 "metadata": {
  "kernelspec": {
   "display_name": "scf_guess_1_0",
   "language": "python",
   "name": "python3"
  },
  "language_info": {
   "codemirror_mode": {
    "name": "ipython",
    "version": 3
   },
   "file_extension": ".py",
   "mimetype": "text/x-python",
   "name": "python",
   "nbconvert_exporter": "python",
   "pygments_lexer": "ipython3",
   "version": "3.11.11"
  }
 },
 "nbformat": 4,
 "nbformat_minor": 5
}
