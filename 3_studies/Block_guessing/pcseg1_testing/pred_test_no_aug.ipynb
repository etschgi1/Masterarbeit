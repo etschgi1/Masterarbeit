{
 "cells": [
  {
   "cell_type": "code",
   "execution_count": 2,
   "id": "c7cb7472",
   "metadata": {},
   "outputs": [
    {
     "name": "stdout",
     "output_type": "stream",
     "text": [
      "Setting verbose level to: 2\n",
      "Loading 6095 files from /home/etschgi1/REPOS/Masterarbeit/datasets/QM9/xyz_c7h10o2_sorted...\n",
      "Limiting to 500 samples out of 6095 total files.\n"
     ]
    },
    {
     "name": "stderr",
     "output_type": "stream",
     "text": [
      "Loading files: 100%|██████████| 500/500 [00:01<00:00, 280.19it/s]\n",
      "Creating graphs: 500it [00:07, 65.88it/s]\n"
     ]
    },
    {
     "name": "stdout",
     "output_type": "stream",
     "text": [
      "Total samples: 500, Train: 400, Val: 50, Test: 50\n",
      "Found 3 center keys (['C', 'H', 'O']) and 6 edge keys (['C_C', 'C_H', 'C_O', 'H_H', 'H_O', 'O_O']) in the training set. -> Totaling 9 unique encoder/decoder.\n",
      "Normalization factors computed and applied.\n",
      "Center stats: {'C': (0.08876161012622669, 0.2718006012560008), 'H': (0.3772194703420003, 0.4689655636092979), 'O': (0.08879295911475421, 0.27185695530549353)}, Edge stats: {'C_C': (0.0008463309857415035, 0.057830478500747705), 'C_H': (0.0025379841484101653, 0.05653442009867644), 'C_O': (0.000286443963509968, 0.03872239186405743), 'H_H': (0.00571588151640885, 0.036311602871046525), 'H_O': (0.004334431630765828, 0.06920269711061201), 'O_O': (-0.00042118067444802976, 0.09066468787597039)}\n",
      "First train batch: 38 atoms, 662 edges, 38 center blocks.\n",
      "Found center block size 351 for atom type O.\n",
      "Found center block size 351 for atom type C.\n",
      "Found center block size 15 for atom type H.\n",
      "Found edge block size 676 for edge type O_O.\n",
      "Found edge block size 676 for edge type C_O.\n",
      "Found edge block size 130 for edge type H_O.\n",
      "Found edge block size 676 for edge type C_C.\n",
      "Found edge block size 130 for edge type C_H.\n",
      "Found edge block size 25 for edge type H_H.\n",
      "Message net: MessageNet(\n",
      "  (net): Sequential(\n",
      "    (0): Linear(in_features=768, out_features=256, bias=True)\n",
      "    (1): GELU(approximate='none')\n",
      "    (2): Dropout(p=0.1, inplace=False)\n",
      "    (3): Linear(in_features=256, out_features=256, bias=True)\n",
      "    (4): GELU(approximate='none')\n",
      "    (5): Dropout(p=0.1, inplace=False)\n",
      "    (6): Linear(in_features=256, out_features=256, bias=True)\n",
      "    (7): GELU(approximate='none')\n",
      "    (8): Dropout(p=0.1, inplace=False)\n",
      "    (9): Linear(in_features=256, out_features=256, bias=True)\n",
      "    (10): GELU(approximate='none')\n",
      "    (11): Dropout(p=0.1, inplace=False)\n",
      "    (12): Linear(in_features=256, out_features=256, bias=True)\n",
      "    (13): GELU(approximate='none')\n",
      "  )\n",
      ")\n",
      "---\n",
      "Model setup (encoders / decoders message net) complete!\n",
      "Total encoders / decoders / updaters: 21, Node: 3 (['C', 'H', 'O'] - atom types) * 3 (enc, dec, update), Edge: 6 (['C_C', 'C_H', 'C_O', 'H_H', 'H_O', 'O_O'] - overlap types) * 2 (enc, dec).\n"
     ]
    }
   ],
   "source": [
    "import sys, os\n",
    "import numpy as np\n",
    "sys.path.append('../src/')\n",
    "import torch\n",
    "from MolGraphNetwork import MolGraphNetwork\n",
    "from scf_guess_tools import Backend\n",
    "\n",
    "BASIS_PATH = \"/home/etschgi1/REPOS/Masterarbeit/scripts/6-31g_2df_p_custom_nwchem.gbs\"\n",
    "GEOMETRY_Source = \"/home/etschgi1/REPOS/Masterarbeit/datasets/QM9/xyz_c7h10o2_sorted\"\n",
    "\n",
    "device = torch.device(\"cuda\" if torch.cuda.is_available() else \"cpu\")\n",
    "MGNN = MolGraphNetwork(xyz_source=GEOMETRY_Source,\n",
    "                       basis=BASIS_PATH,\n",
    "                       backend=Backend.PY,\n",
    "                       batch_size=2,\n",
    "                       train_val_test_ratio=(0.8, 0.1, 0.1), \n",
    "                       message_passing_steps=5,\n",
    "                       edge_threshold_val=5,\n",
    "                       message_net_layers=5,\n",
    "                       message_net_dropout=0.1,\n",
    "                       target=\"fock\",\n",
    "                       verbose_level=2)\n",
    "MGNN.load_data(max_samples=500,\n",
    "               cache_meta = {\"method\":\"dft\", \"basis\":None, \"functional\": \"b3lypg\", \"guess\": \"minao\", \"backend\": \"pyscf\", \"cache\": \"/home/etschgi1/REPOS/Masterarbeit/datasets/QM9/out/c7h10o2_b3lypg_6-31G(2df,p)/pyscf\"})"
   ]
  }
 ],
 "metadata": {
  "kernelspec": {
   "display_name": "scf_guess_1_0",
   "language": "python",
   "name": "python3"
  },
  "language_info": {
   "codemirror_mode": {
    "name": "ipython",
    "version": 3
   },
   "file_extension": ".py",
   "mimetype": "text/x-python",
   "name": "python",
   "nbconvert_exporter": "python",
   "pygments_lexer": "ipython3",
   "version": "3.11.11"
  }
 },
 "nbformat": 4,
 "nbformat_minor": 5
}
