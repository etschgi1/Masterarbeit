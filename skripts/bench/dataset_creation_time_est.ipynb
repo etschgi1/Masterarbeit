{
 "cells": [
  {
   "cell_type": "markdown",
   "metadata": {},
   "source": [
    "# Projected time for dataset creation"
   ]
  },
  {
   "cell_type": "code",
   "execution_count": 2,
   "metadata": {},
   "outputs": [],
   "source": [
    "import time, random, os, re\n",
    "from scf_guess_tools import Backend, load, calculate\n",
    "rng_seed = 42\n",
    "random.seed(rng_seed)"
   ]
  },
  {
   "cell_type": "code",
   "execution_count": 3,
   "metadata": {},
   "outputs": [],
   "source": [
    "def get_ref_energy(file):\n",
    "    with open(file, \"r\") as f: \n",
    "        l2 = f.readlines()[1]\n",
    "    return float(l2.split(\"\\t\")[11])\n",
    "\n",
    "def create_valid_xyz(file): # why psi4???\n",
    "        \"\"\"Create a valid xyz which is suitable for psi\"\"\"\n",
    "        with open(file, \"r\") as f: \n",
    "            raw = f.readlines()\n",
    "        filename = os.path.basename(file).split(\".\")[0]\n",
    "        cleaned = raw[:2]\n",
    "        for c, l in enumerate(raw[2:]): #first 2 lines ok!\n",
    "            atom_sym = l.split(\"\\t\")[0]\n",
    "            if not re.match(\"^[A-Z][a-z]?$\", atom_sym): \n",
    "                break\n",
    "            xyz_data = \"\\t\".join(l.split(\"\\t\")[:4])+\"\\n\"\n",
    "            cleaned.append(xyz_data)\n",
    "        temp_path = f\"/tmp/{filename}_valid.xyz\" # got enough for now\n",
    "        with open(temp_path, \"w\") as f: \n",
    "            f.writelines(cleaned)\n",
    "        return temp_path"
   ]
  },
  {
   "cell_type": "code",
   "execution_count": 6,
   "metadata": {},
   "outputs": [
    {
     "name": "stdout",
     "output_type": "stream",
     "text": [
      "Starting calculations with Psi4\n",
      "Calculating 1/10\n"
     ]
    },
    {
     "ename": "ImportError",
     "evalue": "cannot import name 'psi' from 'scf_guess_tools' (/home/ewachmann/.conda/envs/scf_tools_311/envs/scf_tools_MA_311/lib/python3.11/site-packages/scf_guess_tools/__init__.py)",
     "output_type": "error",
     "traceback": [
      "\u001b[31m---------------------------------------------------------------------------\u001b[39m",
      "\u001b[31mImportError\u001b[39m                               Traceback (most recent call last)",
      "\u001b[36mCell\u001b[39m\u001b[36m \u001b[39m\u001b[32mIn[6]\u001b[39m\u001b[32m, line 22\u001b[39m\n\u001b[32m     20\u001b[39m start_ = time.time()\n\u001b[32m     21\u001b[39m valid_file = create_valid_xyz(f)\n\u001b[32m---> \u001b[39m\u001b[32m22\u001b[39m mol = \u001b[43mload\u001b[49m\u001b[43m(\u001b[49m\u001b[43mvalid_file\u001b[49m\u001b[43m,\u001b[49m\u001b[43m \u001b[49m\u001b[43mbackend\u001b[49m\u001b[43m)\u001b[49m\n\u001b[32m     23\u001b[39m wf = calculate(mol, basis_path_psi4, \u001b[38;5;28;01mNone\u001b[39;00m, method=\u001b[33m\"\u001b[39m\u001b[33mdft\u001b[39m\u001b[33m\"\u001b[39m, functional=\u001b[33m\"\u001b[39m\u001b[33mb3lyp\u001b[39m\u001b[33m\"\u001b[39m, cache=\u001b[38;5;28;01mFalse\u001b[39;00m) \u001b[38;5;66;03m# no cache to get true comp. time\u001b[39;00m\n\u001b[32m     24\u001b[39m energy = wf.electronic_energy() + wf.nuclear_repulsion_energy()\n",
      "\u001b[36mFile \u001b[39m\u001b[32m~/.conda/envs/scf_tools_311/envs/scf_tools_MA_311/lib/python3.11/site-packages/scf_guess_tools/molecule.py:90\u001b[39m, in \u001b[36mload\u001b[39m\u001b[34m(path, backend, **kwargs)\u001b[39m\n",
      "\u001b[36mFile \u001b[39m\u001b[32m~/.conda/envs/scf_tools_311/envs/scf_tools_MA_311/lib/python3.11/site-packages/scf_guess_tools/proxy.py:22\u001b[39m, in \u001b[36mproxy\u001b[39m\u001b[34m(backend, resolve, *args, **kwargs)\u001b[39m\n",
      "\u001b[31mImportError\u001b[39m: cannot import name 'psi' from 'scf_guess_tools' (/home/ewachmann/.conda/envs/scf_tools_311/envs/scf_tools_MA_311/lib/python3.11/site-packages/scf_guess_tools/__init__.py)"
     ]
    }
   ],
   "source": [
    "xyz_source = \"../../datasets/QM9/xyz_c7h10o2/\"\n",
    "all_files = [os.path.join(xyz_source, f) for f in os.listdir(xyz_source) if f.endswith(\".xyz\")]\n",
    "\n",
    "# take a small sample (10 for now)\n",
    "sample_size = 10\n",
    "files_to_calc = random.sample(all_files, sample_size)\n",
    "\n",
    "basis_pyscf = \"6-31G(2df,p)\"\n",
    "basis_path_psi4 = \"../../datasets/basis/6-31g_2df_p.gbs\"\n",
    "\n",
    "pyscf_energies, psi4_energies = [], []\n",
    "pyscf_times, psi4_times = [], []\n",
    "reference_energies = [get_ref_energy(f) for f in files_to_calc]\n",
    "\n",
    "# psi4\n",
    "backend = Backend.PSI\n",
    "print(\"Starting calculations with Psi4\")\n",
    "for i, f in enumerate(files_to_calc):\n",
    "    print(f\"Calculating {i+1}/{sample_size}\")\n",
    "    start_ = time.time()\n",
    "    valid_file = create_valid_xyz(f)\n",
    "    mol = load(valid_file, backend)\n",
    "    wf = calculate(mol, basis_path_psi4, None, method=\"dft\", functional=\"b3lyp\", cache=False) # no cache to get true comp. time\n",
    "    energy = wf.electronic_energy() + wf.nuclear_repulsion_energy()\n",
    "    psi4_times.append(time.time() - start_)\n",
    "    psi4_energies.append(energy)\n",
    "\n",
    "# pyscf\n",
    "backend = Backend.PY\n",
    "print(\"Starting calculations with PySCF\")\n",
    "for i, f in enumerate(files_to_calc):\n",
    "    print(f\"Calculating {i+1}/{sample_size}\")\n",
    "    start_ = time.time()\n",
    "    mol = load(f, backend)\n",
    "    wf = calculate(mol, basis_pyscf, None, method=\"dft\", functional=\"b3lypg\", cache=False) # no cache to get true comp. time\n",
    "    energy = wf.electronic_energy() + wf.nuclear_repulsion_energy()\n",
    "    pyscf_times.append(time.time() - start_)\n",
    "    pyscf_energies.append(energy)\n"
   ]
  },
  {
   "cell_type": "code",
   "execution_count": null,
   "metadata": {},
   "outputs": [],
   "source": [
    "import matplotlib.pyplot as plt\n",
    "\n",
    "energy_diffs_pyscf = [(ref - calc) for ref, calc in zip(reference_energies, pyscf_energies)]\n",
    "energy_diffs_psi4 = [(ref - calc) for ref, calc in zip(reference_energies, psi4_energies)]\n",
    "\n",
    "plt.plot(energy_diffs_pyscf, label=\"PySCF\")\n",
    "plt.plot(energy_diffs_psi4, label=\"Psi4\")\n",
    "plt.ylabel(\"Energy difference (Hartree)\")\n",
    "plt.xlabel(\"Molecule Nr.\")\n",
    "\n",
    "plt.close()\n"
   ]
  }
 ],
 "metadata": {
  "kernelspec": {
   "display_name": "Python 3",
   "language": "python",
   "name": "python3"
  },
  "language_info": {
   "codemirror_mode": {
    "name": "ipython",
    "version": 3
   },
   "file_extension": ".py",
   "mimetype": "text/x-python",
   "name": "python",
   "nbconvert_exporter": "python",
   "pygments_lexer": "ipython3",
   "version": "3.11.11"
  }
 },
 "nbformat": 4,
 "nbformat_minor": 2
}
