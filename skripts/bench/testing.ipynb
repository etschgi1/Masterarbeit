{
 "cells": [
  {
   "cell_type": "code",
   "execution_count": 4,
   "metadata": {},
   "outputs": [
    {
     "name": "stdout",
     "output_type": "stream",
     "text": [
      "Backend.PSI\n",
      "-76.01048005458178\n",
      "converged SCF energy = -75.632821617601\n",
      "<class 'pyscf.scf.hf_symm.SymAdaptedRHF'> wavefunction is stable in the internal stability analysis\n",
      "Backend.PY\n",
      "-75.63282161760092\n",
      "Native psi4\n",
      "-76.010455282012\n",
      "converged SCF energy = -76.0090830181251\n",
      "Native pyscf\n",
      "-76.00908301812514\n"
     ]
    }
   ],
   "source": [
    "from scf_guess_tools import guess, calculate, load, Backend\n",
    "\n",
    "\n",
    "h2o_path = \"/home/etschgi1/REPOS/Masterarbeit/scf_guess_tools/tests/molecules/geometries/h2o.xyz\"\n",
    "\n",
    "for backend in [Backend.PSI, Backend.PY]:\n",
    "    molecule = load(h2o_path, backend)\t\n",
    "    # guess_ = guess(molecule, \"sto-3g\", method=\"dft\", functional=\"b3lyp\")\n",
    "    result = calculate(molecule, \"6-31G*\", method=\"hf\")# method=\"dft\", functional=\"b3lyp\")\n",
    "\n",
    "    # print(guess_.electronic_energy())\n",
    "    print(backend)\n",
    "    print(result.electronic_energy()+result.nuclear_repulsion_energy())\n",
    "\n",
    "#manual psi4:\n",
    "import psi4\n",
    "with open(h2o_path, \"r\") as f:\n",
    "    content = f.read()\n",
    "mol = psi4.geometry(content)\n",
    "psi4.set_options({\"basis\": \"6-31G*\"})\n",
    "psi4_energy = psi4.energy(\"hf\")\n",
    "print(\"Native psi4\")\n",
    "print(psi4_energy)\n",
    "\n",
    "#manual pyscf: \n",
    "from pyscf import gto, scf\n",
    "mol = gto.M(atom=h2o_path, basis=\"6-31G*\")\n",
    "mf = scf.RHF(mol)\n",
    "hf_energy = mf.kernel()\n",
    "print(\"Native pyscf\")\n",
    "print(hf_energy) \n",
    "\n"
   ]
  }
 ],
 "metadata": {
  "kernelspec": {
   "display_name": "base",
   "language": "python",
   "name": "python3"
  },
  "language_info": {
   "codemirror_mode": {
    "name": "ipython",
    "version": 3
   },
   "file_extension": ".py",
   "mimetype": "text/x-python",
   "name": "python",
   "nbconvert_exporter": "python",
   "pygments_lexer": "ipython3",
   "version": "3.12.2"
  }
 },
 "nbformat": 4,
 "nbformat_minor": 2
}
