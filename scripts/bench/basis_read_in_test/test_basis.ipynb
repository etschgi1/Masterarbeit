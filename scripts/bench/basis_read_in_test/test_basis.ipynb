{
 "cells": [
  {
   "cell_type": "code",
   "execution_count": 45,
   "metadata": {},
   "outputs": [],
   "source": [
    "import pyscf\n",
    "from pyscf import dft\n",
    "from pyscf import gto\n",
    "file_ = \"../../../datasets/QM9/xyz/dsgdb9nsd_000001.xyz\"\n",
    "basis_file = \"6-31g_2df_p_custom_nwchem.gbs\"\n",
    "xyz_data = None\n",
    "with open(file_, \"r\") as f: \n",
    "    xyz_data = f.read()"
   ]
  },
  {
   "cell_type": "code",
   "execution_count": 46,
   "metadata": {},
   "outputs": [],
   "source": [
    "# Parse the xyz_data into a format PySCF can understand\n",
    "lines = xyz_data.splitlines()\n",
    "num_atoms = int(lines[0])  # First line contains the number of atoms\n",
    "atom_data = lines[2:2 + num_atoms]  # Skip the first two lines (header) and get atom data\n",
    "\n",
    "\n",
    "atom = []\n",
    "for line in atom_data:\n",
    "\tparts = line.split()\n",
    "\tatom.append(f\"{parts[0]} {parts[1]} {parts[2]} {parts[3]}\")  # Format: \"Element x y z\"\n",
    "atom = \"; \".join(atom)"
   ]
  },
  {
   "cell_type": "code",
   "execution_count": 47,
   "metadata": {},
   "outputs": [],
   "source": [
    "import re\n",
    "def parseBasis(filepath): \n",
    "    with open(filepath, \"r\") as f: \n",
    "        content = f.read()\n",
    "    basis_set_matches = [(match.group(1), match.start()) for match in re.finditer(r\"#BASIS SET:.*\\n([A-Z][a-z]?)\", content)]\n",
    "    block_matches = [(match.start(), match.end()) for match in re.finditer(r\"#BASIS SET:.*?(?=#BASIS SET:|END)\", content, re.DOTALL)]\n",
    "    blocks = {key:gto.basis.load(filepath, key) for key, _ in basis_set_matches}\n",
    "    return blocks\n"
   ]
  },
  {
   "cell_type": "code",
   "execution_count": 48,
   "metadata": {},
   "outputs": [],
   "source": [
    "# builtin basis\n",
    "mol = pyscf.gto.M(atom=atom, basis='6-31g(2df,p)', charge=0, spin=0)"
   ]
  },
  {
   "cell_type": "code",
   "execution_count": 49,
   "metadata": {},
   "outputs": [
    {
     "data": {
      "text/plain": [
       "<pyscf.gto.mole.Mole at 0x7e14097c9750>"
      ]
     },
     "execution_count": 49,
     "metadata": {},
     "output_type": "execute_result"
    }
   ],
   "source": [
    "dict_ = parseBasis(basis_file)\n",
    "mol2 = gto.M()\n",
    "mol2.atom = atom\n",
    "mol2.basis = dict_\n",
    "mol2.build()"
   ]
  },
  {
   "cell_type": "code",
   "execution_count": 50,
   "metadata": {},
   "outputs": [
    {
     "name": "stdout",
     "output_type": "stream",
     "text": [
      "converged SCF energy = -40.5231128730963\n"
     ]
    },
    {
     "data": {
      "text/plain": [
       "np.float64(-40.52311287309634)"
      ]
     },
     "execution_count": 50,
     "metadata": {},
     "output_type": "execute_result"
    }
   ],
   "source": [
    "mf = dft.RKS(mol)\n",
    "mf.xc = 'b3lypg'\n",
    "mf.kernel()"
   ]
  },
  {
   "cell_type": "code",
   "execution_count": 51,
   "metadata": {},
   "outputs": [
    {
     "name": "stdout",
     "output_type": "stream",
     "text": [
      "converged SCF energy = -40.5230314176623\n"
     ]
    },
    {
     "data": {
      "text/plain": [
       "np.float64(-40.52303141766232)"
      ]
     },
     "execution_count": 51,
     "metadata": {},
     "output_type": "execute_result"
    }
   ],
   "source": [
    "mf = dft.RKS(mol2)\n",
    "mf.xc = 'b3lypg'\n",
    "mf.kernel()"
   ]
  },
  {
   "cell_type": "code",
   "execution_count": 52,
   "metadata": {},
   "outputs": [],
   "source": [
    "from scf_guess_tools import Backend, load, calculate\n",
    "\n",
    "backend = Backend.PY\n",
    "\n",
    "mol1 = load(file_, backend=backend)\n",
    "mol2 = load(file_, backend=backend)"
   ]
  },
  {
   "cell_type": "code",
   "execution_count": 57,
   "metadata": {},
   "outputs": [
    {
     "name": "stdout",
     "output_type": "stream",
     "text": [
      "converged SCF energy = -40.5230314176993\n"
     ]
    },
    {
     "data": {
      "text/plain": [
       "<scf_guess_tools.py.wavefunction.Wavefunction at 0x7e1462b28350>"
      ]
     },
     "execution_count": 57,
     "metadata": {},
     "output_type": "execute_result"
    }
   ],
   "source": [
    "calculate(mol1, basis_file, \"minao\", \"dft\", \"b3lypg\")"
   ]
  },
  {
   "cell_type": "code",
   "execution_count": 54,
   "metadata": {},
   "outputs": [
    {
     "name": "stdout",
     "output_type": "stream",
     "text": [
      "converged SCF energy = -40.523112874433\n"
     ]
    },
    {
     "data": {
      "text/plain": [
       "<scf_guess_tools.py.wavefunction.Wavefunction at 0x7e141c28be10>"
      ]
     },
     "execution_count": 54,
     "metadata": {},
     "output_type": "execute_result"
    }
   ],
   "source": [
    "calculate(mol1, \"6-31g(2df,p)\", \"minao\", \"dft\", \"b3lypg\")"
   ]
  }
 ],
 "metadata": {
  "kernelspec": {
   "display_name": "scf_guess_1_0",
   "language": "python",
   "name": "python3"
  },
  "language_info": {
   "codemirror_mode": {
    "name": "ipython",
    "version": 3
   },
   "file_extension": ".py",
   "mimetype": "text/x-python",
   "name": "python",
   "nbconvert_exporter": "python",
   "pygments_lexer": "ipython3",
   "version": "3.11.11"
  }
 },
 "nbformat": 4,
 "nbformat_minor": 2
}
